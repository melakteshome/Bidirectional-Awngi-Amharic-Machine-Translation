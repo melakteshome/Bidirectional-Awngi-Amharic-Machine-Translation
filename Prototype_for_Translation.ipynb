{
  "nbformat": 4,
  "nbformat_minor": 0,
  "metadata": {
    "colab": {
      "provenance": []
    },
    "kernelspec": {
      "name": "python3",
      "display_name": "Python 3"
    },
    "language_info": {
      "name": "python"
    },
    "widgets": {
      "application/vnd.jupyter.widget-state+json": {
        "0d13ce9cdf0d46e0a8e8d58ecc10183b": {
          "model_module": "@jupyter-widgets/controls",
          "model_name": "HBoxModel",
          "model_module_version": "1.5.0",
          "state": {
            "_dom_classes": [],
            "_model_module": "@jupyter-widgets/controls",
            "_model_module_version": "1.5.0",
            "_model_name": "HBoxModel",
            "_view_count": null,
            "_view_module": "@jupyter-widgets/controls",
            "_view_module_version": "1.5.0",
            "_view_name": "HBoxView",
            "box_style": "",
            "children": [
              "IPY_MODEL_151106c26436495db3f627820b1f6792",
              "IPY_MODEL_dfb2466203d544748b053f64a498b5a4"
            ],
            "layout": "IPY_MODEL_45943000dee5412ca3ef0a038f8e3193"
          }
        },
        "151106c26436495db3f627820b1f6792": {
          "model_module": "@jupyter-widgets/controls",
          "model_name": "TextareaModel",
          "model_module_version": "1.5.0",
          "state": {
            "_dom_classes": [],
            "_model_module": "@jupyter-widgets/controls",
            "_model_module_version": "1.5.0",
            "_model_name": "TextareaModel",
            "_view_count": null,
            "_view_module": "@jupyter-widgets/controls",
            "_view_module_version": "1.5.0",
            "_view_name": "TextareaView",
            "continuous_update": true,
            "description": "",
            "description_tooltip": null,
            "disabled": false,
            "layout": "IPY_MODEL_434ac803931b456ca6837cd3f0e90ed2",
            "placeholder": "Enter text to translate",
            "rows": 5,
            "style": "IPY_MODEL_7ca20e2320894b8ebd9e0df32c0ab49e",
            "value": "ባህርዳርን ሳገኝ ምን ተጎድቸ ሁሉ በደጃፌ ሁሉ በደጄ"
          }
        },
        "dfb2466203d544748b053f64a498b5a4": {
          "model_module": "@jupyter-widgets/controls",
          "model_name": "TextareaModel",
          "model_module_version": "1.5.0",
          "state": {
            "_dom_classes": [],
            "_model_module": "@jupyter-widgets/controls",
            "_model_module_version": "1.5.0",
            "_model_name": "TextareaModel",
            "_view_count": null,
            "_view_module": "@jupyter-widgets/controls",
            "_view_module_version": "1.5.0",
            "_view_name": "TextareaView",
            "continuous_update": true,
            "description": "",
            "description_tooltip": null,
            "disabled": false,
            "layout": "IPY_MODEL_fc0962abede04a4ba748ad8d85c5df03",
            "placeholder": "Translated text",
            "rows": 5,
            "style": "IPY_MODEL_68abbde976ab4ce890eb2760a9010fe1",
            "value": "ባርዳሮ አግፁስ እንዳራ ጉዲስታ ውላ አፍጂሊዳ ውላ አፍዳ፣"
          }
        },
        "45943000dee5412ca3ef0a038f8e3193": {
          "model_module": "@jupyter-widgets/base",
          "model_name": "LayoutModel",
          "model_module_version": "1.2.0",
          "state": {
            "_model_module": "@jupyter-widgets/base",
            "_model_module_version": "1.2.0",
            "_model_name": "LayoutModel",
            "_view_count": null,
            "_view_module": "@jupyter-widgets/base",
            "_view_module_version": "1.2.0",
            "_view_name": "LayoutView",
            "align_content": null,
            "align_items": null,
            "align_self": null,
            "border": null,
            "bottom": null,
            "display": null,
            "flex": null,
            "flex_flow": null,
            "grid_area": null,
            "grid_auto_columns": null,
            "grid_auto_flow": null,
            "grid_auto_rows": null,
            "grid_column": null,
            "grid_gap": null,
            "grid_row": null,
            "grid_template_areas": null,
            "grid_template_columns": null,
            "grid_template_rows": null,
            "height": null,
            "justify_content": null,
            "justify_items": null,
            "left": null,
            "margin": null,
            "max_height": null,
            "max_width": null,
            "min_height": null,
            "min_width": null,
            "object_fit": null,
            "object_position": null,
            "order": null,
            "overflow": null,
            "overflow_x": null,
            "overflow_y": null,
            "padding": "20px",
            "right": null,
            "top": null,
            "visibility": null,
            "width": null
          }
        },
        "434ac803931b456ca6837cd3f0e90ed2": {
          "model_module": "@jupyter-widgets/base",
          "model_name": "LayoutModel",
          "model_module_version": "1.2.0",
          "state": {
            "_model_module": "@jupyter-widgets/base",
            "_model_module_version": "1.2.0",
            "_model_name": "LayoutModel",
            "_view_count": null,
            "_view_module": "@jupyter-widgets/base",
            "_view_module_version": "1.2.0",
            "_view_name": "LayoutView",
            "align_content": null,
            "align_items": null,
            "align_self": null,
            "border": null,
            "bottom": null,
            "display": null,
            "flex": null,
            "flex_flow": null,
            "grid_area": null,
            "grid_auto_columns": null,
            "grid_auto_flow": null,
            "grid_auto_rows": null,
            "grid_column": null,
            "grid_gap": null,
            "grid_row": null,
            "grid_template_areas": null,
            "grid_template_columns": null,
            "grid_template_rows": null,
            "height": null,
            "justify_content": null,
            "justify_items": null,
            "left": null,
            "margin": null,
            "max_height": null,
            "max_width": null,
            "min_height": null,
            "min_width": null,
            "object_fit": null,
            "object_position": null,
            "order": null,
            "overflow": null,
            "overflow_x": null,
            "overflow_y": null,
            "padding": null,
            "right": null,
            "top": null,
            "visibility": null,
            "width": "50%"
          }
        },
        "7ca20e2320894b8ebd9e0df32c0ab49e": {
          "model_module": "@jupyter-widgets/controls",
          "model_name": "DescriptionStyleModel",
          "model_module_version": "1.5.0",
          "state": {
            "_model_module": "@jupyter-widgets/controls",
            "_model_module_version": "1.5.0",
            "_model_name": "DescriptionStyleModel",
            "_view_count": null,
            "_view_module": "@jupyter-widgets/base",
            "_view_module_version": "1.2.0",
            "_view_name": "StyleView",
            "description_width": ""
          }
        },
        "fc0962abede04a4ba748ad8d85c5df03": {
          "model_module": "@jupyter-widgets/base",
          "model_name": "LayoutModel",
          "model_module_version": "1.2.0",
          "state": {
            "_model_module": "@jupyter-widgets/base",
            "_model_module_version": "1.2.0",
            "_model_name": "LayoutModel",
            "_view_count": null,
            "_view_module": "@jupyter-widgets/base",
            "_view_module_version": "1.2.0",
            "_view_name": "LayoutView",
            "align_content": null,
            "align_items": null,
            "align_self": null,
            "border": null,
            "bottom": null,
            "display": null,
            "flex": null,
            "flex_flow": null,
            "grid_area": null,
            "grid_auto_columns": null,
            "grid_auto_flow": null,
            "grid_auto_rows": null,
            "grid_column": null,
            "grid_gap": null,
            "grid_row": null,
            "grid_template_areas": null,
            "grid_template_columns": null,
            "grid_template_rows": null,
            "height": null,
            "justify_content": null,
            "justify_items": null,
            "left": null,
            "margin": null,
            "max_height": null,
            "max_width": null,
            "min_height": null,
            "min_width": null,
            "object_fit": null,
            "object_position": null,
            "order": null,
            "overflow": null,
            "overflow_x": null,
            "overflow_y": null,
            "padding": null,
            "right": null,
            "top": null,
            "visibility": null,
            "width": "50%"
          }
        },
        "68abbde976ab4ce890eb2760a9010fe1": {
          "model_module": "@jupyter-widgets/controls",
          "model_name": "DescriptionStyleModel",
          "model_module_version": "1.5.0",
          "state": {
            "_model_module": "@jupyter-widgets/controls",
            "_model_module_version": "1.5.0",
            "_model_name": "DescriptionStyleModel",
            "_view_count": null,
            "_view_module": "@jupyter-widgets/base",
            "_view_module_version": "1.2.0",
            "_view_name": "StyleView",
            "description_width": ""
          }
        },
        "4409059674ef48f5b1f4e4318d8e671c": {
          "model_module": "@jupyter-widgets/controls",
          "model_name": "HBoxModel",
          "model_module_version": "1.5.0",
          "state": {
            "_dom_classes": [],
            "_model_module": "@jupyter-widgets/controls",
            "_model_module_version": "1.5.0",
            "_model_name": "HBoxModel",
            "_view_count": null,
            "_view_module": "@jupyter-widgets/controls",
            "_view_module_version": "1.5.0",
            "_view_name": "HBoxView",
            "box_style": "",
            "children": [
              "IPY_MODEL_5c9e178733914cc18db9811773cf6009",
              "IPY_MODEL_49e746ada4bd4625baec7f161a9688c9",
              "IPY_MODEL_5712dded3d2743328cb02e0f4167c269"
            ],
            "layout": "IPY_MODEL_7a78baf5ce4c400ca19c6006b7d607d3"
          }
        },
        "5c9e178733914cc18db9811773cf6009": {
          "model_module": "@jupyter-widgets/controls",
          "model_name": "ButtonModel",
          "model_module_version": "1.5.0",
          "state": {
            "_dom_classes": [],
            "_model_module": "@jupyter-widgets/controls",
            "_model_module_version": "1.5.0",
            "_model_name": "ButtonModel",
            "_view_count": null,
            "_view_module": "@jupyter-widgets/controls",
            "_view_module_version": "1.5.0",
            "_view_name": "ButtonView",
            "button_style": "primary",
            "description": "Translate",
            "disabled": false,
            "icon": "",
            "layout": "IPY_MODEL_83d5800f52bb4175ae0568eefce449be",
            "style": "IPY_MODEL_9a64c797f8c948c9b1f51c2a37a2f906",
            "tooltip": ""
          }
        },
        "49e746ada4bd4625baec7f161a9688c9": {
          "model_module": "@jupyter-widgets/controls",
          "model_name": "ButtonModel",
          "model_module_version": "1.5.0",
          "state": {
            "_dom_classes": [],
            "_model_module": "@jupyter-widgets/controls",
            "_model_module_version": "1.5.0",
            "_model_name": "ButtonModel",
            "_view_count": null,
            "_view_module": "@jupyter-widgets/controls",
            "_view_module_version": "1.5.0",
            "_view_name": "ButtonView",
            "button_style": "danger",
            "description": "Clear",
            "disabled": false,
            "icon": "",
            "layout": "IPY_MODEL_13205ccd1e7b411c9d5ff1c48d457e1d",
            "style": "IPY_MODEL_c80711ba34ce46c6bb6f5a66f78738f2",
            "tooltip": ""
          }
        },
        "5712dded3d2743328cb02e0f4167c269": {
          "model_module": "@jupyter-widgets/controls",
          "model_name": "DropdownModel",
          "model_module_version": "1.5.0",
          "state": {
            "_dom_classes": [],
            "_model_module": "@jupyter-widgets/controls",
            "_model_module_version": "1.5.0",
            "_model_name": "DropdownModel",
            "_options_labels": [
              "Amharic to Awngi",
              "Awngi to Amharic"
            ],
            "_view_count": null,
            "_view_module": "@jupyter-widgets/controls",
            "_view_module_version": "1.5.0",
            "_view_name": "DropdownView",
            "description": "Translation Direction:",
            "description_tooltip": null,
            "disabled": false,
            "index": 0,
            "layout": "IPY_MODEL_0b89c07a2e804b6698344806c7cc8b6f",
            "style": "IPY_MODEL_1ec64fa5eddc451e9604ac548c112f1d"
          }
        },
        "7a78baf5ce4c400ca19c6006b7d607d3": {
          "model_module": "@jupyter-widgets/base",
          "model_name": "LayoutModel",
          "model_module_version": "1.2.0",
          "state": {
            "_model_module": "@jupyter-widgets/base",
            "_model_module_version": "1.2.0",
            "_model_name": "LayoutModel",
            "_view_count": null,
            "_view_module": "@jupyter-widgets/base",
            "_view_module_version": "1.2.0",
            "_view_name": "LayoutView",
            "align_content": null,
            "align_items": null,
            "align_self": null,
            "border": null,
            "bottom": null,
            "display": null,
            "flex": null,
            "flex_flow": null,
            "grid_area": null,
            "grid_auto_columns": null,
            "grid_auto_flow": null,
            "grid_auto_rows": null,
            "grid_column": null,
            "grid_gap": null,
            "grid_row": null,
            "grid_template_areas": null,
            "grid_template_columns": null,
            "grid_template_rows": null,
            "height": null,
            "justify_content": null,
            "justify_items": null,
            "left": null,
            "margin": null,
            "max_height": null,
            "max_width": null,
            "min_height": null,
            "min_width": null,
            "object_fit": null,
            "object_position": null,
            "order": null,
            "overflow": null,
            "overflow_x": null,
            "overflow_y": null,
            "padding": "20px",
            "right": null,
            "top": null,
            "visibility": null,
            "width": null
          }
        },
        "83d5800f52bb4175ae0568eefce449be": {
          "model_module": "@jupyter-widgets/base",
          "model_name": "LayoutModel",
          "model_module_version": "1.2.0",
          "state": {
            "_model_module": "@jupyter-widgets/base",
            "_model_module_version": "1.2.0",
            "_model_name": "LayoutModel",
            "_view_count": null,
            "_view_module": "@jupyter-widgets/base",
            "_view_module_version": "1.2.0",
            "_view_name": "LayoutView",
            "align_content": null,
            "align_items": null,
            "align_self": null,
            "border": null,
            "bottom": null,
            "display": null,
            "flex": null,
            "flex_flow": null,
            "grid_area": null,
            "grid_auto_columns": null,
            "grid_auto_flow": null,
            "grid_auto_rows": null,
            "grid_column": null,
            "grid_gap": null,
            "grid_row": null,
            "grid_template_areas": null,
            "grid_template_columns": null,
            "grid_template_rows": null,
            "height": null,
            "justify_content": null,
            "justify_items": null,
            "left": null,
            "margin": null,
            "max_height": null,
            "max_width": null,
            "min_height": null,
            "min_width": null,
            "object_fit": null,
            "object_position": null,
            "order": null,
            "overflow": null,
            "overflow_x": null,
            "overflow_y": null,
            "padding": null,
            "right": null,
            "top": null,
            "visibility": null,
            "width": "auto"
          }
        },
        "9a64c797f8c948c9b1f51c2a37a2f906": {
          "model_module": "@jupyter-widgets/controls",
          "model_name": "ButtonStyleModel",
          "model_module_version": "1.5.0",
          "state": {
            "_model_module": "@jupyter-widgets/controls",
            "_model_module_version": "1.5.0",
            "_model_name": "ButtonStyleModel",
            "_view_count": null,
            "_view_module": "@jupyter-widgets/base",
            "_view_module_version": "1.2.0",
            "_view_name": "StyleView",
            "button_color": null,
            "font_weight": ""
          }
        },
        "13205ccd1e7b411c9d5ff1c48d457e1d": {
          "model_module": "@jupyter-widgets/base",
          "model_name": "LayoutModel",
          "model_module_version": "1.2.0",
          "state": {
            "_model_module": "@jupyter-widgets/base",
            "_model_module_version": "1.2.0",
            "_model_name": "LayoutModel",
            "_view_count": null,
            "_view_module": "@jupyter-widgets/base",
            "_view_module_version": "1.2.0",
            "_view_name": "LayoutView",
            "align_content": null,
            "align_items": null,
            "align_self": null,
            "border": null,
            "bottom": null,
            "display": null,
            "flex": null,
            "flex_flow": null,
            "grid_area": null,
            "grid_auto_columns": null,
            "grid_auto_flow": null,
            "grid_auto_rows": null,
            "grid_column": null,
            "grid_gap": null,
            "grid_row": null,
            "grid_template_areas": null,
            "grid_template_columns": null,
            "grid_template_rows": null,
            "height": null,
            "justify_content": null,
            "justify_items": null,
            "left": null,
            "margin": null,
            "max_height": null,
            "max_width": null,
            "min_height": null,
            "min_width": null,
            "object_fit": null,
            "object_position": null,
            "order": null,
            "overflow": null,
            "overflow_x": null,
            "overflow_y": null,
            "padding": null,
            "right": null,
            "top": null,
            "visibility": null,
            "width": "auto"
          }
        },
        "c80711ba34ce46c6bb6f5a66f78738f2": {
          "model_module": "@jupyter-widgets/controls",
          "model_name": "ButtonStyleModel",
          "model_module_version": "1.5.0",
          "state": {
            "_model_module": "@jupyter-widgets/controls",
            "_model_module_version": "1.5.0",
            "_model_name": "ButtonStyleModel",
            "_view_count": null,
            "_view_module": "@jupyter-widgets/base",
            "_view_module_version": "1.2.0",
            "_view_name": "StyleView",
            "button_color": null,
            "font_weight": ""
          }
        },
        "0b89c07a2e804b6698344806c7cc8b6f": {
          "model_module": "@jupyter-widgets/base",
          "model_name": "LayoutModel",
          "model_module_version": "1.2.0",
          "state": {
            "_model_module": "@jupyter-widgets/base",
            "_model_module_version": "1.2.0",
            "_model_name": "LayoutModel",
            "_view_count": null,
            "_view_module": "@jupyter-widgets/base",
            "_view_module_version": "1.2.0",
            "_view_name": "LayoutView",
            "align_content": null,
            "align_items": null,
            "align_self": null,
            "border": null,
            "bottom": null,
            "display": null,
            "flex": null,
            "flex_flow": null,
            "grid_area": null,
            "grid_auto_columns": null,
            "grid_auto_flow": null,
            "grid_auto_rows": null,
            "grid_column": null,
            "grid_gap": null,
            "grid_row": null,
            "grid_template_areas": null,
            "grid_template_columns": null,
            "grid_template_rows": null,
            "height": null,
            "justify_content": null,
            "justify_items": null,
            "left": null,
            "margin": null,
            "max_height": null,
            "max_width": null,
            "min_height": null,
            "min_width": null,
            "object_fit": null,
            "object_position": null,
            "order": null,
            "overflow": null,
            "overflow_x": null,
            "overflow_y": null,
            "padding": null,
            "right": null,
            "top": null,
            "visibility": null,
            "width": "auto"
          }
        },
        "1ec64fa5eddc451e9604ac548c112f1d": {
          "model_module": "@jupyter-widgets/controls",
          "model_name": "DescriptionStyleModel",
          "model_module_version": "1.5.0",
          "state": {
            "_model_module": "@jupyter-widgets/controls",
            "_model_module_version": "1.5.0",
            "_model_name": "DescriptionStyleModel",
            "_view_count": null,
            "_view_module": "@jupyter-widgets/base",
            "_view_module_version": "1.2.0",
            "_view_name": "StyleView",
            "description_width": ""
          }
        }
      }
    }
  },
  "cells": [
    {
      "cell_type": "code",
      "execution_count": null,
      "metadata": {
        "id": "viYdLZqKRUq3"
      },
      "outputs": [],
      "source": []
    },
    {
      "cell_type": "code",
      "source": [],
      "metadata": {
        "id": "7UuJ5JxuRacy"
      },
      "execution_count": null,
      "outputs": []
    },
    {
      "cell_type": "code",
      "source": [],
      "metadata": {
        "id": "Qe5TjHxiRaf0"
      },
      "execution_count": null,
      "outputs": []
    },
    {
      "cell_type": "code",
      "source": [
        "from google.colab import drive\n",
        "drive.mount('/content/drive')\n",
        "import pandas as pd\n",
        "#df = pd.read_csv('amharic_awngi_data.xlsx', encoding=encoding)\n",
        "df=pd.read_excel(\"/content/drive/My Drive/Amharic-Awngi/Data/Total-Awngi-Amharic_2.xlsx\")\n",
        "\n",
        "df.rename(columns={\"Awngi \":\"Awngi\"},inplace=True)\n",
        "df[\"Awngi\"]=df[\"Awngi\"].fillna(df[\"Awngi\"].mode()[0])\n",
        "import re\n",
        "from unicodedata import normalize\n",
        "\n",
        "def clean_text(text):\n",
        "    text = normalize('NFD', text.lower())\n",
        "    #text = re.sub('[^A-Za-z ]+', '', text)\n",
        "    return text\n",
        "df3=df.copy()\n",
        "df['Awngi'] = df['Awngi'].apply(lambda row: clean_text(row))\n",
        "df['Amharic'] = df['Amharic'].apply(lambda row: clean_text(row))\n",
        "am = df['Amharic']\n",
        "aw = df['Awngi']\n",
        "\n",
        "am_max_len = max(len(line.split()) for line in am)\n",
        "aw_max_len = max(len(line.split()) for line in aw)\n",
        "from tensorflow.keras.preprocessing.text import Tokenizer\n",
        "from tensorflow.keras.preprocessing.sequence import pad_sequences\n",
        "\n",
        "aw_tokenizer = Tokenizer()\n",
        "aw_tokenizer.fit_on_texts(aw)\n",
        "aw_sequences = aw_tokenizer.texts_to_sequences(aw)\n",
        "aw_x = pad_sequences(aw_sequences, maxlen=aw_max_len, padding='post')\n",
        "\n",
        "am_tokenizer = Tokenizer()\n",
        "am_tokenizer.fit_on_texts(am)\n",
        "am_sequences = am_tokenizer.texts_to_sequences(am)\n",
        "am_y = pad_sequences(am_sequences, maxlen=am_max_len, padding='post')\n",
        "am_vocab_size = len(am_tokenizer.word_index) + 1\n",
        "aw_vocab_size = len(aw_tokenizer.word_index) + 1"
      ],
      "metadata": {
        "colab": {
          "base_uri": "https://localhost:8080/"
        },
        "id": "reAlsMzVRVgu",
        "outputId": "7ad9d390-7c09-4d0e-9ced-bafa283f2e70"
      },
      "execution_count": 1,
      "outputs": [
        {
          "output_type": "stream",
          "name": "stdout",
          "text": [
            "Mounted at /content/drive\n"
          ]
        }
      ]
    },
    {
      "cell_type": "code",
      "source": [
        "import ipywidgets as widgets\n",
        "from ipywidgets import interact, interactive, fixed, Box, HBox, VBox, Dropdown\n",
        "from IPython.display import display, HTML\n",
        "import ipywidgets as widgets\n",
        "from ipywidgets import interact, interactive, fixed\n",
        "from IPython.display import display\n",
        "import ipywidgets as widgets\n",
        "from ipywidgets import interact, interactive, fixed, Box, HBox, VBox\n",
        "from IPython.display import display\n",
        "import numpy as np\n",
        "from tensorflow.keras.models import load_model\n",
        "from tensorflow.keras.preprocessing.sequence import pad_sequences\n",
        "from tensorflow.keras.preprocessing.text import Tokenizer\n",
        "from IPython.display import display, HTML\n",
        "\n",
        "am_model = load_model('/content/drive/My Drive/Amharic-Awngi/Models/LSTM_translation_model_june22.h5')\n",
        "aw_model = load_model('/content/drive/My Drive/Amharic-Awngi/Models/Awngi-Amharic-LSTM_translation_model_june22.h5')\n",
        "\n",
        "def translate_text(text, model, aw_tokenizer, am_tokenizer, aw_max_len):\n",
        "    sequence = aw_tokenizer.texts_to_sequences([text])\n",
        "    padded_sequence = pad_sequences(sequence, maxlen=aw_max_len, padding='post')\n",
        "    prediction = model.predict(padded_sequence, verbose=0)[0]\n",
        "    indexes = [np.argmax(idx) for idx in prediction]\n",
        "    return am_tokenizer.sequences_to_texts([indexes])[0]\n",
        "\n",
        "def Am_Awngi_translate_text(text, model, am_tokenizer, aw_tokenizer, am_max_len):\n",
        "    sequence = am_tokenizer.texts_to_sequences([text])\n",
        "    padded_sequence = pad_sequences(sequence, maxlen=am_max_len, padding='post')\n",
        "    prediction = model.predict(padded_sequence, verbose=0)[0]\n",
        "    indexes = [np.argmax(idx) for idx in prediction]\n",
        "    return aw_tokenizer.sequences_to_texts([indexes])[0]\n",
        "\n",
        "def translate_and_display(button):\n",
        "    input_text = source_text_area.value\n",
        "    if language_dropdown.value == 'Amharic to Awngi':\n",
        "        translated_text = Am_Awngi_translate_text(input_text, am_model, am_tokenizer, aw_tokenizer, am_max_len)\n",
        "    else:\n",
        "        translated_text = translate_text(input_text, aw_model, aw_tokenizer, am_tokenizer, aw_max_len)\n",
        "    translated_text_area.value = translated_text\n",
        "\n",
        "def clear_output(button):\n",
        "    source_text_area.value = \"\"\n",
        "    translated_text_area.value = \"\"\n",
        "\n",
        "source_text_area = widgets.Textarea(placeholder=\"Enter text to translate\", rows=5, layout=widgets.Layout(width='50%', font_size='50px'))\n",
        "translated_text_area = widgets.Textarea(placeholder=\"Translated text\", rows=5, layout=widgets.Layout(width='50%', font_size='50px'))\n",
        "translate_button = widgets.Button(description=\"Translate\", button_style='primary', layout=widgets.Layout(width='auto', font_size='16px'))\n",
        "clear_button = widgets.Button(description=\"Clear\", button_style='danger', layout=widgets.Layout(width='auto', font_size='16px'))\n",
        "\n",
        "translate_button.on_click(translate_and_display)\n",
        "clear_button.on_click(clear_output)\n",
        "\n",
        "language_dropdown = Dropdown(\n",
        "    options=['Amharic to Awngi', 'Awngi to Amharic'],\n",
        "    value='Amharic to Awngi',\n",
        "    description='Translation Direction:',\n",
        "    layout=widgets.Layout(width='auto', font_size='30px')\n",
        ")\n",
        "\n",
        "header_html = \"\"\"\n",
        "<div style=\"background-color: #2196F3; padding: 20px; text-align: center; color: white;\">\n",
        "  <h1 style=\"font-size: 32px;\">Bidirectional Amharic to Awngi Language Translation System</h1>\n",
        "</div>\n",
        "\"\"\"\n",
        "\n",
        "footer_html = \"\"\"\n",
        "<div style=\"background-color: #333; padding: 10px; text-align: center; color: white;\">\n",
        "  <p style=\"font-size: 16px;\">Amharic To  Awngi Translation and Vice Versa</p>\n",
        "</div>\n",
        "\"\"\"\n",
        "\n",
        "source_and_translated = HBox([source_text_area, translated_text_area], layout=widgets.Layout(padding='20px'))\n",
        "controls = HBox([translate_button, clear_button, language_dropdown], layout=widgets.Layout(padding='20px'))\n",
        "\n",
        "display(HTML(header_html), source_and_translated, controls, HTML(footer_html))"
      ],
      "metadata": {
        "colab": {
          "base_uri": "https://localhost:8080/",
          "height": 375,
          "referenced_widgets": [
            "0d13ce9cdf0d46e0a8e8d58ecc10183b",
            "151106c26436495db3f627820b1f6792",
            "dfb2466203d544748b053f64a498b5a4",
            "45943000dee5412ca3ef0a038f8e3193",
            "434ac803931b456ca6837cd3f0e90ed2",
            "7ca20e2320894b8ebd9e0df32c0ab49e",
            "fc0962abede04a4ba748ad8d85c5df03",
            "68abbde976ab4ce890eb2760a9010fe1",
            "4409059674ef48f5b1f4e4318d8e671c",
            "5c9e178733914cc18db9811773cf6009",
            "49e746ada4bd4625baec7f161a9688c9",
            "5712dded3d2743328cb02e0f4167c269",
            "7a78baf5ce4c400ca19c6006b7d607d3",
            "83d5800f52bb4175ae0568eefce449be",
            "9a64c797f8c948c9b1f51c2a37a2f906",
            "13205ccd1e7b411c9d5ff1c48d457e1d",
            "c80711ba34ce46c6bb6f5a66f78738f2",
            "0b89c07a2e804b6698344806c7cc8b6f",
            "1ec64fa5eddc451e9604ac548c112f1d"
          ]
        },
        "id": "O_DLQXcARVjI",
        "outputId": "437ff0fd-035f-4b7d-ca18-009f2d5209e9"
      },
      "execution_count": 3,
      "outputs": [
        {
          "output_type": "display_data",
          "data": {
            "text/plain": [
              "<IPython.core.display.HTML object>"
            ],
            "text/html": [
              "\n",
              "<div style=\"background-color: #2196F3; padding: 20px; text-align: center; color: white;\">\n",
              "  <h1 style=\"font-size: 32px;\">Bidirectional Amharic to Awngi Language Translation System</h1>\n",
              "</div>\n"
            ]
          },
          "metadata": {}
        },
        {
          "output_type": "display_data",
          "data": {
            "text/plain": [
              "HBox(children=(Textarea(value='', layout=Layout(width='50%'), placeholder='Enter text to translate', rows=5), …"
            ],
            "application/vnd.jupyter.widget-view+json": {
              "version_major": 2,
              "version_minor": 0,
              "model_id": "0d13ce9cdf0d46e0a8e8d58ecc10183b"
            }
          },
          "metadata": {}
        },
        {
          "output_type": "display_data",
          "data": {
            "text/plain": [
              "HBox(children=(Button(button_style='primary', description='Translate', layout=Layout(width='auto'), style=Butt…"
            ],
            "application/vnd.jupyter.widget-view+json": {
              "version_major": 2,
              "version_minor": 0,
              "model_id": "4409059674ef48f5b1f4e4318d8e671c"
            }
          },
          "metadata": {}
        },
        {
          "output_type": "display_data",
          "data": {
            "text/plain": [
              "<IPython.core.display.HTML object>"
            ],
            "text/html": [
              "\n",
              "<div style=\"background-color: #333; padding: 10px; text-align: center; color: white;\">\n",
              "  <p style=\"font-size: 16px;\">Amharic To  Awngi Translation and Vice Versa</p>\n",
              "</div>\n"
            ]
          },
          "metadata": {}
        }
      ]
    },
    {
      "cell_type": "code",
      "source": [],
      "metadata": {
        "id": "n9WdGR_uRZM8"
      },
      "execution_count": null,
      "outputs": []
    },
    {
      "cell_type": "code",
      "source": [],
      "metadata": {
        "id": "DEQRHOLBRZPz"
      },
      "execution_count": null,
      "outputs": []
    },
    {
      "cell_type": "code",
      "source": [],
      "metadata": {
        "id": "s-GlK30oRVlt"
      },
      "execution_count": null,
      "outputs": []
    },
    {
      "cell_type": "code",
      "source": [],
      "metadata": {
        "id": "K7EiGKvIRVoG"
      },
      "execution_count": null,
      "outputs": []
    },
    {
      "cell_type": "code",
      "source": [],
      "metadata": {
        "id": "6ffgtPUZRVqe"
      },
      "execution_count": null,
      "outputs": []
    },
    {
      "cell_type": "code",
      "source": [],
      "metadata": {
        "id": "nVLWlVJwRVs4"
      },
      "execution_count": null,
      "outputs": []
    },
    {
      "cell_type": "code",
      "source": [],
      "metadata": {
        "id": "7zYQzDIHRVvi"
      },
      "execution_count": null,
      "outputs": []
    },
    {
      "cell_type": "code",
      "source": [],
      "metadata": {
        "id": "-HAQuFxsRVzA"
      },
      "execution_count": null,
      "outputs": []
    }
  ]
}