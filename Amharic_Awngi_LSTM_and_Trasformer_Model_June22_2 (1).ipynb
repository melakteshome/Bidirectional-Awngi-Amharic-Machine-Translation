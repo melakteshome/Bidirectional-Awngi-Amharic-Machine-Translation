{
  "cells": [
    {
      "cell_type": "markdown",
      "metadata": {
        "id": "wYoMrGy0T4vP"
      },
      "source": [
        "# ***Dataset Description ***\n",
        "The data used for this MModel includes a parallel dataset that contains 27,819 Amhari-Awngi sentence pairs. Amharic phrases, sentences, words  and their corresponding Awngi translations.  The file is an excel file."
      ]
    },
    {
      "cell_type": "markdown",
      "metadata": {
        "id": "UM944U-ET4vS"
      },
      "source": []
    },
    {
      "cell_type": "code",
      "source": [],
      "metadata": {
        "id": "i8CYIBVVT-Ip"
      },
      "execution_count": null,
      "outputs": []
    },
    {
      "cell_type": "code",
      "source": [
        "from google.colab import drive\n",
        "drive.mount('/content/drive')"
      ],
      "metadata": {
        "colab": {
          "base_uri": "https://localhost:8080/"
        },
        "id": "omIjI7WUT-Lp",
        "outputId": "a56f950e-bc23-4e79-9ebc-5a20dbff0afd"
      },
      "execution_count": 2,
      "outputs": [
        {
          "output_type": "stream",
          "name": "stdout",
          "text": [
            "Mounted at /content/drive\n"
          ]
        }
      ]
    },
    {
      "cell_type": "code",
      "source": [
        "import pandas as pd\n",
        "#df = pd.read_csv('amharic_awngi_data.xlsx', encoding=encoding)\n",
        "df=pd.read_excel(\"/content/drive/My Drive/Amharic-Awngi/Data/Total-Amharic-Awngi_2.xlsx\")\n",
        "df.head()\n",
        "#df = pd.read_csv('amharic_awngi_corpus.csv', encoding=encoding)\n",
        "#df.head()"
      ],
      "metadata": {
        "colab": {
          "base_uri": "https://localhost:8080/",
          "height": 206
        },
        "id": "ocgqhi9oT-OV",
        "outputId": "5ab631fc-f97e-415b-81a0-41df6167ea2a"
      },
      "execution_count": 3,
      "outputs": [
        {
          "output_type": "execute_result",
          "data": {
            "text/plain": [
              "                                            Amharic  \\\n",
              "0                                      መፀዳጃ ቤት ሄዱ፡፡   \n",
              "1                                 የደንብ ልብሳቸውን ለበሱ፡፡   \n",
              "2                                እጃቸውንና ፊታቸውን ታጠቡ፡፡   \n",
              "3  ደብተራቸውን፣ መፅሃፋቸውን፣ እርሳስና እስክርቢቷቸውን ወደ ቦርሳቸው ከተቱ፡፡   \n",
              "4                                  ወደ ትምህርት ቤት ሄዱ፡፡   \n",
              "\n",
              "                               Awngi   \n",
              "0                            ቻኺ ጝና ካዃ  \n",
              "1                         ዴንቡሳ ስዮ ሴዩና  \n",
              "2                        ታፎስታ እላፎ ቑሲና  \n",
              "3  ዴብቴሮ፡ ሜፃፎ፡እርሳሶስታ እስክርቢቶ ቦርሳሾ ኬቴቱና።  \n",
              "4                       ትምርት ጝናሾ ካሱና።  "
            ],
            "text/html": [
              "\n",
              "  <div id=\"df-01722c61-3f26-4638-8299-239686d0b432\" class=\"colab-df-container\">\n",
              "    <div>\n",
              "<style scoped>\n",
              "    .dataframe tbody tr th:only-of-type {\n",
              "        vertical-align: middle;\n",
              "    }\n",
              "\n",
              "    .dataframe tbody tr th {\n",
              "        vertical-align: top;\n",
              "    }\n",
              "\n",
              "    .dataframe thead th {\n",
              "        text-align: right;\n",
              "    }\n",
              "</style>\n",
              "<table border=\"1\" class=\"dataframe\">\n",
              "  <thead>\n",
              "    <tr style=\"text-align: right;\">\n",
              "      <th></th>\n",
              "      <th>Amharic</th>\n",
              "      <th>Awngi</th>\n",
              "    </tr>\n",
              "  </thead>\n",
              "  <tbody>\n",
              "    <tr>\n",
              "      <th>0</th>\n",
              "      <td>መፀዳጃ ቤት ሄዱ፡፡</td>\n",
              "      <td>ቻኺ ጝና ካዃ</td>\n",
              "    </tr>\n",
              "    <tr>\n",
              "      <th>1</th>\n",
              "      <td>የደንብ ልብሳቸውን ለበሱ፡፡</td>\n",
              "      <td>ዴንቡሳ ስዮ ሴዩና</td>\n",
              "    </tr>\n",
              "    <tr>\n",
              "      <th>2</th>\n",
              "      <td>እጃቸውንና ፊታቸውን ታጠቡ፡፡</td>\n",
              "      <td>ታፎስታ እላፎ ቑሲና</td>\n",
              "    </tr>\n",
              "    <tr>\n",
              "      <th>3</th>\n",
              "      <td>ደብተራቸውን፣ መፅሃፋቸውን፣ እርሳስና እስክርቢቷቸውን ወደ ቦርሳቸው ከተቱ፡፡</td>\n",
              "      <td>ዴብቴሮ፡ ሜፃፎ፡እርሳሶስታ እስክርቢቶ ቦርሳሾ ኬቴቱና።</td>\n",
              "    </tr>\n",
              "    <tr>\n",
              "      <th>4</th>\n",
              "      <td>ወደ ትምህርት ቤት ሄዱ፡፡</td>\n",
              "      <td>ትምርት ጝናሾ ካሱና።</td>\n",
              "    </tr>\n",
              "  </tbody>\n",
              "</table>\n",
              "</div>\n",
              "    <div class=\"colab-df-buttons\">\n",
              "\n",
              "  <div class=\"colab-df-container\">\n",
              "    <button class=\"colab-df-convert\" onclick=\"convertToInteractive('df-01722c61-3f26-4638-8299-239686d0b432')\"\n",
              "            title=\"Convert this dataframe to an interactive table.\"\n",
              "            style=\"display:none;\">\n",
              "\n",
              "  <svg xmlns=\"http://www.w3.org/2000/svg\" height=\"24px\" viewBox=\"0 -960 960 960\">\n",
              "    <path d=\"M120-120v-720h720v720H120Zm60-500h600v-160H180v160Zm220 220h160v-160H400v160Zm0 220h160v-160H400v160ZM180-400h160v-160H180v160Zm440 0h160v-160H620v160ZM180-180h160v-160H180v160Zm440 0h160v-160H620v160Z\"/>\n",
              "  </svg>\n",
              "    </button>\n",
              "\n",
              "  <style>\n",
              "    .colab-df-container {\n",
              "      display:flex;\n",
              "      gap: 12px;\n",
              "    }\n",
              "\n",
              "    .colab-df-convert {\n",
              "      background-color: #E8F0FE;\n",
              "      border: none;\n",
              "      border-radius: 50%;\n",
              "      cursor: pointer;\n",
              "      display: none;\n",
              "      fill: #1967D2;\n",
              "      height: 32px;\n",
              "      padding: 0 0 0 0;\n",
              "      width: 32px;\n",
              "    }\n",
              "\n",
              "    .colab-df-convert:hover {\n",
              "      background-color: #E2EBFA;\n",
              "      box-shadow: 0px 1px 2px rgba(60, 64, 67, 0.3), 0px 1px 3px 1px rgba(60, 64, 67, 0.15);\n",
              "      fill: #174EA6;\n",
              "    }\n",
              "\n",
              "    .colab-df-buttons div {\n",
              "      margin-bottom: 4px;\n",
              "    }\n",
              "\n",
              "    [theme=dark] .colab-df-convert {\n",
              "      background-color: #3B4455;\n",
              "      fill: #D2E3FC;\n",
              "    }\n",
              "\n",
              "    [theme=dark] .colab-df-convert:hover {\n",
              "      background-color: #434B5C;\n",
              "      box-shadow: 0px 1px 3px 1px rgba(0, 0, 0, 0.15);\n",
              "      filter: drop-shadow(0px 1px 2px rgba(0, 0, 0, 0.3));\n",
              "      fill: #FFFFFF;\n",
              "    }\n",
              "  </style>\n",
              "\n",
              "    <script>\n",
              "      const buttonEl =\n",
              "        document.querySelector('#df-01722c61-3f26-4638-8299-239686d0b432 button.colab-df-convert');\n",
              "      buttonEl.style.display =\n",
              "        google.colab.kernel.accessAllowed ? 'block' : 'none';\n",
              "\n",
              "      async function convertToInteractive(key) {\n",
              "        const element = document.querySelector('#df-01722c61-3f26-4638-8299-239686d0b432');\n",
              "        const dataTable =\n",
              "          await google.colab.kernel.invokeFunction('convertToInteractive',\n",
              "                                                    [key], {});\n",
              "        if (!dataTable) return;\n",
              "\n",
              "        const docLinkHtml = 'Like what you see? Visit the ' +\n",
              "          '<a target=\"_blank\" href=https://colab.research.google.com/notebooks/data_table.ipynb>data table notebook</a>'\n",
              "          + ' to learn more about interactive tables.';\n",
              "        element.innerHTML = '';\n",
              "        dataTable['output_type'] = 'display_data';\n",
              "        await google.colab.output.renderOutput(dataTable, element);\n",
              "        const docLink = document.createElement('div');\n",
              "        docLink.innerHTML = docLinkHtml;\n",
              "        element.appendChild(docLink);\n",
              "      }\n",
              "    </script>\n",
              "  </div>\n",
              "\n",
              "\n",
              "<div id=\"df-431e6914-6c50-492f-bed0-90761b7f59dc\">\n",
              "  <button class=\"colab-df-quickchart\" onclick=\"quickchart('df-431e6914-6c50-492f-bed0-90761b7f59dc')\"\n",
              "            title=\"Suggest charts\"\n",
              "            style=\"display:none;\">\n",
              "\n",
              "<svg xmlns=\"http://www.w3.org/2000/svg\" height=\"24px\"viewBox=\"0 0 24 24\"\n",
              "     width=\"24px\">\n",
              "    <g>\n",
              "        <path d=\"M19 3H5c-1.1 0-2 .9-2 2v14c0 1.1.9 2 2 2h14c1.1 0 2-.9 2-2V5c0-1.1-.9-2-2-2zM9 17H7v-7h2v7zm4 0h-2V7h2v10zm4 0h-2v-4h2v4z\"/>\n",
              "    </g>\n",
              "</svg>\n",
              "  </button>\n",
              "\n",
              "<style>\n",
              "  .colab-df-quickchart {\n",
              "      --bg-color: #E8F0FE;\n",
              "      --fill-color: #1967D2;\n",
              "      --hover-bg-color: #E2EBFA;\n",
              "      --hover-fill-color: #174EA6;\n",
              "      --disabled-fill-color: #AAA;\n",
              "      --disabled-bg-color: #DDD;\n",
              "  }\n",
              "\n",
              "  [theme=dark] .colab-df-quickchart {\n",
              "      --bg-color: #3B4455;\n",
              "      --fill-color: #D2E3FC;\n",
              "      --hover-bg-color: #434B5C;\n",
              "      --hover-fill-color: #FFFFFF;\n",
              "      --disabled-bg-color: #3B4455;\n",
              "      --disabled-fill-color: #666;\n",
              "  }\n",
              "\n",
              "  .colab-df-quickchart {\n",
              "    background-color: var(--bg-color);\n",
              "    border: none;\n",
              "    border-radius: 50%;\n",
              "    cursor: pointer;\n",
              "    display: none;\n",
              "    fill: var(--fill-color);\n",
              "    height: 32px;\n",
              "    padding: 0;\n",
              "    width: 32px;\n",
              "  }\n",
              "\n",
              "  .colab-df-quickchart:hover {\n",
              "    background-color: var(--hover-bg-color);\n",
              "    box-shadow: 0 1px 2px rgba(60, 64, 67, 0.3), 0 1px 3px 1px rgba(60, 64, 67, 0.15);\n",
              "    fill: var(--button-hover-fill-color);\n",
              "  }\n",
              "\n",
              "  .colab-df-quickchart-complete:disabled,\n",
              "  .colab-df-quickchart-complete:disabled:hover {\n",
              "    background-color: var(--disabled-bg-color);\n",
              "    fill: var(--disabled-fill-color);\n",
              "    box-shadow: none;\n",
              "  }\n",
              "\n",
              "  .colab-df-spinner {\n",
              "    border: 2px solid var(--fill-color);\n",
              "    border-color: transparent;\n",
              "    border-bottom-color: var(--fill-color);\n",
              "    animation:\n",
              "      spin 1s steps(1) infinite;\n",
              "  }\n",
              "\n",
              "  @keyframes spin {\n",
              "    0% {\n",
              "      border-color: transparent;\n",
              "      border-bottom-color: var(--fill-color);\n",
              "      border-left-color: var(--fill-color);\n",
              "    }\n",
              "    20% {\n",
              "      border-color: transparent;\n",
              "      border-left-color: var(--fill-color);\n",
              "      border-top-color: var(--fill-color);\n",
              "    }\n",
              "    30% {\n",
              "      border-color: transparent;\n",
              "      border-left-color: var(--fill-color);\n",
              "      border-top-color: var(--fill-color);\n",
              "      border-right-color: var(--fill-color);\n",
              "    }\n",
              "    40% {\n",
              "      border-color: transparent;\n",
              "      border-right-color: var(--fill-color);\n",
              "      border-top-color: var(--fill-color);\n",
              "    }\n",
              "    60% {\n",
              "      border-color: transparent;\n",
              "      border-right-color: var(--fill-color);\n",
              "    }\n",
              "    80% {\n",
              "      border-color: transparent;\n",
              "      border-right-color: var(--fill-color);\n",
              "      border-bottom-color: var(--fill-color);\n",
              "    }\n",
              "    90% {\n",
              "      border-color: transparent;\n",
              "      border-bottom-color: var(--fill-color);\n",
              "    }\n",
              "  }\n",
              "</style>\n",
              "\n",
              "  <script>\n",
              "    async function quickchart(key) {\n",
              "      const quickchartButtonEl =\n",
              "        document.querySelector('#' + key + ' button');\n",
              "      quickchartButtonEl.disabled = true;  // To prevent multiple clicks.\n",
              "      quickchartButtonEl.classList.add('colab-df-spinner');\n",
              "      try {\n",
              "        const charts = await google.colab.kernel.invokeFunction(\n",
              "            'suggestCharts', [key], {});\n",
              "      } catch (error) {\n",
              "        console.error('Error during call to suggestCharts:', error);\n",
              "      }\n",
              "      quickchartButtonEl.classList.remove('colab-df-spinner');\n",
              "      quickchartButtonEl.classList.add('colab-df-quickchart-complete');\n",
              "    }\n",
              "    (() => {\n",
              "      let quickchartButtonEl =\n",
              "        document.querySelector('#df-431e6914-6c50-492f-bed0-90761b7f59dc button');\n",
              "      quickchartButtonEl.style.display =\n",
              "        google.colab.kernel.accessAllowed ? 'block' : 'none';\n",
              "    })();\n",
              "  </script>\n",
              "</div>\n",
              "\n",
              "    </div>\n",
              "  </div>\n"
            ],
            "application/vnd.google.colaboratory.intrinsic+json": {
              "type": "dataframe",
              "summary": "{\n  \"name\": \"#df\",\n  \"rows\": 5,\n  \"fields\": [\n    {\n      \"column\": \"Amharic\",\n      \"properties\": {\n        \"dtype\": \"string\",\n        \"num_unique_values\": 5,\n        \"samples\": [\n          \"\\u12e8\\u12f0\\u1295\\u1265 \\u120d\\u1265\\u1233\\u1278\\u12cd\\u1295 \\u1208\\u1260\\u1231\\u1361\\u1361\",\n          \"\\u12c8\\u12f0 \\u1275\\u121d\\u1205\\u122d\\u1275 \\u1264\\u1275 \\u1204\\u12f1\\u1361\\u1361\",\n          \"\\u12a5\\u1303\\u1278\\u12cd\\u1295\\u1293 \\u134a\\u1273\\u1278\\u12cd\\u1295 \\u1273\\u1320\\u1261\\u1361\\u1361\"\n        ],\n        \"semantic_type\": \"\",\n        \"description\": \"\"\n      }\n    },\n    {\n      \"column\": \"Awngi \",\n      \"properties\": {\n        \"dtype\": \"string\",\n        \"num_unique_values\": 5,\n        \"samples\": [\n          \"\\u12f4\\u1295\\u1261\\u1233 \\u1235\\u12ee \\u1234\\u12e9\\u1293\",\n          \"\\u1275\\u121d\\u122d\\u1275 \\u131d\\u1293\\u123e \\u12ab\\u1231\\u1293\\u1362\",\n          \"\\u1273\\u134e\\u1235\\u1273 \\u12a5\\u120b\\u134e \\u1251\\u1232\\u1293\"\n        ],\n        \"semantic_type\": \"\",\n        \"description\": \"\"\n      }\n    }\n  ]\n}"
            }
          },
          "metadata": {},
          "execution_count": 3
        }
      ]
    },
    {
      "cell_type": "code",
      "source": [],
      "metadata": {
        "id": "mrb68YSUT-Q4"
      },
      "execution_count": null,
      "outputs": []
    },
    {
      "cell_type": "code",
      "source": [
        "df.rename(columns={\"Awngi \":\"Awngi\"},inplace=True)\n",
        "df[\"Awngi\"]=df[\"Awngi\"].fillna(df[\"Awngi\"].mode()[0])\n",
        "df.head()"
      ],
      "metadata": {
        "colab": {
          "base_uri": "https://localhost:8080/",
          "height": 206
        },
        "id": "GvZUY3-1T-Vy",
        "outputId": "d862cd28-7151-4917-99da-b9e4a171a0f2"
      },
      "execution_count": 5,
      "outputs": [
        {
          "output_type": "execute_result",
          "data": {
            "text/plain": [
              "                                            Amharic  \\\n",
              "0                                      መፀዳጃ ቤት ሄዱ፡፡   \n",
              "1                                 የደንብ ልብሳቸውን ለበሱ፡፡   \n",
              "2                                እጃቸውንና ፊታቸውን ታጠቡ፡፡   \n",
              "3  ደብተራቸውን፣ መፅሃፋቸውን፣ እርሳስና እስክርቢቷቸውን ወደ ቦርሳቸው ከተቱ፡፡   \n",
              "4                                  ወደ ትምህርት ቤት ሄዱ፡፡   \n",
              "\n",
              "                                Awngi  \n",
              "0                            ቻኺ ጝና ካዃ  \n",
              "1                         ዴንቡሳ ስዮ ሴዩና  \n",
              "2                        ታፎስታ እላፎ ቑሲና  \n",
              "3  ዴብቴሮ፡ ሜፃፎ፡እርሳሶስታ እስክርቢቶ ቦርሳሾ ኬቴቱና።  \n",
              "4                       ትምርት ጝናሾ ካሱና።  "
            ],
            "text/html": [
              "\n",
              "  <div id=\"df-66d8b70e-4b31-4316-ad58-d632e5f0c030\" class=\"colab-df-container\">\n",
              "    <div>\n",
              "<style scoped>\n",
              "    .dataframe tbody tr th:only-of-type {\n",
              "        vertical-align: middle;\n",
              "    }\n",
              "\n",
              "    .dataframe tbody tr th {\n",
              "        vertical-align: top;\n",
              "    }\n",
              "\n",
              "    .dataframe thead th {\n",
              "        text-align: right;\n",
              "    }\n",
              "</style>\n",
              "<table border=\"1\" class=\"dataframe\">\n",
              "  <thead>\n",
              "    <tr style=\"text-align: right;\">\n",
              "      <th></th>\n",
              "      <th>Amharic</th>\n",
              "      <th>Awngi</th>\n",
              "    </tr>\n",
              "  </thead>\n",
              "  <tbody>\n",
              "    <tr>\n",
              "      <th>0</th>\n",
              "      <td>መፀዳጃ ቤት ሄዱ፡፡</td>\n",
              "      <td>ቻኺ ጝና ካዃ</td>\n",
              "    </tr>\n",
              "    <tr>\n",
              "      <th>1</th>\n",
              "      <td>የደንብ ልብሳቸውን ለበሱ፡፡</td>\n",
              "      <td>ዴንቡሳ ስዮ ሴዩና</td>\n",
              "    </tr>\n",
              "    <tr>\n",
              "      <th>2</th>\n",
              "      <td>እጃቸውንና ፊታቸውን ታጠቡ፡፡</td>\n",
              "      <td>ታፎስታ እላፎ ቑሲና</td>\n",
              "    </tr>\n",
              "    <tr>\n",
              "      <th>3</th>\n",
              "      <td>ደብተራቸውን፣ መፅሃፋቸውን፣ እርሳስና እስክርቢቷቸውን ወደ ቦርሳቸው ከተቱ፡፡</td>\n",
              "      <td>ዴብቴሮ፡ ሜፃፎ፡እርሳሶስታ እስክርቢቶ ቦርሳሾ ኬቴቱና።</td>\n",
              "    </tr>\n",
              "    <tr>\n",
              "      <th>4</th>\n",
              "      <td>ወደ ትምህርት ቤት ሄዱ፡፡</td>\n",
              "      <td>ትምርት ጝናሾ ካሱና።</td>\n",
              "    </tr>\n",
              "  </tbody>\n",
              "</table>\n",
              "</div>\n",
              "    <div class=\"colab-df-buttons\">\n",
              "\n",
              "  <div class=\"colab-df-container\">\n",
              "    <button class=\"colab-df-convert\" onclick=\"convertToInteractive('df-66d8b70e-4b31-4316-ad58-d632e5f0c030')\"\n",
              "            title=\"Convert this dataframe to an interactive table.\"\n",
              "            style=\"display:none;\">\n",
              "\n",
              "  <svg xmlns=\"http://www.w3.org/2000/svg\" height=\"24px\" viewBox=\"0 -960 960 960\">\n",
              "    <path d=\"M120-120v-720h720v720H120Zm60-500h600v-160H180v160Zm220 220h160v-160H400v160Zm0 220h160v-160H400v160ZM180-400h160v-160H180v160Zm440 0h160v-160H620v160ZM180-180h160v-160H180v160Zm440 0h160v-160H620v160Z\"/>\n",
              "  </svg>\n",
              "    </button>\n",
              "\n",
              "  <style>\n",
              "    .colab-df-container {\n",
              "      display:flex;\n",
              "      gap: 12px;\n",
              "    }\n",
              "\n",
              "    .colab-df-convert {\n",
              "      background-color: #E8F0FE;\n",
              "      border: none;\n",
              "      border-radius: 50%;\n",
              "      cursor: pointer;\n",
              "      display: none;\n",
              "      fill: #1967D2;\n",
              "      height: 32px;\n",
              "      padding: 0 0 0 0;\n",
              "      width: 32px;\n",
              "    }\n",
              "\n",
              "    .colab-df-convert:hover {\n",
              "      background-color: #E2EBFA;\n",
              "      box-shadow: 0px 1px 2px rgba(60, 64, 67, 0.3), 0px 1px 3px 1px rgba(60, 64, 67, 0.15);\n",
              "      fill: #174EA6;\n",
              "    }\n",
              "\n",
              "    .colab-df-buttons div {\n",
              "      margin-bottom: 4px;\n",
              "    }\n",
              "\n",
              "    [theme=dark] .colab-df-convert {\n",
              "      background-color: #3B4455;\n",
              "      fill: #D2E3FC;\n",
              "    }\n",
              "\n",
              "    [theme=dark] .colab-df-convert:hover {\n",
              "      background-color: #434B5C;\n",
              "      box-shadow: 0px 1px 3px 1px rgba(0, 0, 0, 0.15);\n",
              "      filter: drop-shadow(0px 1px 2px rgba(0, 0, 0, 0.3));\n",
              "      fill: #FFFFFF;\n",
              "    }\n",
              "  </style>\n",
              "\n",
              "    <script>\n",
              "      const buttonEl =\n",
              "        document.querySelector('#df-66d8b70e-4b31-4316-ad58-d632e5f0c030 button.colab-df-convert');\n",
              "      buttonEl.style.display =\n",
              "        google.colab.kernel.accessAllowed ? 'block' : 'none';\n",
              "\n",
              "      async function convertToInteractive(key) {\n",
              "        const element = document.querySelector('#df-66d8b70e-4b31-4316-ad58-d632e5f0c030');\n",
              "        const dataTable =\n",
              "          await google.colab.kernel.invokeFunction('convertToInteractive',\n",
              "                                                    [key], {});\n",
              "        if (!dataTable) return;\n",
              "\n",
              "        const docLinkHtml = 'Like what you see? Visit the ' +\n",
              "          '<a target=\"_blank\" href=https://colab.research.google.com/notebooks/data_table.ipynb>data table notebook</a>'\n",
              "          + ' to learn more about interactive tables.';\n",
              "        element.innerHTML = '';\n",
              "        dataTable['output_type'] = 'display_data';\n",
              "        await google.colab.output.renderOutput(dataTable, element);\n",
              "        const docLink = document.createElement('div');\n",
              "        docLink.innerHTML = docLinkHtml;\n",
              "        element.appendChild(docLink);\n",
              "      }\n",
              "    </script>\n",
              "  </div>\n",
              "\n",
              "\n",
              "<div id=\"df-69edc02a-33d8-41a0-b894-5c7ab838d23f\">\n",
              "  <button class=\"colab-df-quickchart\" onclick=\"quickchart('df-69edc02a-33d8-41a0-b894-5c7ab838d23f')\"\n",
              "            title=\"Suggest charts\"\n",
              "            style=\"display:none;\">\n",
              "\n",
              "<svg xmlns=\"http://www.w3.org/2000/svg\" height=\"24px\"viewBox=\"0 0 24 24\"\n",
              "     width=\"24px\">\n",
              "    <g>\n",
              "        <path d=\"M19 3H5c-1.1 0-2 .9-2 2v14c0 1.1.9 2 2 2h14c1.1 0 2-.9 2-2V5c0-1.1-.9-2-2-2zM9 17H7v-7h2v7zm4 0h-2V7h2v10zm4 0h-2v-4h2v4z\"/>\n",
              "    </g>\n",
              "</svg>\n",
              "  </button>\n",
              "\n",
              "<style>\n",
              "  .colab-df-quickchart {\n",
              "      --bg-color: #E8F0FE;\n",
              "      --fill-color: #1967D2;\n",
              "      --hover-bg-color: #E2EBFA;\n",
              "      --hover-fill-color: #174EA6;\n",
              "      --disabled-fill-color: #AAA;\n",
              "      --disabled-bg-color: #DDD;\n",
              "  }\n",
              "\n",
              "  [theme=dark] .colab-df-quickchart {\n",
              "      --bg-color: #3B4455;\n",
              "      --fill-color: #D2E3FC;\n",
              "      --hover-bg-color: #434B5C;\n",
              "      --hover-fill-color: #FFFFFF;\n",
              "      --disabled-bg-color: #3B4455;\n",
              "      --disabled-fill-color: #666;\n",
              "  }\n",
              "\n",
              "  .colab-df-quickchart {\n",
              "    background-color: var(--bg-color);\n",
              "    border: none;\n",
              "    border-radius: 50%;\n",
              "    cursor: pointer;\n",
              "    display: none;\n",
              "    fill: var(--fill-color);\n",
              "    height: 32px;\n",
              "    padding: 0;\n",
              "    width: 32px;\n",
              "  }\n",
              "\n",
              "  .colab-df-quickchart:hover {\n",
              "    background-color: var(--hover-bg-color);\n",
              "    box-shadow: 0 1px 2px rgba(60, 64, 67, 0.3), 0 1px 3px 1px rgba(60, 64, 67, 0.15);\n",
              "    fill: var(--button-hover-fill-color);\n",
              "  }\n",
              "\n",
              "  .colab-df-quickchart-complete:disabled,\n",
              "  .colab-df-quickchart-complete:disabled:hover {\n",
              "    background-color: var(--disabled-bg-color);\n",
              "    fill: var(--disabled-fill-color);\n",
              "    box-shadow: none;\n",
              "  }\n",
              "\n",
              "  .colab-df-spinner {\n",
              "    border: 2px solid var(--fill-color);\n",
              "    border-color: transparent;\n",
              "    border-bottom-color: var(--fill-color);\n",
              "    animation:\n",
              "      spin 1s steps(1) infinite;\n",
              "  }\n",
              "\n",
              "  @keyframes spin {\n",
              "    0% {\n",
              "      border-color: transparent;\n",
              "      border-bottom-color: var(--fill-color);\n",
              "      border-left-color: var(--fill-color);\n",
              "    }\n",
              "    20% {\n",
              "      border-color: transparent;\n",
              "      border-left-color: var(--fill-color);\n",
              "      border-top-color: var(--fill-color);\n",
              "    }\n",
              "    30% {\n",
              "      border-color: transparent;\n",
              "      border-left-color: var(--fill-color);\n",
              "      border-top-color: var(--fill-color);\n",
              "      border-right-color: var(--fill-color);\n",
              "    }\n",
              "    40% {\n",
              "      border-color: transparent;\n",
              "      border-right-color: var(--fill-color);\n",
              "      border-top-color: var(--fill-color);\n",
              "    }\n",
              "    60% {\n",
              "      border-color: transparent;\n",
              "      border-right-color: var(--fill-color);\n",
              "    }\n",
              "    80% {\n",
              "      border-color: transparent;\n",
              "      border-right-color: var(--fill-color);\n",
              "      border-bottom-color: var(--fill-color);\n",
              "    }\n",
              "    90% {\n",
              "      border-color: transparent;\n",
              "      border-bottom-color: var(--fill-color);\n",
              "    }\n",
              "  }\n",
              "</style>\n",
              "\n",
              "  <script>\n",
              "    async function quickchart(key) {\n",
              "      const quickchartButtonEl =\n",
              "        document.querySelector('#' + key + ' button');\n",
              "      quickchartButtonEl.disabled = true;  // To prevent multiple clicks.\n",
              "      quickchartButtonEl.classList.add('colab-df-spinner');\n",
              "      try {\n",
              "        const charts = await google.colab.kernel.invokeFunction(\n",
              "            'suggestCharts', [key], {});\n",
              "      } catch (error) {\n",
              "        console.error('Error during call to suggestCharts:', error);\n",
              "      }\n",
              "      quickchartButtonEl.classList.remove('colab-df-spinner');\n",
              "      quickchartButtonEl.classList.add('colab-df-quickchart-complete');\n",
              "    }\n",
              "    (() => {\n",
              "      let quickchartButtonEl =\n",
              "        document.querySelector('#df-69edc02a-33d8-41a0-b894-5c7ab838d23f button');\n",
              "      quickchartButtonEl.style.display =\n",
              "        google.colab.kernel.accessAllowed ? 'block' : 'none';\n",
              "    })();\n",
              "  </script>\n",
              "</div>\n",
              "\n",
              "    </div>\n",
              "  </div>\n"
            ],
            "application/vnd.google.colaboratory.intrinsic+json": {
              "type": "dataframe",
              "variable_name": "df",
              "summary": "{\n  \"name\": \"df\",\n  \"rows\": 27818,\n  \"fields\": [\n    {\n      \"column\": \"Amharic\",\n      \"properties\": {\n        \"dtype\": \"category\",\n        \"num_unique_values\": 6301,\n        \"samples\": [\n          \"\\u12a0\\u127a\\u1275\\u1319\\u1291 \\u130a\\u12dd 2009 \\u121d\\u122c\\u1275 \\u12a0\\u121c\\u1275\\u12f3 \\u12eb\\u12b9\\u1292\\u12aa\\u120b \\u120b\\u121d\\u1261\\u1233\\u12ba\\u1235\\u1273 \\u131d\\u1293 \\u130d\\u1262\\u1344 \\u1265\\u1274 \\u12a0\\u130d\\u1344\\u12ab\\u12eb\\u120b::\",\n          \"\\u1309\\u12de \\u1300\\u1218\\u1229\\u1362\",\n          \"\\u12a5\\u123d\\u12be\"\n        ],\n        \"semantic_type\": \"\",\n        \"description\": \"\"\n      }\n    },\n    {\n      \"column\": \"Awngi\",\n      \"properties\": {\n        \"dtype\": \"category\",\n        \"num_unique_values\": 4739,\n        \"samples\": [\n          \"\\u120e\\u121a\\u1293\\u1275 \\u1353\\u122d\\u120b\\u121b\\u12cd\\u1235 \\u1309\\u120b\\u120a\\u1235 \\u120d\\u12ba\\u1275\\u131d\\u1271\\u12bb\",\n          \"\\u1251\\u1295\\u12dd\\u12ab\\u12cb \\u12ab\\u120b\\u12ab\\u120d\\u131d\\u131d \\u134b\\u12ed\\u1344\",\n          \"\\u12f4\\u12f4\\u12ad \\u12a5\\u1295\\u1345\\u12bc \\u1304\\u121c\\u122d\\u131d\\u12aa\\u120b \\u12ed\\u1276\\u1352\\u12eb \\u12a0\\u120c\\u1219 \\u12a0\\u1261\\u1251 \\u121c\\u12f5\\u122c\\u12bd\\u12ab\\u12f3 \\u12bd\\u1233\\u1295\\u1274 \\u127b\\u1292\\u1235\\u1276 \\u120c\\u1295\\u130c\\u12f5\\u1344\\u1273 \\u1344\\u12cb::\"\n        ],\n        \"semantic_type\": \"\",\n        \"description\": \"\"\n      }\n    }\n  ]\n}"
            }
          },
          "metadata": {},
          "execution_count": 5
        }
      ]
    },
    {
      "cell_type": "markdown",
      "metadata": {
        "id": "1RpZVHMJT4vU"
      },
      "source": [
        "Clean the text by removing punctuation symbols and numbers, converting characters to lowercase, and replacing Unicode characters with their ASCII equivalents:"
      ]
    },
    {
      "cell_type": "code",
      "execution_count": 6,
      "metadata": {
        "colab": {
          "base_uri": "https://localhost:8080/",
          "height": 206
        },
        "id": "-NQ5yXcjT4vU",
        "outputId": "214d0ef0-6cb3-4743-d9c4-38c9faec1cdf"
      },
      "outputs": [
        {
          "output_type": "execute_result",
          "data": {
            "text/plain": [
              "                                            Amharic  \\\n",
              "0                                      መፀዳጃ ቤት ሄዱ፡፡   \n",
              "1                                 የደንብ ልብሳቸውን ለበሱ፡፡   \n",
              "2                                እጃቸውንና ፊታቸውን ታጠቡ፡፡   \n",
              "3  ደብተራቸውን፣ መፅሃፋቸውን፣ እርሳስና እስክርቢቷቸውን ወደ ቦርሳቸው ከተቱ፡፡   \n",
              "4                                  ወደ ትምህርት ቤት ሄዱ፡፡   \n",
              "\n",
              "                                Awngi  \n",
              "0                            ቻኺ ጝና ካዃ  \n",
              "1                         ዴንቡሳ ስዮ ሴዩና  \n",
              "2                        ታፎስታ እላፎ ቑሲና  \n",
              "3  ዴብቴሮ፡ ሜፃፎ፡እርሳሶስታ እስክርቢቶ ቦርሳሾ ኬቴቱና።  \n",
              "4                       ትምርት ጝናሾ ካሱና።  "
            ],
            "text/html": [
              "\n",
              "  <div id=\"df-12c1b319-dc91-4cdb-93d1-9b15c8beaf67\" class=\"colab-df-container\">\n",
              "    <div>\n",
              "<style scoped>\n",
              "    .dataframe tbody tr th:only-of-type {\n",
              "        vertical-align: middle;\n",
              "    }\n",
              "\n",
              "    .dataframe tbody tr th {\n",
              "        vertical-align: top;\n",
              "    }\n",
              "\n",
              "    .dataframe thead th {\n",
              "        text-align: right;\n",
              "    }\n",
              "</style>\n",
              "<table border=\"1\" class=\"dataframe\">\n",
              "  <thead>\n",
              "    <tr style=\"text-align: right;\">\n",
              "      <th></th>\n",
              "      <th>Amharic</th>\n",
              "      <th>Awngi</th>\n",
              "    </tr>\n",
              "  </thead>\n",
              "  <tbody>\n",
              "    <tr>\n",
              "      <th>0</th>\n",
              "      <td>መፀዳጃ ቤት ሄዱ፡፡</td>\n",
              "      <td>ቻኺ ጝና ካዃ</td>\n",
              "    </tr>\n",
              "    <tr>\n",
              "      <th>1</th>\n",
              "      <td>የደንብ ልብሳቸውን ለበሱ፡፡</td>\n",
              "      <td>ዴንቡሳ ስዮ ሴዩና</td>\n",
              "    </tr>\n",
              "    <tr>\n",
              "      <th>2</th>\n",
              "      <td>እጃቸውንና ፊታቸውን ታጠቡ፡፡</td>\n",
              "      <td>ታፎስታ እላፎ ቑሲና</td>\n",
              "    </tr>\n",
              "    <tr>\n",
              "      <th>3</th>\n",
              "      <td>ደብተራቸውን፣ መፅሃፋቸውን፣ እርሳስና እስክርቢቷቸውን ወደ ቦርሳቸው ከተቱ፡፡</td>\n",
              "      <td>ዴብቴሮ፡ ሜፃፎ፡እርሳሶስታ እስክርቢቶ ቦርሳሾ ኬቴቱና።</td>\n",
              "    </tr>\n",
              "    <tr>\n",
              "      <th>4</th>\n",
              "      <td>ወደ ትምህርት ቤት ሄዱ፡፡</td>\n",
              "      <td>ትምርት ጝናሾ ካሱና።</td>\n",
              "    </tr>\n",
              "  </tbody>\n",
              "</table>\n",
              "</div>\n",
              "    <div class=\"colab-df-buttons\">\n",
              "\n",
              "  <div class=\"colab-df-container\">\n",
              "    <button class=\"colab-df-convert\" onclick=\"convertToInteractive('df-12c1b319-dc91-4cdb-93d1-9b15c8beaf67')\"\n",
              "            title=\"Convert this dataframe to an interactive table.\"\n",
              "            style=\"display:none;\">\n",
              "\n",
              "  <svg xmlns=\"http://www.w3.org/2000/svg\" height=\"24px\" viewBox=\"0 -960 960 960\">\n",
              "    <path d=\"M120-120v-720h720v720H120Zm60-500h600v-160H180v160Zm220 220h160v-160H400v160Zm0 220h160v-160H400v160ZM180-400h160v-160H180v160Zm440 0h160v-160H620v160ZM180-180h160v-160H180v160Zm440 0h160v-160H620v160Z\"/>\n",
              "  </svg>\n",
              "    </button>\n",
              "\n",
              "  <style>\n",
              "    .colab-df-container {\n",
              "      display:flex;\n",
              "      gap: 12px;\n",
              "    }\n",
              "\n",
              "    .colab-df-convert {\n",
              "      background-color: #E8F0FE;\n",
              "      border: none;\n",
              "      border-radius: 50%;\n",
              "      cursor: pointer;\n",
              "      display: none;\n",
              "      fill: #1967D2;\n",
              "      height: 32px;\n",
              "      padding: 0 0 0 0;\n",
              "      width: 32px;\n",
              "    }\n",
              "\n",
              "    .colab-df-convert:hover {\n",
              "      background-color: #E2EBFA;\n",
              "      box-shadow: 0px 1px 2px rgba(60, 64, 67, 0.3), 0px 1px 3px 1px rgba(60, 64, 67, 0.15);\n",
              "      fill: #174EA6;\n",
              "    }\n",
              "\n",
              "    .colab-df-buttons div {\n",
              "      margin-bottom: 4px;\n",
              "    }\n",
              "\n",
              "    [theme=dark] .colab-df-convert {\n",
              "      background-color: #3B4455;\n",
              "      fill: #D2E3FC;\n",
              "    }\n",
              "\n",
              "    [theme=dark] .colab-df-convert:hover {\n",
              "      background-color: #434B5C;\n",
              "      box-shadow: 0px 1px 3px 1px rgba(0, 0, 0, 0.15);\n",
              "      filter: drop-shadow(0px 1px 2px rgba(0, 0, 0, 0.3));\n",
              "      fill: #FFFFFF;\n",
              "    }\n",
              "  </style>\n",
              "\n",
              "    <script>\n",
              "      const buttonEl =\n",
              "        document.querySelector('#df-12c1b319-dc91-4cdb-93d1-9b15c8beaf67 button.colab-df-convert');\n",
              "      buttonEl.style.display =\n",
              "        google.colab.kernel.accessAllowed ? 'block' : 'none';\n",
              "\n",
              "      async function convertToInteractive(key) {\n",
              "        const element = document.querySelector('#df-12c1b319-dc91-4cdb-93d1-9b15c8beaf67');\n",
              "        const dataTable =\n",
              "          await google.colab.kernel.invokeFunction('convertToInteractive',\n",
              "                                                    [key], {});\n",
              "        if (!dataTable) return;\n",
              "\n",
              "        const docLinkHtml = 'Like what you see? Visit the ' +\n",
              "          '<a target=\"_blank\" href=https://colab.research.google.com/notebooks/data_table.ipynb>data table notebook</a>'\n",
              "          + ' to learn more about interactive tables.';\n",
              "        element.innerHTML = '';\n",
              "        dataTable['output_type'] = 'display_data';\n",
              "        await google.colab.output.renderOutput(dataTable, element);\n",
              "        const docLink = document.createElement('div');\n",
              "        docLink.innerHTML = docLinkHtml;\n",
              "        element.appendChild(docLink);\n",
              "      }\n",
              "    </script>\n",
              "  </div>\n",
              "\n",
              "\n",
              "<div id=\"df-ab5ad5c3-4e90-456d-b3ed-7fa678e27ee8\">\n",
              "  <button class=\"colab-df-quickchart\" onclick=\"quickchart('df-ab5ad5c3-4e90-456d-b3ed-7fa678e27ee8')\"\n",
              "            title=\"Suggest charts\"\n",
              "            style=\"display:none;\">\n",
              "\n",
              "<svg xmlns=\"http://www.w3.org/2000/svg\" height=\"24px\"viewBox=\"0 0 24 24\"\n",
              "     width=\"24px\">\n",
              "    <g>\n",
              "        <path d=\"M19 3H5c-1.1 0-2 .9-2 2v14c0 1.1.9 2 2 2h14c1.1 0 2-.9 2-2V5c0-1.1-.9-2-2-2zM9 17H7v-7h2v7zm4 0h-2V7h2v10zm4 0h-2v-4h2v4z\"/>\n",
              "    </g>\n",
              "</svg>\n",
              "  </button>\n",
              "\n",
              "<style>\n",
              "  .colab-df-quickchart {\n",
              "      --bg-color: #E8F0FE;\n",
              "      --fill-color: #1967D2;\n",
              "      --hover-bg-color: #E2EBFA;\n",
              "      --hover-fill-color: #174EA6;\n",
              "      --disabled-fill-color: #AAA;\n",
              "      --disabled-bg-color: #DDD;\n",
              "  }\n",
              "\n",
              "  [theme=dark] .colab-df-quickchart {\n",
              "      --bg-color: #3B4455;\n",
              "      --fill-color: #D2E3FC;\n",
              "      --hover-bg-color: #434B5C;\n",
              "      --hover-fill-color: #FFFFFF;\n",
              "      --disabled-bg-color: #3B4455;\n",
              "      --disabled-fill-color: #666;\n",
              "  }\n",
              "\n",
              "  .colab-df-quickchart {\n",
              "    background-color: var(--bg-color);\n",
              "    border: none;\n",
              "    border-radius: 50%;\n",
              "    cursor: pointer;\n",
              "    display: none;\n",
              "    fill: var(--fill-color);\n",
              "    height: 32px;\n",
              "    padding: 0;\n",
              "    width: 32px;\n",
              "  }\n",
              "\n",
              "  .colab-df-quickchart:hover {\n",
              "    background-color: var(--hover-bg-color);\n",
              "    box-shadow: 0 1px 2px rgba(60, 64, 67, 0.3), 0 1px 3px 1px rgba(60, 64, 67, 0.15);\n",
              "    fill: var(--button-hover-fill-color);\n",
              "  }\n",
              "\n",
              "  .colab-df-quickchart-complete:disabled,\n",
              "  .colab-df-quickchart-complete:disabled:hover {\n",
              "    background-color: var(--disabled-bg-color);\n",
              "    fill: var(--disabled-fill-color);\n",
              "    box-shadow: none;\n",
              "  }\n",
              "\n",
              "  .colab-df-spinner {\n",
              "    border: 2px solid var(--fill-color);\n",
              "    border-color: transparent;\n",
              "    border-bottom-color: var(--fill-color);\n",
              "    animation:\n",
              "      spin 1s steps(1) infinite;\n",
              "  }\n",
              "\n",
              "  @keyframes spin {\n",
              "    0% {\n",
              "      border-color: transparent;\n",
              "      border-bottom-color: var(--fill-color);\n",
              "      border-left-color: var(--fill-color);\n",
              "    }\n",
              "    20% {\n",
              "      border-color: transparent;\n",
              "      border-left-color: var(--fill-color);\n",
              "      border-top-color: var(--fill-color);\n",
              "    }\n",
              "    30% {\n",
              "      border-color: transparent;\n",
              "      border-left-color: var(--fill-color);\n",
              "      border-top-color: var(--fill-color);\n",
              "      border-right-color: var(--fill-color);\n",
              "    }\n",
              "    40% {\n",
              "      border-color: transparent;\n",
              "      border-right-color: var(--fill-color);\n",
              "      border-top-color: var(--fill-color);\n",
              "    }\n",
              "    60% {\n",
              "      border-color: transparent;\n",
              "      border-right-color: var(--fill-color);\n",
              "    }\n",
              "    80% {\n",
              "      border-color: transparent;\n",
              "      border-right-color: var(--fill-color);\n",
              "      border-bottom-color: var(--fill-color);\n",
              "    }\n",
              "    90% {\n",
              "      border-color: transparent;\n",
              "      border-bottom-color: var(--fill-color);\n",
              "    }\n",
              "  }\n",
              "</style>\n",
              "\n",
              "  <script>\n",
              "    async function quickchart(key) {\n",
              "      const quickchartButtonEl =\n",
              "        document.querySelector('#' + key + ' button');\n",
              "      quickchartButtonEl.disabled = true;  // To prevent multiple clicks.\n",
              "      quickchartButtonEl.classList.add('colab-df-spinner');\n",
              "      try {\n",
              "        const charts = await google.colab.kernel.invokeFunction(\n",
              "            'suggestCharts', [key], {});\n",
              "      } catch (error) {\n",
              "        console.error('Error during call to suggestCharts:', error);\n",
              "      }\n",
              "      quickchartButtonEl.classList.remove('colab-df-spinner');\n",
              "      quickchartButtonEl.classList.add('colab-df-quickchart-complete');\n",
              "    }\n",
              "    (() => {\n",
              "      let quickchartButtonEl =\n",
              "        document.querySelector('#df-ab5ad5c3-4e90-456d-b3ed-7fa678e27ee8 button');\n",
              "      quickchartButtonEl.style.display =\n",
              "        google.colab.kernel.accessAllowed ? 'block' : 'none';\n",
              "    })();\n",
              "  </script>\n",
              "</div>\n",
              "\n",
              "    </div>\n",
              "  </div>\n"
            ],
            "application/vnd.google.colaboratory.intrinsic+json": {
              "type": "dataframe",
              "variable_name": "df",
              "summary": "{\n  \"name\": \"df\",\n  \"rows\": 27818,\n  \"fields\": [\n    {\n      \"column\": \"Amharic\",\n      \"properties\": {\n        \"dtype\": \"category\",\n        \"num_unique_values\": 6301,\n        \"samples\": [\n          \"\\u12a0\\u127a\\u1275\\u1319\\u1291 \\u130a\\u12dd 2009 \\u121d\\u122c\\u1275 \\u12a0\\u121c\\u1275\\u12f3 \\u12eb\\u12b9\\u1292\\u12aa\\u120b \\u120b\\u121d\\u1261\\u1233\\u12ba\\u1235\\u1273 \\u131d\\u1293 \\u130d\\u1262\\u1344 \\u1265\\u1274 \\u12a0\\u130d\\u1344\\u12ab\\u12eb\\u120b::\",\n          \"\\u1309\\u12de \\u1300\\u1218\\u1229\\u1362\",\n          \"\\u12a5\\u123d\\u12be\"\n        ],\n        \"semantic_type\": \"\",\n        \"description\": \"\"\n      }\n    },\n    {\n      \"column\": \"Awngi\",\n      \"properties\": {\n        \"dtype\": \"category\",\n        \"num_unique_values\": 4739,\n        \"samples\": [\n          \"\\u120e\\u121a\\u1293\\u1275 \\u1353\\u122d\\u120b\\u121b\\u12cd\\u1235 \\u1309\\u120b\\u120a\\u1235 \\u120d\\u12ba\\u1275\\u131d\\u1271\\u12bb\",\n          \"\\u1251\\u1295\\u12dd\\u12ab\\u12cb \\u12ab\\u120b\\u12ab\\u120d\\u131d\\u131d \\u134b\\u12ed\\u1344\",\n          \"\\u12f4\\u12f4\\u12ad \\u12a5\\u1295\\u1345\\u12bc \\u1304\\u121c\\u122d\\u131d\\u12aa\\u120b \\u12ed\\u1276\\u1352\\u12eb \\u12a0\\u120c\\u1219 \\u12a0\\u1261\\u1251 \\u121c\\u12f5\\u122c\\u12bd\\u12ab\\u12f3 \\u12bd\\u1233\\u1295\\u1274 \\u127b\\u1292\\u1235\\u1276 \\u120c\\u1295\\u130c\\u12f5\\u1344\\u1273 \\u1344\\u12cb::\"\n        ],\n        \"semantic_type\": \"\",\n        \"description\": \"\"\n      }\n    }\n  ]\n}"
            }
          },
          "metadata": {},
          "execution_count": 6
        }
      ],
      "source": [
        "import re\n",
        "from unicodedata import normalize\n",
        "\n",
        "def clean_text(text):\n",
        "    text = normalize('NFD', text.lower())\n",
        "    #text = re.sub('[^A-Za-z ]+', '', text)\n",
        "    return text\n",
        "df3=df.copy()\n",
        "df['Amharic'] = df['Amharic'].apply(lambda row: clean_text(row))\n",
        "df['Awngi'] = df['Awngi'].apply(lambda row: clean_text(row))\n",
        "df.head()"
      ]
    },
    {
      "cell_type": "markdown",
      "metadata": {
        "id": "TTHfcDkrT4vV"
      },
      "source": [
        "The next step is to scan the phrases and determine the maximum length of the English phrases and then of the French phrases. These lengths will determine the lengths of the sequences input to and output from the model:"
      ]
    },
    {
      "cell_type": "code",
      "execution_count": 7,
      "metadata": {
        "colab": {
          "base_uri": "https://localhost:8080/"
        },
        "id": "5Au1awJDT4vV",
        "outputId": "1da832e8-a5e8-45a5-d15e-a1751a1c1a7a"
      },
      "outputs": [
        {
          "output_type": "stream",
          "name": "stdout",
          "text": [
            "Max phrase length (Amharic): 75\n",
            "Max phrase length (Awngi): 75\n"
          ]
        }
      ],
      "source": [
        "am = df['Amharic']\n",
        "aw = df['Awngi']\n",
        "\n",
        "am_max_len = max(len(line.split()) for line in am)\n",
        "aw_max_len = max(len(line.split()) for line in aw)\n",
        "\n",
        "print(f'Max phrase length (Amharic): {am_max_len}')\n",
        "print(f'Max phrase length (Awngi): {aw_max_len}')"
      ]
    },
    {
      "cell_type": "markdown",
      "metadata": {
        "id": "uGrYki-vT4vV"
      },
      "source": [
        "Now fit one `Tokenizer` to the Amharic phrases and another `Tokenizer` to their Awngi equivalents, and generate padded sequences for all the phrases:"
      ]
    },
    {
      "cell_type": "code",
      "execution_count": 7,
      "metadata": {
        "id": "vQxS7Y15T4vV"
      },
      "outputs": [],
      "source": [
        "from tensorflow.keras.preprocessing.text import Tokenizer\n",
        "from tensorflow.keras.preprocessing.sequence import pad_sequences\n",
        "\n",
        "am_tokenizer = Tokenizer()\n",
        "am_tokenizer.fit_on_texts(am)\n",
        "am_sequences = am_tokenizer.texts_to_sequences(am)\n",
        "am_x = pad_sequences(am_sequences, maxlen=am_max_len, padding='post')\n",
        "\n",
        "aw_tokenizer = Tokenizer()\n",
        "aw_tokenizer.fit_on_texts(aw)\n",
        "aw_sequences = aw_tokenizer.texts_to_sequences(aw)\n",
        "aw_y = pad_sequences(aw_sequences, maxlen=aw_max_len, padding='post')"
      ]
    },
    {
      "cell_type": "markdown",
      "metadata": {
        "id": "X1LTWt5xT4vW"
      },
      "source": [
        "Compute the vocabulary sizes from the `Tokenizer` instances:"
      ]
    },
    {
      "cell_type": "code",
      "execution_count": 8,
      "metadata": {
        "colab": {
          "base_uri": "https://localhost:8080/"
        },
        "id": "AxBtkL8BT4vW",
        "outputId": "477bfe31-0f3e-4089-8249-ff26601afc8b"
      },
      "outputs": [
        {
          "output_type": "stream",
          "name": "stdout",
          "text": [
            "Vocabulary size (Amharic): 13082\n",
            "Vocabulary size (Awngi): 12664\n"
          ]
        }
      ],
      "source": [
        "am_vocab_size = len(am_tokenizer.word_index) + 1\n",
        "aw_vocab_size = len(aw_tokenizer.word_index) + 1\n",
        "\n",
        "print(f'Vocabulary size (Amharic): {am_vocab_size}')\n",
        "print(f'Vocabulary size (Awngi): {aw_vocab_size}')"
      ]
    },
    {
      "cell_type": "markdown",
      "metadata": {
        "id": "BXROFXgDT4vX"
      },
      "source": [
        "## Build and train a model\n",
        "\n",
        "Now it's time to define a model. We'll start with an `Embedding` layer followed by an `LSTM` layer that encodes Amharic phrases, words and sentence input to the model. A second `LSTM` layer decodes those phrases into their Awngi equivalents. In between is a `RepeatVector` layer whose purpose is to reshape the output from the first `LSTM` layer for input to the second. The final layer is a softmax classification layer that outputs probabilities for each word in the Awngi vocabulary. The `TimeDistributed` wrapper ensures that the model outputs a set of probabilities for each token (word) in the output rather than just one set for the entire sequence."
      ]
    },
    {
      "cell_type": "code",
      "execution_count": 10,
      "metadata": {
        "colab": {
          "base_uri": "https://localhost:8080/"
        },
        "id": "_Az-PPPVT4vX",
        "outputId": "53789c4e-11b7-41b3-9411-8a6cce607bef"
      },
      "outputs": [
        {
          "output_type": "stream",
          "name": "stdout",
          "text": [
            "Model: \"sequential\"\n",
            "____________________________________________________________________________________________________\n",
            " Layer (type)                                Output Shape                            Param #        \n",
            "====================================================================================================\n",
            " embedding (Embedding)                       (None, 75, 256)                         3348992        \n",
            "                                                                                                    \n",
            " lstm (LSTM)                                 (None, 256)                             525312         \n",
            "                                                                                                    \n",
            " repeat_vector (RepeatVector)                (None, 75, 256)                         0              \n",
            "                                                                                                    \n",
            " lstm_1 (LSTM)                               (None, 75, 256)                         525312         \n",
            "                                                                                                    \n",
            " dropout (Dropout)                           (None, 75, 256)                         0              \n",
            "                                                                                                    \n",
            " time_distributed (TimeDistributed)          (None, 75, 12664)                       3254648        \n",
            "                                                                                                    \n",
            "====================================================================================================\n",
            "Total params: 7654264 (29.20 MB)\n",
            "Trainable params: 7654264 (29.20 MB)\n",
            "Non-trainable params: 0 (0.00 Byte)\n",
            "____________________________________________________________________________________________________\n"
          ]
        }
      ],
      "source": [
        "import numpy as np\n",
        "import tensorflow as tf\n",
        "from tensorflow.keras.models import Sequential\n",
        "from tensorflow.keras.layers import Dense, Embedding, LSTM, RepeatVector, TimeDistributed, Dropout\n",
        "\n",
        "np.random.seed(42)\n",
        "tf.random.set_seed(42)\n",
        "\n",
        "model = Sequential()\n",
        "model.add(Embedding(am_vocab_size, 256, input_length=am_max_len, mask_zero=True))\n",
        "model.add(LSTM(256))\n",
        "model.add(RepeatVector(aw_max_len))\n",
        "model.add(LSTM(256, return_sequences=True))\n",
        "model.add(Dropout(0.4))\n",
        "model.add(TimeDistributed(Dense(aw_vocab_size, activation='softmax')))\n",
        "model.compile(loss='sparse_categorical_crossentropy', optimizer='adam', metrics=['accuracy'])\n",
        "model.summary(line_length=100)"
      ]
    },
    {
      "cell_type": "markdown",
      "metadata": {
        "id": "wlbQ6QozT4vX"
      },
      "source": [
        "Train the model, and use an `EarlyStopping` callback to end training if the validation accuracy fails to improve for three consecutive epochs:"
      ]
    },
    {
      "cell_type": "code",
      "execution_count": null,
      "metadata": {
        "colab": {
          "base_uri": "https://localhost:8080/"
        },
        "id": "PVvnF2ntT4vY",
        "outputId": "8a214416-2e21-445c-dd8a-5b47c4c89fc4"
      },
      "outputs": [
        {
          "output_type": "stream",
          "name": "stdout",
          "text": [
            "Epoch 1/50\n",
            "446/446 [==============================] - 69s 131ms/step - loss: 1.0326 - accuracy: 0.9218 - val_loss: 0.6284 - val_accuracy: 0.9333\n",
            "Epoch 2/50\n",
            "446/446 [==============================] - 46s 102ms/step - loss: 0.6422 - accuracy: 0.9282 - val_loss: 0.5428 - val_accuracy: 0.9386\n",
            "Epoch 3/50\n",
            "446/446 [==============================] - 44s 99ms/step - loss: 0.6031 - accuracy: 0.9289 - val_loss: 0.5106 - val_accuracy: 0.9390\n",
            "Epoch 4/50\n",
            "446/446 [==============================] - 42s 95ms/step - loss: 0.5741 - accuracy: 0.9291 - val_loss: 0.4874 - val_accuracy: 0.9390\n",
            "Epoch 5/50\n",
            "446/446 [==============================] - 43s 96ms/step - loss: 0.5506 - accuracy: 0.9292 - val_loss: 0.4686 - val_accuracy: 0.9392\n",
            "Epoch 6/50\n",
            "446/446 [==============================] - 42s 95ms/step - loss: 0.5309 - accuracy: 0.9294 - val_loss: 0.4444 - val_accuracy: 0.9394\n",
            "Epoch 7/50\n",
            "446/446 [==============================] - 43s 96ms/step - loss: 0.5086 - accuracy: 0.9296 - val_loss: 0.4262 - val_accuracy: 0.9396\n",
            "Epoch 8/50\n",
            "446/446 [==============================] - 42s 95ms/step - loss: 0.4899 - accuracy: 0.9299 - val_loss: 0.4047 - val_accuracy: 0.9400\n",
            "Epoch 9/50\n",
            "446/446 [==============================] - 42s 94ms/step - loss: 0.4679 - accuracy: 0.9303 - val_loss: 0.3871 - val_accuracy: 0.9405\n",
            "Epoch 10/50\n",
            "446/446 [==============================] - 42s 94ms/step - loss: 0.4464 - accuracy: 0.9312 - val_loss: 0.3709 - val_accuracy: 0.9413\n",
            "Epoch 11/50\n",
            "446/446 [==============================] - 42s 93ms/step - loss: 0.4237 - accuracy: 0.9323 - val_loss: 0.3416 - val_accuracy: 0.9439\n",
            "Epoch 12/50\n",
            "446/446 [==============================] - 42s 94ms/step - loss: 0.4001 - accuracy: 0.9343 - val_loss: 0.3163 - val_accuracy: 0.9463\n",
            "Epoch 13/50\n",
            "446/446 [==============================] - 42s 94ms/step - loss: 0.3735 - accuracy: 0.9369 - val_loss: 0.2956 - val_accuracy: 0.9494\n",
            "Epoch 14/50\n",
            "446/446 [==============================] - 42s 95ms/step - loss: 0.3478 - accuracy: 0.9399 - val_loss: 0.2650 - val_accuracy: 0.9536\n",
            "Epoch 15/50\n",
            "446/446 [==============================] - 42s 95ms/step - loss: 0.3173 - accuracy: 0.9438 - val_loss: 0.2372 - val_accuracy: 0.9575\n",
            "Epoch 16/50\n",
            "446/446 [==============================] - 42s 94ms/step - loss: 0.2942 - accuracy: 0.9473 - val_loss: 0.2164 - val_accuracy: 0.9607\n",
            "Epoch 17/50\n",
            "446/446 [==============================] - 42s 94ms/step - loss: 0.2683 - accuracy: 0.9511 - val_loss: 0.1911 - val_accuracy: 0.9657\n",
            "Epoch 18/50\n",
            "446/446 [==============================] - 42s 94ms/step - loss: 0.2479 - accuracy: 0.9543 - val_loss: 0.1729 - val_accuracy: 0.9682\n",
            "Epoch 19/50\n",
            "446/446 [==============================] - 43s 96ms/step - loss: 0.2324 - accuracy: 0.9566 - val_loss: 0.1601 - val_accuracy: 0.9710\n",
            "Epoch 20/50\n",
            "446/446 [==============================] - 43s 96ms/step - loss: 0.2236 - accuracy: 0.9582 - val_loss: 0.1661 - val_accuracy: 0.9707\n",
            "Epoch 21/50\n",
            "446/446 [==============================] - 43s 95ms/step - loss: 0.2044 - accuracy: 0.9609 - val_loss: 0.1276 - val_accuracy: 0.9762\n",
            "Epoch 22/50\n",
            "446/446 [==============================] - 43s 95ms/step - loss: 0.1853 - accuracy: 0.9634 - val_loss: 0.1130 - val_accuracy: 0.9778\n",
            "Epoch 23/50\n",
            "446/446 [==============================] - 43s 96ms/step - loss: 0.1754 - accuracy: 0.9647 - val_loss: 0.1072 - val_accuracy: 0.9779\n",
            "Epoch 24/50\n",
            "446/446 [==============================] - 43s 96ms/step - loss: 0.1637 - accuracy: 0.9664 - val_loss: 0.0977 - val_accuracy: 0.9801\n",
            "Epoch 25/50\n",
            "446/446 [==============================] - 42s 94ms/step - loss: 0.1586 - accuracy: 0.9669 - val_loss: 0.1037 - val_accuracy: 0.9777\n",
            "Epoch 26/50\n",
            "446/446 [==============================] - 42s 94ms/step - loss: 0.1503 - accuracy: 0.9680 - val_loss: 0.0792 - val_accuracy: 0.9835\n",
            "Epoch 27/50\n",
            "446/446 [==============================] - 42s 95ms/step - loss: 0.1389 - accuracy: 0.9699 - val_loss: 0.0751 - val_accuracy: 0.9840\n",
            "Epoch 28/50\n",
            "446/446 [==============================] - 42s 95ms/step - loss: 0.1359 - accuracy: 0.9702 - val_loss: 0.0687 - val_accuracy: 0.9851\n",
            "Epoch 29/50\n",
            "446/446 [==============================] - 42s 94ms/step - loss: 0.1298 - accuracy: 0.9710 - val_loss: 0.0689 - val_accuracy: 0.9849\n",
            "Epoch 30/50\n",
            "446/446 [==============================] - 43s 95ms/step - loss: 0.1267 - accuracy: 0.9716 - val_loss: 0.0636 - val_accuracy: 0.9856\n",
            "Epoch 31/50\n",
            "446/446 [==============================] - 43s 96ms/step - loss: 0.1202 - accuracy: 0.9726 - val_loss: 0.0581 - val_accuracy: 0.9867\n",
            "Epoch 32/50\n",
            "446/446 [==============================] - 43s 95ms/step - loss: 0.1159 - accuracy: 0.9731 - val_loss: 0.0524 - val_accuracy: 0.9882\n",
            "Epoch 33/50\n",
            "446/446 [==============================] - 42s 94ms/step - loss: 0.1102 - accuracy: 0.9742 - val_loss: 0.0513 - val_accuracy: 0.9880\n",
            "Epoch 34/50\n",
            "446/446 [==============================] - 42s 94ms/step - loss: 0.1086 - accuracy: 0.9743 - val_loss: 0.0501 - val_accuracy: 0.9880\n",
            "Epoch 35/50\n",
            "446/446 [==============================] - 42s 95ms/step - loss: 0.1057 - accuracy: 0.9748 - val_loss: 0.0454 - val_accuracy: 0.9893\n",
            "Epoch 36/50\n",
            "446/446 [==============================] - 42s 95ms/step - loss: 0.1007 - accuracy: 0.9756 - val_loss: 0.0460 - val_accuracy: 0.9885\n",
            "Epoch 37/50\n",
            "446/446 [==============================] - 42s 94ms/step - loss: 0.1003 - accuracy: 0.9755 - val_loss: 0.0477 - val_accuracy: 0.9878\n",
            "Epoch 38/50\n",
            "446/446 [==============================] - 42s 94ms/step - loss: 0.0973 - accuracy: 0.9761 - val_loss: 0.0392 - val_accuracy: 0.9904\n",
            "Epoch 39/50\n",
            "446/446 [==============================] - 41s 93ms/step - loss: 0.0949 - accuracy: 0.9766 - val_loss: 0.0391 - val_accuracy: 0.9902\n",
            "Epoch 40/50\n",
            "446/446 [==============================] - 41s 92ms/step - loss: 0.0910 - accuracy: 0.9773 - val_loss: 0.0361 - val_accuracy: 0.9909\n",
            "Epoch 41/50\n",
            "446/446 [==============================] - 41s 93ms/step - loss: 0.0884 - accuracy: 0.9777 - val_loss: 0.0369 - val_accuracy: 0.9906\n",
            "Epoch 42/50\n",
            "446/446 [==============================] - 42s 94ms/step - loss: 0.0884 - accuracy: 0.9776 - val_loss: 0.0337 - val_accuracy: 0.9915\n",
            "Epoch 43/50\n",
            "446/446 [==============================] - 43s 96ms/step - loss: 0.0851 - accuracy: 0.9782 - val_loss: 0.0345 - val_accuracy: 0.9909\n",
            "Epoch 44/50\n",
            "446/446 [==============================] - 43s 96ms/step - loss: 0.0862 - accuracy: 0.9779 - val_loss: 0.0358 - val_accuracy: 0.9903\n",
            "Epoch 45/50\n",
            "446/446 [==============================] - 43s 97ms/step - loss: 0.0817 - accuracy: 0.9788 - val_loss: 0.0304 - val_accuracy: 0.9923\n",
            "Epoch 46/50\n",
            "446/446 [==============================] - 43s 96ms/step - loss: 0.0802 - accuracy: 0.9792 - val_loss: 0.0308 - val_accuracy: 0.9918\n",
            "Epoch 47/50\n",
            "446/446 [==============================] - 42s 93ms/step - loss: 0.0799 - accuracy: 0.9791 - val_loss: 0.0296 - val_accuracy: 0.9922\n",
            "Epoch 48/50\n",
            "446/446 [==============================] - 42s 93ms/step - loss: 0.0767 - accuracy: 0.9797 - val_loss: 0.0287 - val_accuracy: 0.9924\n",
            "Epoch 49/50\n",
            "446/446 [==============================] - 42s 94ms/step - loss: 0.0764 - accuracy: 0.9796 - val_loss: 0.0268 - val_accuracy: 0.9931\n",
            "Epoch 50/50\n",
            "446/446 [==============================] - 43s 95ms/step - loss: 0.0738 - accuracy: 0.9802 - val_loss: 0.0259 - val_accuracy: 0.9933\n"
          ]
        }
      ],
      "source": [
        "from tensorflow.keras.callbacks import EarlyStopping\n",
        "\n",
        "callback = EarlyStopping(monitor='val_accuracy', patience=3, restore_best_weights=True)\n",
        "hist = model.fit(am_x, aw_y, epochs=50, batch_size=50, validation_split=0.2, callbacks=[callback])"
      ]
    },
    {
      "cell_type": "markdown",
      "source": [
        "# ***Save The Model***"
      ],
      "metadata": {
        "id": "SYJCpDDlcbQr"
      }
    },
    {
      "cell_type": "code",
      "source": [
        "model.save('/content/drive/My Drive/Amharic-Awngi/Models/LSTM_translation_model_june22.h5')"
      ],
      "metadata": {
        "colab": {
          "base_uri": "https://localhost:8080/"
        },
        "id": "I4Aavh-XcaV3",
        "outputId": "0d4acacf-af0e-4e91-f68d-91681be35acb"
      },
      "execution_count": null,
      "outputs": [
        {
          "output_type": "stream",
          "name": "stderr",
          "text": [
            "/usr/local/lib/python3.10/dist-packages/keras/src/engine/training.py:3103: UserWarning: You are saving your model as an HDF5 file via `model.save()`. This file format is considered legacy. We recommend using instead the native Keras format, e.g. `model.save('my_model.keras')`.\n",
            "  saving_api.save_model(\n"
          ]
        }
      ]
    },
    {
      "cell_type": "markdown",
      "metadata": {
        "id": "eEjoOTr-T4vY"
      },
      "source": [
        "Plot the per-epoch training and validation accuracy:"
      ]
    },
    {
      "cell_type": "code",
      "source": [],
      "metadata": {
        "id": "tYrTF8MfKAgV"
      },
      "execution_count": 13,
      "outputs": []
    },
    {
      "cell_type": "code",
      "source": [
        "# Assuming 'am_x' is your input data\n",
        "import numpy as np\n",
        "\n",
        "# Get the total number of samples\n",
        "total_samples = len(am_x)\n",
        "\n",
        "# Calculate the number of samples for training and testing\n",
        "train_samples = int(0.8 * total_samples)  # 80% for training\n",
        "test_samples = total_samples - train_samples  # 20% for testing\n",
        "\n",
        "# Split the data into training and testing sets\n",
        "X_train = am_x[:train_samples]\n",
        "X_test = am_x[train_samples:]\n",
        "\n",
        "# Verify the split\n",
        "print(f\"Total samples: {total_samples}\")\n",
        "print(f\"Training samples: {len(X_train)}\")\n",
        "print(f\"Testing samples: {len(X_test)}\")"
      ],
      "metadata": {
        "colab": {
          "base_uri": "https://localhost:8080/"
        },
        "id": "MNBeNPXRL77X",
        "outputId": "a5157222-31e8-42fb-e575-fb7c26c8661a"
      },
      "execution_count": 9,
      "outputs": [
        {
          "output_type": "stream",
          "name": "stdout",
          "text": [
            "Total samples: 27818\n",
            "Training samples: 22254\n",
            "Testing samples: 5564\n"
          ]
        }
      ]
    },
    {
      "cell_type": "code",
      "source": [
        "# Assuming 'am_x' and 'aw_y' are your input data\n",
        "import numpy as np\n",
        "\n",
        "# Get the total number of samples\n",
        "total_samples = len(am_x)\n",
        "\n",
        "# Calculate the number of samples for training and testing\n",
        "train_samples = int(0.8 * total_samples)  # 80% for training\n",
        "test_samples = total_samples - train_samples  # 20% for testing\n",
        "\n",
        "# Split the data into training and testing sets\n",
        "X_train = am_x[:train_samples]\n",
        "X_test = am_x[train_samples:]\n",
        "y_train = aw_y[:train_samples]\n",
        "y_test = aw_y[train_samples:]\n",
        "\n",
        "# Verify the split\n",
        "print(f\"Total samples: {total_samples}\")\n",
        "print(f\"Training samples: {len(X_train)}\")\n",
        "print(f\"Testing samples: {len(X_test)}, {len(y_test)}\")"
      ],
      "metadata": {
        "colab": {
          "base_uri": "https://localhost:8080/"
        },
        "id": "ttBR5oLxNMgi",
        "outputId": "bf4182cd-12e9-4c7a-8e23-d866dd9397ae"
      },
      "execution_count": 10,
      "outputs": [
        {
          "output_type": "stream",
          "name": "stdout",
          "text": [
            "Total samples: 27818\n",
            "Training samples: 22254\n",
            "Testing samples: 5564, 5564\n"
          ]
        }
      ]
    },
    {
      "cell_type": "code",
      "source": [
        "X_test[:2]"
      ],
      "metadata": {
        "colab": {
          "base_uri": "https://localhost:8080/"
        },
        "id": "zWBqrZ1eL7-t",
        "outputId": "1578d583-8152-42f9-f7f3-c5f635d01c3d"
      },
      "execution_count": 16,
      "outputs": [
        {
          "output_type": "execute_result",
          "data": {
            "text/plain": [
              "array([[2944,  907,  907, 1561, 2945, 3789,    0,    0,    0,    0,    0,\n",
              "           0,    0,    0,    0,    0,    0,    0,    0,    0,    0,    0,\n",
              "           0,    0,    0,    0,    0,    0,    0,    0,    0,    0,    0,\n",
              "           0,    0,    0,    0,    0,    0,    0,    0,    0,    0,    0,\n",
              "           0,    0,    0,    0,    0,    0,    0,    0,    0,    0,    0,\n",
              "           0,    0,    0,    0,    0,    0,    0,    0,    0,    0,    0,\n",
              "           0,    0,    0,    0,    0,    0,    0,    0,    0],\n",
              "       [2946, 3790, 1623, 2947,   39,  981, 3791,    0,    0,    0,    0,\n",
              "           0,    0,    0,    0,    0,    0,    0,    0,    0,    0,    0,\n",
              "           0,    0,    0,    0,    0,    0,    0,    0,    0,    0,    0,\n",
              "           0,    0,    0,    0,    0,    0,    0,    0,    0,    0,    0,\n",
              "           0,    0,    0,    0,    0,    0,    0,    0,    0,    0,    0,\n",
              "           0,    0,    0,    0,    0,    0,    0,    0,    0,    0,    0,\n",
              "           0,    0,    0,    0,    0,    0,    0,    0,    0]],\n",
              "      dtype=int32)"
            ]
          },
          "metadata": {},
          "execution_count": 16
        }
      ]
    },
    {
      "cell_type": "code",
      "source": [
        "import seaborn as sns\n",
        "import matplotlib.pyplot as plt\n",
        "from tensorflow.keras.models import load_model\n",
        "\n",
        "%matplotlib inline\n",
        "sns.set()\n",
        "\n",
        "# Load the saved model\n",
        "model3 = load_model('/content/drive/My Drive/Amharic-Awngi/Models/LSTM_translation_model_june22.h5')\n",
        "\n",
        "# Evaluate the model on the test set\n",
        "loss, accuracy = model3.evaluate(X_test, y_test)\n",
        "print(\"Test Loss:\", loss)\n",
        "print(\"Test Accuracy:\", accuracy)\n"
      ],
      "metadata": {
        "colab": {
          "base_uri": "https://localhost:8080/",
          "height": 702
        },
        "id": "GGkZfaRILw91",
        "outputId": "fd33990a-bc42-4b61-ab87-1626428d0e79"
      },
      "execution_count": 23,
      "outputs": [
        {
          "output_type": "stream",
          "name": "stdout",
          "text": [
            "174/174 [==============================] - 205s 1s/step - loss: 0.0259 - accuracy: 0.9933\n",
            "Test Loss: 0.025939516723155975\n",
            "Test Accuracy: 0.9932950139045715\n"
          ]
        },
        {
          "output_type": "error",
          "ename": "NameError",
          "evalue": "name 'epochs' is not defined",
          "traceback": [
            "\u001b[0;31m---------------------------------------------------------------------------\u001b[0m",
            "\u001b[0;31mNameError\u001b[0m                                 Traceback (most recent call last)",
            "\u001b[0;32m<ipython-input-23-c6bcddbe83d7>\u001b[0m in \u001b[0;36m<cell line: 26>\u001b[0;34m()\u001b[0m\n\u001b[1;32m     24\u001b[0m \u001b[0;31m# Plot the loss\u001b[0m\u001b[0;34m\u001b[0m\u001b[0;34m\u001b[0m\u001b[0m\n\u001b[1;32m     25\u001b[0m \u001b[0mplt\u001b[0m\u001b[0;34m.\u001b[0m\u001b[0msubplot\u001b[0m\u001b[0;34m(\u001b[0m\u001b[0;36m1\u001b[0m\u001b[0;34m,\u001b[0m \u001b[0;36m2\u001b[0m\u001b[0;34m,\u001b[0m \u001b[0;36m1\u001b[0m\u001b[0;34m)\u001b[0m\u001b[0;34m\u001b[0m\u001b[0;34m\u001b[0m\u001b[0m\n\u001b[0;32m---> 26\u001b[0;31m \u001b[0mplt\u001b[0m\u001b[0;34m.\u001b[0m\u001b[0mplot\u001b[0m\u001b[0;34m(\u001b[0m\u001b[0mepochs\u001b[0m\u001b[0;34m,\u001b[0m \u001b[0mmodel3\u001b[0m\u001b[0;34m.\u001b[0m\u001b[0mhistory\u001b[0m\u001b[0;34m.\u001b[0m\u001b[0mhistory\u001b[0m\u001b[0;34m[\u001b[0m\u001b[0;34m'loss'\u001b[0m\u001b[0;34m]\u001b[0m\u001b[0;34m,\u001b[0m \u001b[0mlabel\u001b[0m\u001b[0;34m=\u001b[0m\u001b[0;34m'Training Loss'\u001b[0m\u001b[0;34m)\u001b[0m\u001b[0;34m\u001b[0m\u001b[0;34m\u001b[0m\u001b[0m\n\u001b[0m\u001b[1;32m     27\u001b[0m \u001b[0mplt\u001b[0m\u001b[0;34m.\u001b[0m\u001b[0mplot\u001b[0m\u001b[0;34m(\u001b[0m\u001b[0mepochs\u001b[0m\u001b[0;34m,\u001b[0m \u001b[0mmodel3\u001b[0m\u001b[0;34m.\u001b[0m\u001b[0mhistory\u001b[0m\u001b[0;34m.\u001b[0m\u001b[0mhistory\u001b[0m\u001b[0;34m[\u001b[0m\u001b[0;34m'val_loss'\u001b[0m\u001b[0;34m]\u001b[0m\u001b[0;34m,\u001b[0m \u001b[0mlabel\u001b[0m\u001b[0;34m=\u001b[0m\u001b[0;34m'Validation Loss'\u001b[0m\u001b[0;34m)\u001b[0m\u001b[0;34m\u001b[0m\u001b[0;34m\u001b[0m\u001b[0m\n\u001b[1;32m     28\u001b[0m \u001b[0mplt\u001b[0m\u001b[0;34m.\u001b[0m\u001b[0mtitle\u001b[0m\u001b[0;34m(\u001b[0m\u001b[0;34m'Loss'\u001b[0m\u001b[0;34m)\u001b[0m\u001b[0;34m\u001b[0m\u001b[0;34m\u001b[0m\u001b[0m\n",
            "\u001b[0;31mNameError\u001b[0m: name 'epochs' is not defined"
          ]
        },
        {
          "output_type": "display_data",
          "data": {
            "text/plain": [
              "<Figure size 1000x500 with 1 Axes>"
            ],
            "image/png": "[encoded data removed]"
          },
          "metadata": {}
        }
      ]
    },
    {
      "cell_type": "code",
      "source": [
        "from sklearn.metrics import confusion_matrix\n",
        "\n",
        "# Assuming you have y_test and y_pred\n",
        "cm = confusion_matrix(y_test, y_pred)\n",
        "\n",
        "print(\"Confusion Matrix:\")\n",
        "print(cm)"
      ],
      "metadata": {
        "id": "b-5XwO5sYQWx"
      },
      "execution_count": null,
      "outputs": []
    },
    {
      "cell_type": "code",
      "source": [
        "print(model3.history.history.keys())"
      ],
      "metadata": {
        "colab": {
          "base_uri": "https://localhost:8080/"
        },
        "id": "Vb84tYuCKAj7",
        "outputId": "cc31162f-35c4-4b82-be76-1de3d7bc0eed"
      },
      "execution_count": 22,
      "outputs": [
        {
          "output_type": "stream",
          "name": "stdout",
          "text": [
            "dict_keys([])\n"
          ]
        }
      ]
    },
    {
      "cell_type": "code",
      "source": [
        "import matplotlib.pyplot as plt\n",
        "\n",
        "# Load the saved model\n",
        "#model = tf.keras.models.load_model('path/to/saved/model.h5')\n",
        "model4 = tf.keras.models.load_model('/content/drive/My Drive/Amharic-Awngi/Models/LSTM_translation_model_june22.h5')\n",
        "# Evaluate the model on the test set\n",
        "test_loss, test_acc = model4.evaluate(X_test, y_test)\n",
        "\n",
        "print('Test Accuracy:', test_acc)\n",
        "print('Test Loss:', test_loss)\n",
        "\n",
        "# Plot the training and validation accuracy\n",
        "plt.figure(figsize=(10, 6))\n",
        "#plt.plot(model4.history.history['accuracy'])\n",
        "#plt.plot(model4.history.history['val_accuracy'])\n",
        "plt.title('Model Accuracy')\n",
        "plt.ylabel('Accuracy')\n",
        "plt.xlabel('Epoch')\n",
        "plt.legend(['Train', 'Validation'], loc='upper left')\n",
        "plt.show()\n",
        "\n",
        "# Plot the training and validation loss\n",
        "plt.figure(figsize=(10, 6))\n",
        "plt.plot(model4.history.history['loss'])\n",
        "plt.plot(model4.history.history['val_loss'])\n",
        "plt.title('Model Loss')\n",
        "plt.ylabel('Loss')\n",
        "plt.xlabel('Epoch')\n",
        "plt.legend(['Train', 'Validation'], loc='upper right')\n",
        "plt.show()"
      ],
      "metadata": {
        "colab": {
          "base_uri": "https://localhost:8080/",
          "height": 280
        },
        "id": "4s9rhoPSRMR2",
        "outputId": "36060bee-e339-4368-bf05-b3ffc933d077"
      },
      "execution_count": 28,
      "outputs": [
        {
          "output_type": "stream",
          "name": "stdout",
          "text": [
            "174/174 [==============================] - 198s 1s/step - loss: 0.0259 - accuracy: 0.9933\n",
            "Test Accuracy: 0.9932950139045715\n",
            "Test Loss: 0.025939516723155975\n"
          ]
        },
        {
          "output_type": "error",
          "ename": "KeyError",
          "evalue": "'accuracy'",
          "traceback": [
            "\u001b[0;31m---------------------------------------------------------------------------\u001b[0m",
            "\u001b[0;31mKeyError\u001b[0m                                  Traceback (most recent call last)",
            "\u001b[0;32m<ipython-input-28-23be28c0cd49>\u001b[0m in \u001b[0;36m<cell line: 14>\u001b[0;34m()\u001b[0m\n\u001b[1;32m     12\u001b[0m \u001b[0;31m# Plot the training and validation accuracy\u001b[0m\u001b[0;34m\u001b[0m\u001b[0;34m\u001b[0m\u001b[0m\n\u001b[1;32m     13\u001b[0m \u001b[0mplt\u001b[0m\u001b[0;34m.\u001b[0m\u001b[0mfigure\u001b[0m\u001b[0;34m(\u001b[0m\u001b[0mfigsize\u001b[0m\u001b[0;34m=\u001b[0m\u001b[0;34m(\u001b[0m\u001b[0;36m10\u001b[0m\u001b[0;34m,\u001b[0m \u001b[0;36m6\u001b[0m\u001b[0;34m)\u001b[0m\u001b[0;34m)\u001b[0m\u001b[0;34m\u001b[0m\u001b[0;34m\u001b[0m\u001b[0m\n\u001b[0;32m---> 14\u001b[0;31m \u001b[0mplt\u001b[0m\u001b[0;34m.\u001b[0m\u001b[0mplot\u001b[0m\u001b[0;34m(\u001b[0m\u001b[0mmodel4\u001b[0m\u001b[0;34m.\u001b[0m\u001b[0mhistory\u001b[0m\u001b[0;34m.\u001b[0m\u001b[0mhistory\u001b[0m\u001b[0;34m[\u001b[0m\u001b[0;34m'accuracy'\u001b[0m\u001b[0;34m]\u001b[0m\u001b[0;34m)\u001b[0m\u001b[0;34m\u001b[0m\u001b[0;34m\u001b[0m\u001b[0m\n\u001b[0m\u001b[1;32m     15\u001b[0m \u001b[0mplt\u001b[0m\u001b[0;34m.\u001b[0m\u001b[0mplot\u001b[0m\u001b[0;34m(\u001b[0m\u001b[0mmodel4\u001b[0m\u001b[0;34m.\u001b[0m\u001b[0mhistory\u001b[0m\u001b[0;34m.\u001b[0m\u001b[0mhistory\u001b[0m\u001b[0;34m[\u001b[0m\u001b[0;34m'val_accuracy'\u001b[0m\u001b[0;34m]\u001b[0m\u001b[0;34m)\u001b[0m\u001b[0;34m\u001b[0m\u001b[0;34m\u001b[0m\u001b[0m\n\u001b[1;32m     16\u001b[0m \u001b[0mplt\u001b[0m\u001b[0;34m.\u001b[0m\u001b[0mtitle\u001b[0m\u001b[0;34m(\u001b[0m\u001b[0;34m'Model Accuracy'\u001b[0m\u001b[0;34m)\u001b[0m\u001b[0;34m\u001b[0m\u001b[0;34m\u001b[0m\u001b[0m\n",
            "\u001b[0;31mKeyError\u001b[0m: 'accuracy'"
          ]
        },
        {
          "output_type": "display_data",
          "data": {
            "text/plain": [
              "<Figure size 1000x600 with 0 Axes>"
            ]
          },
          "metadata": {}
        }
      ]
    },
    {
      "cell_type": "code",
      "source": [
        "from sklearn.metrics import confusion_matrix\n",
        "import matplotlib.pyplot as plt\n",
        "import seaborn as sns\n",
        "X_test, y_test\n",
        "import seaborn as sns\n",
        "import matplotlib.pyplot as plt\n",
        "from tensorflow.keras.models import load_model\n",
        "\n",
        "%matplotlib inline\n",
        "sns.set()\n",
        "\n",
        "# Load the saved model\n",
        "model3 = load_model('/content/drive/My Drive/Amharic-Awngi/Models/LSTM_translation_model_june22.h5')\n",
        "\n",
        "# Make predictions on the test set\n",
        "y_pred = model3.predict(X_test)\n",
        "y_pred = np.argmax(y_pred, axis=2)\n",
        "\n",
        "# Flatten the true and predicted labels\n",
        "y_true_flat = y_test.flatten()\n",
        "y_pred_flat = y_pred.flatten()\n",
        "\n",
        "# Compute the confusion matrix\n",
        "cm = confusion_matrix(y_true_flat, y_pred_flat)\n",
        "\n",
        "# Plot the confusion matrix\n",
        "plt.figure(figsize=(10, 8))\n",
        "sns.heatmap(cm, annot=True, cmap='Blues', fmt='g')\n",
        "plt.title('Confusion Matrix')\n",
        "plt.xlabel('Predicted Label')\n",
        "plt.ylabel('True Label')\n",
        "plt.show()"
      ],
      "metadata": {
        "colab": {
          "base_uri": "https://localhost:8080/",
          "height": 211
        },
        "id": "9TAk85JSYwG6",
        "outputId": "3eaf247d-2b54-43f8-e805-688dc3cf1704"
      },
      "execution_count": 1,
      "outputs": [
        {
          "output_type": "error",
          "ename": "NameError",
          "evalue": "name 'X_test' is not defined",
          "traceback": [
            "\u001b[0;31m---------------------------------------------------------------------------\u001b[0m",
            "\u001b[0;31mNameError\u001b[0m                                 Traceback (most recent call last)",
            "\u001b[0;32m<ipython-input-1-7069fe1252a7>\u001b[0m in \u001b[0;36m<cell line: 4>\u001b[0;34m()\u001b[0m\n\u001b[1;32m      2\u001b[0m \u001b[0;32mimport\u001b[0m \u001b[0mmatplotlib\u001b[0m\u001b[0;34m.\u001b[0m\u001b[0mpyplot\u001b[0m \u001b[0;32mas\u001b[0m \u001b[0mplt\u001b[0m\u001b[0;34m\u001b[0m\u001b[0;34m\u001b[0m\u001b[0m\n\u001b[1;32m      3\u001b[0m \u001b[0;32mimport\u001b[0m \u001b[0mseaborn\u001b[0m \u001b[0;32mas\u001b[0m \u001b[0msns\u001b[0m\u001b[0;34m\u001b[0m\u001b[0;34m\u001b[0m\u001b[0m\n\u001b[0;32m----> 4\u001b[0;31m \u001b[0mX_test\u001b[0m\u001b[0;34m,\u001b[0m \u001b[0my_test\u001b[0m\u001b[0;34m\u001b[0m\u001b[0;34m\u001b[0m\u001b[0m\n\u001b[0m\u001b[1;32m      5\u001b[0m \u001b[0;32mimport\u001b[0m \u001b[0mseaborn\u001b[0m \u001b[0;32mas\u001b[0m \u001b[0msns\u001b[0m\u001b[0;34m\u001b[0m\u001b[0;34m\u001b[0m\u001b[0m\n\u001b[1;32m      6\u001b[0m \u001b[0;32mimport\u001b[0m \u001b[0mmatplotlib\u001b[0m\u001b[0;34m.\u001b[0m\u001b[0mpyplot\u001b[0m \u001b[0;32mas\u001b[0m \u001b[0mplt\u001b[0m\u001b[0;34m\u001b[0m\u001b[0;34m\u001b[0m\u001b[0m\n",
            "\u001b[0;31mNameError\u001b[0m: name 'X_test' is not defined"
          ]
        }
      ]
    },
    {
      "cell_type": "code",
      "source": [],
      "metadata": {
        "id": "41Ry4KhQWhvb"
      },
      "execution_count": null,
      "outputs": []
    },
    {
      "cell_type": "code",
      "source": [],
      "metadata": {
        "id": "fhr1Ji2_RMUa"
      },
      "execution_count": null,
      "outputs": []
    },
    {
      "cell_type": "code",
      "source": [],
      "metadata": {
        "id": "fVoiO_WpRMV8"
      },
      "execution_count": null,
      "outputs": []
    },
    {
      "cell_type": "code",
      "source": [],
      "metadata": {
        "id": "cGn453J5RMZK"
      },
      "execution_count": null,
      "outputs": []
    },
    {
      "cell_type": "code",
      "execution_count": null,
      "metadata": {
        "colab": {
          "base_uri": "https://localhost:8080/",
          "height": 497
        },
        "id": "ReoMD0hIT4vY",
        "outputId": "e5951786-9a3c-4e3b-f0c8-898e7c2121a0"
      },
      "outputs": [
        {
          "output_type": "execute_result",
          "data": {
            "text/plain": [
              "[]"
            ]
          },
          "metadata": {},
          "execution_count": 13
        },
        {
          "output_type": "display_data",
          "data": {
            "text/plain": [
              "<Figure size 640x480 with 1 Axes>"
            ],
            "image/png": "[encoded data removed]"
          },
          "metadata": {}
        }
      ],
      "source": [
        "import seaborn as sns\n",
        "import matplotlib.pyplot as plt\n",
        "%matplotlib inline\n",
        "sns.set()\n",
        "\n",
        "acc = hist.history['accuracy']\n",
        "val = hist.history['val_accuracy']\n",
        "epochs = range(1, len(acc) + 1)\n",
        "\n",
        "plt.plot(epochs, acc, '-', label='Training accuracy')\n",
        "plt.plot(epochs, val, ':', label='Validation accuracy')\n",
        "plt.title('Training and Validation Accuracy')\n",
        "plt.xlabel('Epoch')\n",
        "plt.ylabel('Accuracy')\n",
        "plt.legend(loc='lower right')\n",
        "plt.plot()"
      ]
    },
    {
      "cell_type": "markdown",
      "metadata": {
        "id": "C-2RKd3mT4vZ"
      },
      "source": [
        "## Use the model to translate text\n",
        "\n",
        "Can the model really translate English to French? Use a subset of the phrases reserved to validate the model to make predictions and see for yourself. Note the use of the French `Tokenizer`’s `sequences_to_texts` method to convert sequences representing French phrases predicted by the model into words:"
      ]
    },
    {
      "cell_type": "code",
      "source": [],
      "metadata": {
        "id": "KCKUbB0pJGse"
      },
      "execution_count": null,
      "outputs": []
    },
    {
      "cell_type": "code",
      "source": [],
      "metadata": {
        "id": "z4lj0OnMJQ4n"
      },
      "execution_count": null,
      "outputs": []
    },
    {
      "cell_type": "code",
      "source": [],
      "metadata": {
        "id": "y11FACEEJRKU"
      },
      "execution_count": null,
      "outputs": []
    },
    {
      "cell_type": "code",
      "source": [],
      "metadata": {
        "id": "qsqOitVWJGvq"
      },
      "execution_count": null,
      "outputs": []
    },
    {
      "cell_type": "code",
      "execution_count": null,
      "metadata": {
        "colab": {
          "base_uri": "https://localhost:8080/"
        },
        "id": "DVosTqghT4vZ",
        "outputId": "a4d31fca-904f-402f-97e4-c8d60ef8026c"
      },
      "outputs": [
        {
          "output_type": "stream",
          "name": "stdout",
          "text": [
            "የደንብ ልብሳቸውን ለበሱ፡፡ => ዴንቡሳ ስዮ ሴዩና\n",
            "እጃቸውንና ፊታቸውን ታጠቡ፡፡ => ታፎስታ እላፎ ቑሲና\n",
            "ደብተራቸውን፣ መፅሃፋቸውን፣ እርሳስና እስክርቢቷቸውን ወደ ቦርሳቸው ከተቱ፡፡ => ዴብቴሮ፡ ሜፃፎ፡እርሳሶስታ እስክርቢቶ ቦርሳሾ ኬቴቱና።\n",
            "ወደ ትምህርት ቤት ሄዱ፡፡ => ትምርት ጝናሾ ካሱና።\n",
            "ከእንቅልፋቸው ተነሱ፡፡ => ሳቔናዴ ጁና\n",
            "ቦርሳቸውን ያዙ፡፡ => ቦርሳዋ እሚና\n",
            "የፒያሳ ልጆች መልካሞች ስለሆኑ የተቸገረን ይረዳሉ፡፡ => ፒያሳኩ ጀርካ ክርፅካ ኣኽጝስ ቸጌርስትኹሳ እርዳታና።\n",
            "ኢትዮጵያ የጀግኖች ሀገር እንጂ የሌቦች አይደለችም፡፡ => ኢቶጵያ ጅግንካት ኣጌራ ጉ ዳዴኽካት ጋቲቲ።\n",
            "ሰአዳ መምህር እንጂ ሃኪም አይደለችም፡፡ => ሰኣዳ ክትፃንታ ጉ ሐኪማ ጋቲቲ።\n"
          ]
        }
      ],
      "source": [
        "def translate_text(text, model, am_tokenizer, aw_tokenizer, am_max_len):\n",
        "    sequence = am_tokenizer.texts_to_sequences([text])\n",
        "    padded_sequence = pad_sequences(sequence, maxlen=am_max_len, padding='post')\n",
        "    prediction = model.predict(padded_sequence, verbose=0)[0]\n",
        "    indexes = [np.argmax(idx) for idx in prediction]\n",
        "    return aw_tokenizer.sequences_to_texts([indexes])[0]\n",
        "\n",
        "texts = am[1:500].values\n",
        "\n",
        "for text in texts:\n",
        "    translated = translate_text(text, model, am_tokenizer, aw_tokenizer, am_max_len)\n",
        "    print(f'{text} => {translated}')"
      ]
    },
    {
      "cell_type": "markdown",
      "source": [
        "# ***BLEU for LSTM MOdel***"
      ],
      "metadata": {
        "id": "wFtZ7x54nIxL"
      }
    },
    {
      "cell_type": "code",
      "source": [],
      "metadata": {
        "id": "oLeh_Sv6nNlN"
      },
      "execution_count": null,
      "outputs": []
    },
    {
      "cell_type": "code",
      "source": [
        "import numpy as np\n",
        "from tensorflow.keras.models import load_model\n",
        "from sacrebleu.metrics import BLEU\n",
        "\n",
        "# Load the trained GRU model\n",
        "model1 = load_model('/content/drive/My Drive/Amharic-Awngi/Models/LSTM_translation_model_june22.h5')"
      ],
      "metadata": {
        "id": "6En3CPZjnGB6"
      },
      "execution_count": null,
      "outputs": []
    },
    {
      "cell_type": "code",
      "source": [],
      "metadata": {
        "id": "waEYe_J-CTg4"
      },
      "execution_count": null,
      "outputs": []
    },
    {
      "cell_type": "code",
      "source": [],
      "metadata": {
        "id": "nt0TKuXbnPJg"
      },
      "execution_count": null,
      "outputs": []
    },
    {
      "cell_type": "code",
      "source": [
        "import sacrebleu\n",
        "\n",
        "def translate_text(text, model, am_tokenizer, aw_tokenizer, am_max_len):\n",
        "    sequence = am_tokenizer.texts_to_sequences([text])\n",
        "    padded_sequence = pad_sequences(sequence, maxlen=am_max_len, padding='post')\n",
        "    prediction = model1.predict(padded_sequence, verbose=0)[0]\n",
        "    indexes = [np.argmax(idx) for idx in prediction]\n",
        "    return aw_tokenizer.sequences_to_texts([indexes])[0]\n",
        "\n",
        "def calculate_bleu_score(reference_texts, candidate_texts):\n",
        "    \"\"\"\n",
        "    Calculate the average BLEU score between the reference texts and the candidate texts.\n",
        "    \"\"\"\n",
        "    total_bleu_score = 0\n",
        "    for reference, candidate in zip(reference_texts, candidate_texts):\n",
        "        bleu = sacrebleu.corpus_bleu([candidate], [[reference]])\n",
        "        total_bleu_score += bleu.score\n",
        "\n",
        "    average_bleu_score = total_bleu_score / len(reference_texts)\n",
        "    print(f\"Total BLEU score: {total_bleu_score:.2f}\")\n",
        "    return average_bleu_score\n",
        "\n",
        "# Store the reference French texts and the candidate translated texts\n",
        "reference_texts = aw[1:500].values\n",
        "candidate_texts = []\n",
        "\n",
        "for text in am[1:500].values:\n",
        "    translated = translate_text(text, model1, am_tokenizer, aw_tokenizer, am_max_len)\n",
        "    candidate_texts.append(translated)\n",
        "    print(f'{text} => {translated}')\n",
        "\n",
        "# Calculate the average BLEU score\n",
        "average_bleu_score = calculate_bleu_score(reference_texts, candidate_texts)\n",
        "print(f\"Average BLEU score: {average_bleu_score:.2f}\")\n"
      ],
      "metadata": {
        "colab": {
          "base_uri": "https://localhost:8080/"
        },
        "id": "SVhMi12snPLn",
        "outputId": "71783346-1272-480a-d804-90f4b982ad9c"
      },
      "execution_count": null,
      "outputs": [
        {
          "output_type": "stream",
          "name": "stdout",
          "text": [
            "የደንብ ልብሳቸውን ለበሱ፡፡ => ዝሜናውካ ፊልም ቻኺ\n",
            "እጃቸውንና ፊታቸውን ታጠቡ፡፡ => ካዃ ዳራዳርኹዋ ጊፂኒ\n",
            "ደብተራቸውን፣ መፅሃፋቸውን፣ እርሳስና እስክርቢቷቸውን ወደ ቦርሳቸው ከተቱ፡፡ => ሴዩና ታፎስታ አንኪላ ግሪን ዴብቴሮ፡\n",
            "ወደ ትምህርት ቤት ሄዱ፡፡ => ሜፃፎ፡እርሳሶስታ ካፃማ ጉድያኽ\n",
            "ከእንቅልፋቸው ተነሱ፡፡ => ቤሮ ስንኪያኽ\n",
            "ቦርሳቸውን ያዙ፡፡ => ዴክስ እንክራንቲ\n",
            "የፒያሳ ልጆች መልካሞች ስለሆኑ የተቸገረን ይረዳሉ፡፡ => ሳቄናዴስ ኣድዋው ጌቤልሾ ካሱና። ጁና። ፒያሳኩ\n",
            "ኢትዮጵያ የጀግኖች ሀገር እንጂ የሌቦች አይደለችም፡፡ => እንፅኻስ ቸጌርስትኹሳ እርዳታና። ካፃን ጅግንካት ይቢቺ\n",
            "ሰአዳ መምህር እንጂ ሃኪም አይደለችም፡፡ => ኣጌራ ጉ ካፃን ዳዴኽካት ይቢቺ\n",
            "Total BLEU score: 12.41\n",
            "Average BLEU score: 1.38\n"
          ]
        }
      ]
    },
    {
      "cell_type": "code",
      "source": [],
      "metadata": {
        "id": "VuHDfBTtpFBC"
      },
      "execution_count": null,
      "outputs": []
    },
    {
      "cell_type": "code",
      "source": [],
      "metadata": {
        "id": "Pw3pPAqXnPO9"
      },
      "execution_count": null,
      "outputs": []
    },
    {
      "cell_type": "code",
      "source": [],
      "metadata": {
        "id": "gnK90DiMnGFX"
      },
      "execution_count": null,
      "outputs": []
    },
    {
      "cell_type": "markdown",
      "metadata": {
        "id": "229fmNqBT4vZ"
      },
      "source": [
        "Finally, see how the model translates \"Hello world\" into French:"
      ]
    },
    {
      "cell_type": "code",
      "execution_count": null,
      "metadata": {
        "colab": {
          "base_uri": "https://localhost:8080/",
          "height": 35
        },
        "id": "0kXgT0BRT4vZ",
        "outputId": "43a68e66-c2a6-40c4-bebc-d69d6050acf8"
      },
      "outputs": [
        {
          "output_type": "execute_result",
          "data": {
            "text/plain": [
              "'ትምርት ጝናሾ ካሱና።'"
            ],
            "application/vnd.google.colaboratory.intrinsic+json": {
              "type": "string"
            }
          },
          "metadata": {},
          "execution_count": 15
        }
      ],
      "source": [
        "translate_text('ወደ ትምህርት ቤት ሄዱ፡፡', model1, am_tokenizer, aw_tokenizer, am_max_len)"
      ]
    },
    {
      "cell_type": "code",
      "source": [],
      "metadata": {
        "id": "IjlyB2H9YHNI"
      },
      "execution_count": null,
      "outputs": []
    },
    {
      "cell_type": "code",
      "source": [
        "import numpy as np\n",
        "from nltk.translate.bleu_score import sentence_bleu\n",
        "from tensorflow.keras.preprocessing.sequence import pad_sequences\n",
        "\n",
        "def translate_text(text, model, am_tokenizer, aw_tokenizer, am_max_len):\n",
        "    sequence = am_tokenizer.texts_to_sequences([text])\n",
        "    padded_sequence = pad_sequences(sequence, maxlen=am_max_len, padding='post')\n",
        "    prediction = model.predict(padded_sequence, verbose=0)[0]\n",
        "    indexes = [np.argmax(idx) for idx in prediction]\n",
        "    return aw_tokenizer.sequences_to_texts([indexes])[0]\n",
        "\n",
        "# Example reference and translation texts (use your actual data here)\n",
        "texts = am[1:500].values\n",
        "references = aw[1:500].values  # Assuming you have the corresponding French sentences\n",
        "\n",
        "# Calculate BLEU scores\n",
        "for text, reference in zip(texts, references):\n",
        "    translated = translate_text(text, model, am_tokenizer, aw_tokenizer, am_max_len)\n",
        "    reference_tokens = reference.split()\n",
        "    translated_tokens = translated.split()\n",
        "    bleu_score = sentence_bleu([reference_tokens], translated_tokens)\n",
        "\n",
        "    print(f'{text} => {translated}')\n",
        "    print(f'Reference: {reference}')\n",
        "    print(f'BLEU score: {bleu_score:.4f}')"
      ],
      "metadata": {
        "colab": {
          "base_uri": "https://localhost:8080/"
        },
        "id": "XcKPBQgXfOAT",
        "outputId": "4a52a400-bb88-473e-ccc8-b2ea1ca21dc9"
      },
      "execution_count": null,
      "outputs": [
        {
          "output_type": "stream",
          "name": "stderr",
          "text": [
            "/usr/local/lib/python3.10/dist-packages/nltk/translate/bleu_score.py:552: UserWarning: \n",
            "The hypothesis contains 0 counts of 4-gram overlaps.\n",
            "Therefore the BLEU score evaluates to 0, independently of\n",
            "how many N-gram overlaps of lower order it contains.\n",
            "Consider using lower n-gram order or use SmoothingFunction()\n",
            "  warnings.warn(_msg)\n"
          ]
        },
        {
          "output_type": "stream",
          "name": "stdout",
          "text": [
            "የደንብ ልብሳቸውን ለበሱ፡፡ => ዴንቡሳ ስዮ ሴዩና\n",
            "Reference: ዴንቡሳ ስዮ ሴዩና\n",
            "BLEU score: 0.0000\n",
            "እጃቸውንና ፊታቸውን ታጠቡ፡፡ => ታፎስታ እላፎ ቑሲና\n",
            "Reference: ታፎስታ እላፎ ቑሲና\n",
            "BLEU score: 0.0000\n",
            "ደብተራቸውን፣ መፅሃፋቸውን፣ እርሳስና እስክርቢቷቸውን ወደ ቦርሳቸው ከተቱ፡፡ => ዴብቴሮ፡ ሜፃፎ፡እርሳሶስታ እስክርቢቶ ቦርሳሾ ኬቴቱና።\n",
            "Reference: ዴብቴሮ፡ ሜፃፎ፡እርሳሶስታ እስክርቢቶ ቦርሳሾ ኬቴቱና።\n",
            "BLEU score: 1.0000\n",
            "ወደ ትምህርት ቤት ሄዱ፡፡ => ትምርት ጝናሾ ካሱና።\n",
            "Reference: ትምርት ጝናሾ ካሱና።\n",
            "BLEU score: 0.0000\n",
            "ከእንቅልፋቸው ተነሱ፡፡ => ሳቔናዴ ጁና\n",
            "Reference: ሳቄናዴስ ጁና።\n",
            "BLEU score: 0.0000\n",
            "ቦርሳቸውን ያዙ፡፡ => ቦርሳዋ እሚና\n",
            "Reference: ቦርሳዋ እሚና\n",
            "BLEU score: 0.0000\n"
          ]
        },
        {
          "output_type": "stream",
          "name": "stderr",
          "text": [
            "/usr/local/lib/python3.10/dist-packages/nltk/translate/bleu_score.py:552: UserWarning: \n",
            "The hypothesis contains 0 counts of 3-gram overlaps.\n",
            "Therefore the BLEU score evaluates to 0, independently of\n",
            "how many N-gram overlaps of lower order it contains.\n",
            "Consider using lower n-gram order or use SmoothingFunction()\n",
            "  warnings.warn(_msg)\n"
          ]
        },
        {
          "output_type": "stream",
          "name": "stdout",
          "text": [
            "የፒያሳ ልጆች መልካሞች ስለሆኑ የተቸገረን ይረዳሉ፡፡ => ፒያሳኩ ጀርካ ክርፅካ ኣኽጝስ ቸጌርስትኹሳ እርዳታና።\n",
            "Reference: ፒያሳኩ ጀርካ ክርፅካ ኣኽጝስ ቸጌርስትኹሳ እርዳታና።\n",
            "BLEU score: 1.0000\n",
            "ኢትዮጵያ የጀግኖች ሀገር እንጂ የሌቦች አይደለችም፡፡ => ኢቶጵያ ጅግንካት ኣጌራ ጉ ዳዴኽካት ጋቲቲ።\n",
            "Reference: ኢቶጵያ ጅግንካት ኣጌራ ጉ ዳዴኽካት ጋቲቲ።\n",
            "BLEU score: 1.0000\n",
            "ሰአዳ መምህር እንጂ ሃኪም አይደለችም፡፡ => ሰኣዳ ክትፃንታ ጉ ሐኪማ ጋቲቲ።\n",
            "Reference: ሰኣዳ ክትፃንታ ጉ ሐኪማ ጋቲቲ።\n",
            "BLEU score: 1.0000\n"
          ]
        }
      ]
    },
    {
      "cell_type": "code",
      "source": [],
      "metadata": {
        "id": "uq_WUlQkfOC2"
      },
      "execution_count": null,
      "outputs": []
    },
    {
      "cell_type": "code",
      "source": [],
      "metadata": {
        "id": "V9rLSOqvfOFZ"
      },
      "execution_count": null,
      "outputs": []
    },
    {
      "cell_type": "code",
      "source": [],
      "metadata": {
        "id": "yLnLHs8pfOIu"
      },
      "execution_count": null,
      "outputs": []
    },
    {
      "cell_type": "markdown",
      "source": [
        "## ***Transformer Network***"
      ],
      "metadata": {
        "id": "4RKD8JuIYIWd"
      }
    },
    {
      "cell_type": "code",
      "source": [
        "import re\n",
        "from unicodedata import normalize\n",
        "\n",
        "\n",
        "def clean_and_prepare_text(text):\n",
        "    text = '[start] ' + clean_text(text) + ' [end]'\n",
        "    return text\n",
        "\n",
        "df['Amharic'] = df['Amharic'].apply(lambda row: clean_text(row))\n",
        "df['Awngi'] = df['Awngi'].apply(lambda row: clean_and_prepare_text(row))\n",
        "df.head()"
      ],
      "metadata": {
        "colab": {
          "base_uri": "https://localhost:8080/",
          "height": 206
        },
        "id": "0t8yoYRNYHPe",
        "outputId": "8731e5fc-7aa2-4a45-f657-1809588152e3"
      },
      "execution_count": null,
      "outputs": [
        {
          "output_type": "execute_result",
          "data": {
            "text/plain": [
              "                                            Amharic  \\\n",
              "0                                      መፀዳጃ ቤት ሄዱ፡፡   \n",
              "1                                 የደንብ ልብሳቸውን ለበሱ፡፡   \n",
              "2                                እጃቸውንና ፊታቸውን ታጠቡ፡፡   \n",
              "3  ደብተራቸውን፣ መፅሃፋቸውን፣ እርሳስና እስክርቢቷቸውን ወደ ቦርሳቸው ከተቱ፡፡   \n",
              "4                                  ወደ ትምህርት ቤት ሄዱ፡፡   \n",
              "\n",
              "                                              Awngi  \n",
              "0                            [start] ቻኺ ጝና ካዃ [end]  \n",
              "1                         [start] ዴንቡሳ ስዮ ሴዩና [end]  \n",
              "2                        [start] ታፎስታ እላፎ ቑሲና [end]  \n",
              "3  [start] ዴብቴሮ፡ ሜፃፎ፡እርሳሶስታ እስክርቢቶ ቦርሳሾ ኬቴቱና። [end]  \n",
              "4                       [start] ትምርት ጝናሾ ካሱና። [end]  "
            ],
            "text/html": [
              "\n",
              "  <div id=\"df-69838a8f-4e6a-41e5-9271-9fe646ce7769\" class=\"colab-df-container\">\n",
              "    <div>\n",
              "<style scoped>\n",
              "    .dataframe tbody tr th:only-of-type {\n",
              "        vertical-align: middle;\n",
              "    }\n",
              "\n",
              "    .dataframe tbody tr th {\n",
              "        vertical-align: top;\n",
              "    }\n",
              "\n",
              "    .dataframe thead th {\n",
              "        text-align: right;\n",
              "    }\n",
              "</style>\n",
              "<table border=\"1\" class=\"dataframe\">\n",
              "  <thead>\n",
              "    <tr style=\"text-align: right;\">\n",
              "      <th></th>\n",
              "      <th>Amharic</th>\n",
              "      <th>Awngi</th>\n",
              "    </tr>\n",
              "  </thead>\n",
              "  <tbody>\n",
              "    <tr>\n",
              "      <th>0</th>\n",
              "      <td>መፀዳጃ ቤት ሄዱ፡፡</td>\n",
              "      <td>[start] ቻኺ ጝና ካዃ [end]</td>\n",
              "    </tr>\n",
              "    <tr>\n",
              "      <th>1</th>\n",
              "      <td>የደንብ ልብሳቸውን ለበሱ፡፡</td>\n",
              "      <td>[start] ዴንቡሳ ስዮ ሴዩና [end]</td>\n",
              "    </tr>\n",
              "    <tr>\n",
              "      <th>2</th>\n",
              "      <td>እጃቸውንና ፊታቸውን ታጠቡ፡፡</td>\n",
              "      <td>[start] ታፎስታ እላፎ ቑሲና [end]</td>\n",
              "    </tr>\n",
              "    <tr>\n",
              "      <th>3</th>\n",
              "      <td>ደብተራቸውን፣ መፅሃፋቸውን፣ እርሳስና እስክርቢቷቸውን ወደ ቦርሳቸው ከተቱ፡፡</td>\n",
              "      <td>[start] ዴብቴሮ፡ ሜፃፎ፡እርሳሶስታ እስክርቢቶ ቦርሳሾ ኬቴቱና። [end]</td>\n",
              "    </tr>\n",
              "    <tr>\n",
              "      <th>4</th>\n",
              "      <td>ወደ ትምህርት ቤት ሄዱ፡፡</td>\n",
              "      <td>[start] ትምርት ጝናሾ ካሱና። [end]</td>\n",
              "    </tr>\n",
              "  </tbody>\n",
              "</table>\n",
              "</div>\n",
              "    <div class=\"colab-df-buttons\">\n",
              "\n",
              "  <div class=\"colab-df-container\">\n",
              "    <button class=\"colab-df-convert\" onclick=\"convertToInteractive('df-69838a8f-4e6a-41e5-9271-9fe646ce7769')\"\n",
              "            title=\"Convert this dataframe to an interactive table.\"\n",
              "            style=\"display:none;\">\n",
              "\n",
              "  <svg xmlns=\"http://www.w3.org/2000/svg\" height=\"24px\" viewBox=\"0 -960 960 960\">\n",
              "    <path d=\"M120-120v-720h720v720H120Zm60-500h600v-160H180v160Zm220 220h160v-160H400v160Zm0 220h160v-160H400v160ZM180-400h160v-160H180v160Zm440 0h160v-160H620v160ZM180-180h160v-160H180v160Zm440 0h160v-160H620v160Z\"/>\n",
              "  </svg>\n",
              "    </button>\n",
              "\n",
              "  <style>\n",
              "    .colab-df-container {\n",
              "      display:flex;\n",
              "      gap: 12px;\n",
              "    }\n",
              "\n",
              "    .colab-df-convert {\n",
              "      background-color: #E8F0FE;\n",
              "      border: none;\n",
              "      border-radius: 50%;\n",
              "      cursor: pointer;\n",
              "      display: none;\n",
              "      fill: #1967D2;\n",
              "      height: 32px;\n",
              "      padding: 0 0 0 0;\n",
              "      width: 32px;\n",
              "    }\n",
              "\n",
              "    .colab-df-convert:hover {\n",
              "      background-color: #E2EBFA;\n",
              "      box-shadow: 0px 1px 2px rgba(60, 64, 67, 0.3), 0px 1px 3px 1px rgba(60, 64, 67, 0.15);\n",
              "      fill: #174EA6;\n",
              "    }\n",
              "\n",
              "    .colab-df-buttons div {\n",
              "      margin-bottom: 4px;\n",
              "    }\n",
              "\n",
              "    [theme=dark] .colab-df-convert {\n",
              "      background-color: #3B4455;\n",
              "      fill: #D2E3FC;\n",
              "    }\n",
              "\n",
              "    [theme=dark] .colab-df-convert:hover {\n",
              "      background-color: #434B5C;\n",
              "      box-shadow: 0px 1px 3px 1px rgba(0, 0, 0, 0.15);\n",
              "      filter: drop-shadow(0px 1px 2px rgba(0, 0, 0, 0.3));\n",
              "      fill: #FFFFFF;\n",
              "    }\n",
              "  </style>\n",
              "\n",
              "    <script>\n",
              "      const buttonEl =\n",
              "        document.querySelector('#df-69838a8f-4e6a-41e5-9271-9fe646ce7769 button.colab-df-convert');\n",
              "      buttonEl.style.display =\n",
              "        google.colab.kernel.accessAllowed ? 'block' : 'none';\n",
              "\n",
              "      async function convertToInteractive(key) {\n",
              "        const element = document.querySelector('#df-69838a8f-4e6a-41e5-9271-9fe646ce7769');\n",
              "        const dataTable =\n",
              "          await google.colab.kernel.invokeFunction('convertToInteractive',\n",
              "                                                    [key], {});\n",
              "        if (!dataTable) return;\n",
              "\n",
              "        const docLinkHtml = 'Like what you see? Visit the ' +\n",
              "          '<a target=\"_blank\" href=https://colab.research.google.com/notebooks/data_table.ipynb>data table notebook</a>'\n",
              "          + ' to learn more about interactive tables.';\n",
              "        element.innerHTML = '';\n",
              "        dataTable['output_type'] = 'display_data';\n",
              "        await google.colab.output.renderOutput(dataTable, element);\n",
              "        const docLink = document.createElement('div');\n",
              "        docLink.innerHTML = docLinkHtml;\n",
              "        element.appendChild(docLink);\n",
              "      }\n",
              "    </script>\n",
              "  </div>\n",
              "\n",
              "\n",
              "<div id=\"df-c05647d0-cbff-4be4-9b35-634d6a8e5ada\">\n",
              "  <button class=\"colab-df-quickchart\" onclick=\"quickchart('df-c05647d0-cbff-4be4-9b35-634d6a8e5ada')\"\n",
              "            title=\"Suggest charts\"\n",
              "            style=\"display:none;\">\n",
              "\n",
              "<svg xmlns=\"http://www.w3.org/2000/svg\" height=\"24px\"viewBox=\"0 0 24 24\"\n",
              "     width=\"24px\">\n",
              "    <g>\n",
              "        <path d=\"M19 3H5c-1.1 0-2 .9-2 2v14c0 1.1.9 2 2 2h14c1.1 0 2-.9 2-2V5c0-1.1-.9-2-2-2zM9 17H7v-7h2v7zm4 0h-2V7h2v10zm4 0h-2v-4h2v4z\"/>\n",
              "    </g>\n",
              "</svg>\n",
              "  </button>\n",
              "\n",
              "<style>\n",
              "  .colab-df-quickchart {\n",
              "      --bg-color: #E8F0FE;\n",
              "      --fill-color: #1967D2;\n",
              "      --hover-bg-color: #E2EBFA;\n",
              "      --hover-fill-color: #174EA6;\n",
              "      --disabled-fill-color: #AAA;\n",
              "      --disabled-bg-color: #DDD;\n",
              "  }\n",
              "\n",
              "  [theme=dark] .colab-df-quickchart {\n",
              "      --bg-color: #3B4455;\n",
              "      --fill-color: #D2E3FC;\n",
              "      --hover-bg-color: #434B5C;\n",
              "      --hover-fill-color: #FFFFFF;\n",
              "      --disabled-bg-color: #3B4455;\n",
              "      --disabled-fill-color: #666;\n",
              "  }\n",
              "\n",
              "  .colab-df-quickchart {\n",
              "    background-color: var(--bg-color);\n",
              "    border: none;\n",
              "    border-radius: 50%;\n",
              "    cursor: pointer;\n",
              "    display: none;\n",
              "    fill: var(--fill-color);\n",
              "    height: 32px;\n",
              "    padding: 0;\n",
              "    width: 32px;\n",
              "  }\n",
              "\n",
              "  .colab-df-quickchart:hover {\n",
              "    background-color: var(--hover-bg-color);\n",
              "    box-shadow: 0 1px 2px rgba(60, 64, 67, 0.3), 0 1px 3px 1px rgba(60, 64, 67, 0.15);\n",
              "    fill: var(--button-hover-fill-color);\n",
              "  }\n",
              "\n",
              "  .colab-df-quickchart-complete:disabled,\n",
              "  .colab-df-quickchart-complete:disabled:hover {\n",
              "    background-color: var(--disabled-bg-color);\n",
              "    fill: var(--disabled-fill-color);\n",
              "    box-shadow: none;\n",
              "  }\n",
              "\n",
              "  .colab-df-spinner {\n",
              "    border: 2px solid var(--fill-color);\n",
              "    border-color: transparent;\n",
              "    border-bottom-color: var(--fill-color);\n",
              "    animation:\n",
              "      spin 1s steps(1) infinite;\n",
              "  }\n",
              "\n",
              "  @keyframes spin {\n",
              "    0% {\n",
              "      border-color: transparent;\n",
              "      border-bottom-color: var(--fill-color);\n",
              "      border-left-color: var(--fill-color);\n",
              "    }\n",
              "    20% {\n",
              "      border-color: transparent;\n",
              "      border-left-color: var(--fill-color);\n",
              "      border-top-color: var(--fill-color);\n",
              "    }\n",
              "    30% {\n",
              "      border-color: transparent;\n",
              "      border-left-color: var(--fill-color);\n",
              "      border-top-color: var(--fill-color);\n",
              "      border-right-color: var(--fill-color);\n",
              "    }\n",
              "    40% {\n",
              "      border-color: transparent;\n",
              "      border-right-color: var(--fill-color);\n",
              "      border-top-color: var(--fill-color);\n",
              "    }\n",
              "    60% {\n",
              "      border-color: transparent;\n",
              "      border-right-color: var(--fill-color);\n",
              "    }\n",
              "    80% {\n",
              "      border-color: transparent;\n",
              "      border-right-color: var(--fill-color);\n",
              "      border-bottom-color: var(--fill-color);\n",
              "    }\n",
              "    90% {\n",
              "      border-color: transparent;\n",
              "      border-bottom-color: var(--fill-color);\n",
              "    }\n",
              "  }\n",
              "</style>\n",
              "\n",
              "  <script>\n",
              "    async function quickchart(key) {\n",
              "      const quickchartButtonEl =\n",
              "        document.querySelector('#' + key + ' button');\n",
              "      quickchartButtonEl.disabled = true;  // To prevent multiple clicks.\n",
              "      quickchartButtonEl.classList.add('colab-df-spinner');\n",
              "      try {\n",
              "        const charts = await google.colab.kernel.invokeFunction(\n",
              "            'suggestCharts', [key], {});\n",
              "      } catch (error) {\n",
              "        console.error('Error during call to suggestCharts:', error);\n",
              "      }\n",
              "      quickchartButtonEl.classList.remove('colab-df-spinner');\n",
              "      quickchartButtonEl.classList.add('colab-df-quickchart-complete');\n",
              "    }\n",
              "    (() => {\n",
              "      let quickchartButtonEl =\n",
              "        document.querySelector('#df-c05647d0-cbff-4be4-9b35-634d6a8e5ada button');\n",
              "      quickchartButtonEl.style.display =\n",
              "        google.colab.kernel.accessAllowed ? 'block' : 'none';\n",
              "    })();\n",
              "  </script>\n",
              "</div>\n",
              "\n",
              "    </div>\n",
              "  </div>\n"
            ],
            "application/vnd.google.colaboratory.intrinsic+json": {
              "type": "dataframe",
              "variable_name": "df",
              "summary": "{\n  \"name\": \"df\",\n  \"rows\": 27818,\n  \"fields\": [\n    {\n      \"column\": \"Amharic\",\n      \"properties\": {\n        \"dtype\": \"category\",\n        \"num_unique_values\": 6301,\n        \"samples\": [\n          \"\\u12a0\\u127a\\u1275\\u1319\\u1291 \\u130a\\u12dd 2009 \\u121d\\u122c\\u1275 \\u12a0\\u121c\\u1275\\u12f3 \\u12eb\\u12b9\\u1292\\u12aa\\u120b \\u120b\\u121d\\u1261\\u1233\\u12ba\\u1235\\u1273 \\u131d\\u1293 \\u130d\\u1262\\u1344 \\u1265\\u1274 \\u12a0\\u130d\\u1344\\u12ab\\u12eb\\u120b::\",\n          \"\\u1309\\u12de \\u1300\\u1218\\u1229\\u1362\",\n          \"\\u12a5\\u123d\\u12be\"\n        ],\n        \"semantic_type\": \"\",\n        \"description\": \"\"\n      }\n    },\n    {\n      \"column\": \"Awngi\",\n      \"properties\": {\n        \"dtype\": \"category\",\n        \"num_unique_values\": 4739,\n        \"samples\": [\n          \"[start] \\u120e\\u121a\\u1293\\u1275 \\u1353\\u122d\\u120b\\u121b\\u12cd\\u1235 \\u1309\\u120b\\u120a\\u1235 \\u120d\\u12ba\\u1275\\u131d\\u1271\\u12bb [end]\",\n          \"[start] \\u1251\\u1295\\u12dd\\u12ab\\u12cb \\u12ab\\u120b\\u12ab\\u120d\\u131d\\u131d \\u134b\\u12ed\\u1344 [end]\",\n          \"[start] \\u12f4\\u12f4\\u12ad \\u12a5\\u1295\\u1345\\u12bc \\u1304\\u121c\\u122d\\u131d\\u12aa\\u120b \\u12ed\\u1276\\u1352\\u12eb \\u12a0\\u120c\\u1219 \\u12a0\\u1261\\u1251 \\u121c\\u12f5\\u122c\\u12bd\\u12ab\\u12f3 \\u12bd\\u1233\\u1295\\u1274 \\u127b\\u1292\\u1235\\u1276 \\u120c\\u1295\\u130c\\u12f5\\u1344\\u1273 \\u1344\\u12cb:: [end]\"\n        ],\n        \"semantic_type\": \"\",\n        \"description\": \"\"\n      }\n    }\n  ]\n}"
            }
          },
          "metadata": {},
          "execution_count": 16
        }
      ]
    },
    {
      "cell_type": "code",
      "source": [],
      "metadata": {
        "id": "d7h3b8RKYHSD"
      },
      "execution_count": null,
      "outputs": []
    },
    {
      "cell_type": "code",
      "source": [
        "am = df['Amharic']\n",
        "aw = df['Awngi']\n",
        "\n",
        "am_max_len = max(len(line.split()) for line in am)\n",
        "aw_max_len = max(len(line.split()) for line in aw)\n",
        "sequence_len = max(am_max_len, aw_max_len)\n",
        "\n",
        "print(f'Max phrase length (Amharic): {am_max_len}')\n",
        "print(f'Max phrase length (Awngi): {aw_max_len}')\n",
        "print(f'Sequence length: {sequence_len}')"
      ],
      "metadata": {
        "colab": {
          "base_uri": "https://localhost:8080/"
        },
        "id": "YS6oMyhLYHUa",
        "outputId": "54d15e08-e612-4f37-c88a-7c7c6fff35a7"
      },
      "execution_count": 8,
      "outputs": [
        {
          "output_type": "stream",
          "name": "stdout",
          "text": [
            "Max phrase length (Amharic): 75\n",
            "Max phrase length (Awngi): 75\n",
            "Sequence length: 75\n"
          ]
        }
      ]
    },
    {
      "cell_type": "code",
      "source": [],
      "metadata": {
        "id": "KT00ez9LYgcx"
      },
      "execution_count": null,
      "outputs": []
    },
    {
      "cell_type": "code",
      "source": [
        "from tensorflow.keras.preprocessing.text import Tokenizer\n",
        "from tensorflow.keras.preprocessing.sequence import pad_sequences\n",
        "\n",
        "am_tokenizer = Tokenizer()\n",
        "am_tokenizer.fit_on_texts(am)\n",
        "am_sequences = am_tokenizer.texts_to_sequences(am)\n",
        "am_x = pad_sequences(am_sequences, maxlen=sequence_len, padding='post')\n",
        "\n",
        "aw_tokenizer = Tokenizer(filters='!\"#$%&()*+,-./:;<=>?@\\\\^_`{|}~\\t\\n')\n",
        "aw_tokenizer.fit_on_texts(aw)\n",
        "aw_sequences = aw_tokenizer.texts_to_sequences(aw)\n",
        "aw_y = pad_sequences(aw_sequences, maxlen=sequence_len + 1, padding='post')"
      ],
      "metadata": {
        "id": "oJGxAADCYgfH"
      },
      "execution_count": 9,
      "outputs": []
    },
    {
      "cell_type": "code",
      "source": [],
      "metadata": {
        "id": "q2hKuQwjYghb"
      },
      "execution_count": null,
      "outputs": []
    },
    {
      "cell_type": "code",
      "source": [
        "am_vocab_size = len(am_tokenizer.word_index) + 1\n",
        "aw_vocab_size = len(aw_tokenizer.word_index) + 1\n",
        "\n",
        "print(f'Vocabulary size (Amharic): {am_vocab_size}')\n",
        "print(f'Vocabulary size (Awngi): {aw_vocab_size}')"
      ],
      "metadata": {
        "colab": {
          "base_uri": "https://localhost:8080/"
        },
        "id": "3wqPTV_SYgjy",
        "outputId": "d940a3d0-4473-4a51-966d-94a58452d014"
      },
      "execution_count": 11,
      "outputs": [
        {
          "output_type": "stream",
          "name": "stdout",
          "text": [
            "Vocabulary size (Amharic): 13082\n",
            "Vocabulary size (Awngi): 12664\n"
          ]
        }
      ]
    },
    {
      "cell_type": "code",
      "source": [],
      "metadata": {
        "id": "F1OTO1Q4YgmB"
      },
      "execution_count": null,
      "outputs": []
    },
    {
      "cell_type": "code",
      "source": [
        "inputs = { 'encoder_input': am_x, 'decoder_input': aw_y[:, :-1] }\n",
        "outputs = aw_y[:, 1:]"
      ],
      "metadata": {
        "id": "JzcnsMcYYgoL"
      },
      "execution_count": 12,
      "outputs": []
    },
    {
      "cell_type": "code",
      "source": [],
      "metadata": {
        "id": "2FHShGk3fzXF"
      },
      "execution_count": null,
      "outputs": []
    },
    {
      "cell_type": "code",
      "source": [
        "!pip install keras_nlp\n",
        "import numpy as np\n",
        "import tensorflow as tf\n",
        "from tensorflow.keras import Model\n",
        "from tensorflow.keras.layers import Input, Dense, Dropout\n",
        "from keras_nlp.layers import TokenAndPositionEmbedding, TransformerEncoder\n",
        "from keras_nlp.layers import TransformerDecoder\n",
        "\n",
        "np.random.seed(42)\n",
        "tf.random.set_seed(42)\n",
        "\n",
        "num_heads = 8\n",
        "embed_dim = 256\n",
        "\n",
        "encoder_input = Input(shape=(None,), dtype='int64', name='encoder_input')\n",
        "x = TokenAndPositionEmbedding(am_vocab_size, sequence_len, embed_dim)(encoder_input)\n",
        "encoder_output = TransformerEncoder(embed_dim, num_heads)(x)\n",
        "encoded_seq_input = Input(shape=(None, embed_dim))\n",
        "\n",
        "decoder_input = Input(shape=(None,), dtype='int64', name='decoder_input')\n",
        "x = TokenAndPositionEmbedding(aw_vocab_size, sequence_len, embed_dim, mask_zero=True)(decoder_input)\n",
        "x = TransformerDecoder(embed_dim, num_heads)(x, encoded_seq_input)\n",
        "x = Dropout(0.4)(x)\n",
        "\n",
        "decoder_output = Dense(aw_vocab_size, activation='softmax')(x)\n",
        "decoder = Model([decoder_input, encoded_seq_input], decoder_output)\n",
        "decoder_output = decoder([decoder_input, encoder_output])\n",
        "\n",
        "model = Model([encoder_input, decoder_input], decoder_output)\n",
        "model.compile(optimizer='adam', loss='sparse_categorical_crossentropy', metrics=['accuracy'])\n",
        "model.summary(line_length=120)"
      ],
      "metadata": {
        "colab": {
          "base_uri": "https://localhost:8080/",
          "height": 1000
        },
        "id": "Oj_stIcKYgrj",
        "outputId": "c5c03944-0341-4fa6-e859-ad8e06ff54b2"
      },
      "execution_count": 13,
      "outputs": [
        {
          "output_type": "stream",
          "name": "stdout",
          "text": [
            "Collecting keras_nlp\n",
            "  Downloading keras_nlp-0.12.1-py3-none-any.whl (570 kB)\n",
            "\u001b[2K     \u001b[90m━━━━━━━━━━━━━━━━━━━━━━━━━━━━━━━━━━━━━━━━\u001b[0m \u001b[32m570.5/570.5 kB\u001b[0m \u001b[31m6.8 MB/s\u001b[0m eta \u001b[36m0:00:00\u001b[0m\n",
            "\u001b[?25hCollecting keras-core (from keras_nlp)\n",
            "  Downloading keras_core-0.1.7-py3-none-any.whl (950 kB)\n",
            "\u001b[2K     \u001b[90m━━━━━━━━━━━━━━━━━━━━━━━━━━━━━━━━━━━━━━━━\u001b[0m \u001b[32m950.8/950.8 kB\u001b[0m \u001b[31m23.7 MB/s\u001b[0m eta \u001b[36m0:00:00\u001b[0m\n",
            "\u001b[?25hRequirement already satisfied: absl-py in /usr/local/lib/python3.10/dist-packages (from keras_nlp) (1.4.0)\n",
            "Requirement already satisfied: numpy in /usr/local/lib/python3.10/dist-packages (from keras_nlp) (1.25.2)\n",
            "Requirement already satisfied: packaging in /usr/local/lib/python3.10/dist-packages (from keras_nlp) (24.1)\n",
            "Requirement already satisfied: regex in /usr/local/lib/python3.10/dist-packages (from keras_nlp) (2024.5.15)\n",
            "Requirement already satisfied: rich in /usr/local/lib/python3.10/dist-packages (from keras_nlp) (13.7.1)\n",
            "Requirement already satisfied: dm-tree in /usr/local/lib/python3.10/dist-packages (from keras_nlp) (0.1.8)\n",
            "Requirement already satisfied: kagglehub in /usr/local/lib/python3.10/dist-packages (from keras_nlp) (0.2.5)\n",
            "Collecting tensorflow-text (from keras_nlp)\n",
            "  Downloading tensorflow_text-2.16.1-cp310-cp310-manylinux_2_17_x86_64.manylinux2014_x86_64.whl (5.2 MB)\n",
            "\u001b[2K     \u001b[90m━━━━━━━━━━━━━━━━━━━━━━━━━━━━━━━━━━━━━━━━\u001b[0m \u001b[32m5.2/5.2 MB\u001b[0m \u001b[31m22.5 MB/s\u001b[0m eta \u001b[36m0:00:00\u001b[0m\n",
            "\u001b[?25hRequirement already satisfied: requests in /usr/local/lib/python3.10/dist-packages (from kagglehub->keras_nlp) (2.31.0)\n",
            "Requirement already satisfied: tqdm in /usr/local/lib/python3.10/dist-packages (from kagglehub->keras_nlp) (4.66.4)\n",
            "Collecting namex (from keras-core->keras_nlp)\n",
            "  Downloading namex-0.0.8-py3-none-any.whl (5.8 kB)\n",
            "Requirement already satisfied: h5py in /usr/local/lib/python3.10/dist-packages (from keras-core->keras_nlp) (3.9.0)\n",
            "Requirement already satisfied: markdown-it-py>=2.2.0 in /usr/local/lib/python3.10/dist-packages (from rich->keras_nlp) (3.0.0)\n",
            "Requirement already satisfied: pygments<3.0.0,>=2.13.0 in /usr/local/lib/python3.10/dist-packages (from rich->keras_nlp) (2.16.1)\n",
            "Collecting tensorflow<2.17,>=2.16.1 (from tensorflow-text->keras_nlp)\n",
            "  Downloading tensorflow-2.16.1-cp310-cp310-manylinux_2_17_x86_64.manylinux2014_x86_64.whl (589.8 MB)\n",
            "\u001b[2K     \u001b[90m━━━━━━━━━━━━━━━━━━━━━━━━━━━━━━━━━━━━━━━━\u001b[0m \u001b[32m589.8/589.8 MB\u001b[0m \u001b[31m1.9 MB/s\u001b[0m eta \u001b[36m0:00:00\u001b[0m\n",
            "\u001b[?25hRequirement already satisfied: mdurl~=0.1 in /usr/local/lib/python3.10/dist-packages (from markdown-it-py>=2.2.0->rich->keras_nlp) (0.1.2)\n",
            "Requirement already satisfied: astunparse>=1.6.0 in /usr/local/lib/python3.10/dist-packages (from tensorflow<2.17,>=2.16.1->tensorflow-text->keras_nlp) (1.6.3)\n",
            "Requirement already satisfied: flatbuffers>=23.5.26 in /usr/local/lib/python3.10/dist-packages (from tensorflow<2.17,>=2.16.1->tensorflow-text->keras_nlp) (24.3.25)\n",
            "Requirement already satisfied: gast!=0.5.0,!=0.5.1,!=0.5.2,>=0.2.1 in /usr/local/lib/python3.10/dist-packages (from tensorflow<2.17,>=2.16.1->tensorflow-text->keras_nlp) (0.5.4)\n",
            "Requirement already satisfied: google-pasta>=0.1.1 in /usr/local/lib/python3.10/dist-packages (from tensorflow<2.17,>=2.16.1->tensorflow-text->keras_nlp) (0.2.0)\n",
            "Collecting h5py (from keras-core->keras_nlp)\n",
            "  Downloading h5py-3.11.0-cp310-cp310-manylinux_2_17_x86_64.manylinux2014_x86_64.whl (5.3 MB)\n",
            "\u001b[2K     \u001b[90m━━━━━━━━━━━━━━━━━━━━━━━━━━━━━━━━━━━━━━━━\u001b[0m \u001b[32m5.3/5.3 MB\u001b[0m \u001b[31m65.2 MB/s\u001b[0m eta \u001b[36m0:00:00\u001b[0m\n",
            "\u001b[?25hRequirement already satisfied: libclang>=13.0.0 in /usr/local/lib/python3.10/dist-packages (from tensorflow<2.17,>=2.16.1->tensorflow-text->keras_nlp) (18.1.1)\n",
            "Collecting ml-dtypes~=0.3.1 (from tensorflow<2.17,>=2.16.1->tensorflow-text->keras_nlp)\n",
            "  Downloading ml_dtypes-0.3.2-cp310-cp310-manylinux_2_17_x86_64.manylinux2014_x86_64.whl (2.2 MB)\n",
            "\u001b[2K     \u001b[90m━━━━━━━━━━━━━━━━━━━━━━━━━━━━━━━━━━━━━━━━\u001b[0m \u001b[32m2.2/2.2 MB\u001b[0m \u001b[31m65.9 MB/s\u001b[0m eta \u001b[36m0:00:00\u001b[0m\n",
            "\u001b[?25hRequirement already satisfied: opt-einsum>=2.3.2 in /usr/local/lib/python3.10/dist-packages (from tensorflow<2.17,>=2.16.1->tensorflow-text->keras_nlp) (3.3.0)\n",
            "Requirement already satisfied: protobuf!=4.21.0,!=4.21.1,!=4.21.2,!=4.21.3,!=4.21.4,!=4.21.5,<5.0.0dev,>=3.20.3 in /usr/local/lib/python3.10/dist-packages (from tensorflow<2.17,>=2.16.1->tensorflow-text->keras_nlp) (3.20.3)\n",
            "Requirement already satisfied: setuptools in /usr/local/lib/python3.10/dist-packages (from tensorflow<2.17,>=2.16.1->tensorflow-text->keras_nlp) (67.7.2)\n",
            "Requirement already satisfied: six>=1.12.0 in /usr/local/lib/python3.10/dist-packages (from tensorflow<2.17,>=2.16.1->tensorflow-text->keras_nlp) (1.16.0)\n",
            "Requirement already satisfied: termcolor>=1.1.0 in /usr/local/lib/python3.10/dist-packages (from tensorflow<2.17,>=2.16.1->tensorflow-text->keras_nlp) (2.4.0)\n",
            "Requirement already satisfied: typing-extensions>=3.6.6 in /usr/local/lib/python3.10/dist-packages (from tensorflow<2.17,>=2.16.1->tensorflow-text->keras_nlp) (4.12.2)\n",
            "Requirement already satisfied: wrapt>=1.11.0 in /usr/local/lib/python3.10/dist-packages (from tensorflow<2.17,>=2.16.1->tensorflow-text->keras_nlp) (1.14.1)\n",
            "Requirement already satisfied: grpcio<2.0,>=1.24.3 in /usr/local/lib/python3.10/dist-packages (from tensorflow<2.17,>=2.16.1->tensorflow-text->keras_nlp) (1.64.1)\n",
            "Collecting tensorboard<2.17,>=2.16 (from tensorflow<2.17,>=2.16.1->tensorflow-text->keras_nlp)\n",
            "  Downloading tensorboard-2.16.2-py3-none-any.whl (5.5 MB)\n",
            "\u001b[2K     \u001b[90m━━━━━━━━━━━━━━━━━━━━━━━━━━━━━━━━━━━━━━━━\u001b[0m \u001b[32m5.5/5.5 MB\u001b[0m \u001b[31m58.6 MB/s\u001b[0m eta \u001b[36m0:00:00\u001b[0m\n",
            "\u001b[?25hCollecting keras>=3.0.0 (from tensorflow<2.17,>=2.16.1->tensorflow-text->keras_nlp)\n",
            "  Downloading keras-3.3.3-py3-none-any.whl (1.1 MB)\n",
            "\u001b[2K     \u001b[90m━━━━━━━━━━━━━━━━━━━━━━━━━━━━━━━━━━━━━━━━\u001b[0m \u001b[32m1.1/1.1 MB\u001b[0m \u001b[31m37.0 MB/s\u001b[0m eta \u001b[36m0:00:00\u001b[0m\n",
            "\u001b[?25hRequirement already satisfied: tensorflow-io-gcs-filesystem>=0.23.1 in /usr/local/lib/python3.10/dist-packages (from tensorflow<2.17,>=2.16.1->tensorflow-text->keras_nlp) (0.37.0)\n",
            "Requirement already satisfied: charset-normalizer<4,>=2 in /usr/local/lib/python3.10/dist-packages (from requests->kagglehub->keras_nlp) (3.3.2)\n",
            "Requirement already satisfied: idna<4,>=2.5 in /usr/local/lib/python3.10/dist-packages (from requests->kagglehub->keras_nlp) (3.7)\n",
            "Requirement already satisfied: urllib3<3,>=1.21.1 in /usr/local/lib/python3.10/dist-packages (from requests->kagglehub->keras_nlp) (2.0.7)\n",
            "Requirement already satisfied: certifi>=2017.4.17 in /usr/local/lib/python3.10/dist-packages (from requests->kagglehub->keras_nlp) (2024.6.2)\n",
            "Requirement already satisfied: wheel<1.0,>=0.23.0 in /usr/local/lib/python3.10/dist-packages (from astunparse>=1.6.0->tensorflow<2.17,>=2.16.1->tensorflow-text->keras_nlp) (0.43.0)\n",
            "Collecting optree (from keras>=3.0.0->tensorflow<2.17,>=2.16.1->tensorflow-text->keras_nlp)\n",
            "  Downloading optree-0.11.0-cp310-cp310-manylinux_2_17_x86_64.manylinux2014_x86_64.whl (311 kB)\n",
            "\u001b[2K     \u001b[90m━━━━━━━━━━━━━━━━━━━━━━━━━━━━━━━━━━━━━━━━\u001b[0m \u001b[32m311.2/311.2 kB\u001b[0m \u001b[31m26.7 MB/s\u001b[0m eta \u001b[36m0:00:00\u001b[0m\n",
            "\u001b[?25hRequirement already satisfied: markdown>=2.6.8 in /usr/local/lib/python3.10/dist-packages (from tensorboard<2.17,>=2.16->tensorflow<2.17,>=2.16.1->tensorflow-text->keras_nlp) (3.6)\n",
            "Requirement already satisfied: tensorboard-data-server<0.8.0,>=0.7.0 in /usr/local/lib/python3.10/dist-packages (from tensorboard<2.17,>=2.16->tensorflow<2.17,>=2.16.1->tensorflow-text->keras_nlp) (0.7.2)\n",
            "Requirement already satisfied: werkzeug>=1.0.1 in /usr/local/lib/python3.10/dist-packages (from tensorboard<2.17,>=2.16->tensorflow<2.17,>=2.16.1->tensorflow-text->keras_nlp) (3.0.3)\n",
            "Requirement already satisfied: MarkupSafe>=2.1.1 in /usr/local/lib/python3.10/dist-packages (from werkzeug>=1.0.1->tensorboard<2.17,>=2.16->tensorflow<2.17,>=2.16.1->tensorflow-text->keras_nlp) (2.1.5)\n",
            "Installing collected packages: namex, optree, ml-dtypes, h5py, tensorboard, keras-core, keras, tensorflow, tensorflow-text, keras_nlp\n",
            "  Attempting uninstall: ml-dtypes\n",
            "    Found existing installation: ml-dtypes 0.2.0\n",
            "    Uninstalling ml-dtypes-0.2.0:\n",
            "      Successfully uninstalled ml-dtypes-0.2.0\n",
            "  Attempting uninstall: h5py\n",
            "    Found existing installation: h5py 3.9.0\n",
            "    Uninstalling h5py-3.9.0:\n",
            "      Successfully uninstalled h5py-3.9.0\n",
            "  Attempting uninstall: tensorboard\n",
            "    Found existing installation: tensorboard 2.15.2\n",
            "    Uninstalling tensorboard-2.15.2:\n",
            "      Successfully uninstalled tensorboard-2.15.2\n",
            "  Attempting uninstall: keras\n",
            "    Found existing installation: keras 2.15.0\n",
            "    Uninstalling keras-2.15.0:\n",
            "      Successfully uninstalled keras-2.15.0\n",
            "  Attempting uninstall: tensorflow\n",
            "    Found existing installation: tensorflow 2.15.0\n",
            "    Uninstalling tensorflow-2.15.0:\n",
            "      Successfully uninstalled tensorflow-2.15.0\n",
            "\u001b[31mERROR: pip's dependency resolver does not currently take into account all the packages that are installed. This behaviour is the source of the following dependency conflicts.\n",
            "tf-keras 2.15.1 requires tensorflow<2.16,>=2.15, but you have tensorflow 2.16.1 which is incompatible.\u001b[0m\u001b[31m\n",
            "\u001b[0mSuccessfully installed h5py-3.11.0 keras-3.3.3 keras-core-0.1.7 keras_nlp-0.12.1 ml-dtypes-0.3.2 namex-0.0.8 optree-0.11.0 tensorboard-2.16.2 tensorflow-2.16.1 tensorflow-text-2.16.1\n"
          ]
        },
        {
          "output_type": "display_data",
          "data": {
            "application/vnd.colab-display-data+json": {
              "pip_warning": {
                "packages": [
                  "h5py",
                  "keras",
                  "ml_dtypes",
                  "tensorboard",
                  "tensorflow"
                ]
              },
              "id": "b0fedf2eaee340228f4075f611a4c22e"
            }
          },
          "metadata": {}
        },
        {
          "output_type": "error",
          "ename": "ModuleNotFoundError",
          "evalue": "No module named 'tensorflow.keras.layers'",
          "traceback": [
            "\u001b[0;31m---------------------------------------------------------------------------\u001b[0m",
            "\u001b[0;31mModuleNotFoundError\u001b[0m                       Traceback (most recent call last)",
            "\u001b[0;32m<ipython-input-13-771b3c480805>\u001b[0m in \u001b[0;36m<cell line: 5>\u001b[0;34m()\u001b[0m\n\u001b[1;32m      3\u001b[0m \u001b[0;32mimport\u001b[0m \u001b[0mtensorflow\u001b[0m \u001b[0;32mas\u001b[0m \u001b[0mtf\u001b[0m\u001b[0;34m\u001b[0m\u001b[0;34m\u001b[0m\u001b[0m\n\u001b[1;32m      4\u001b[0m \u001b[0;32mfrom\u001b[0m \u001b[0mtensorflow\u001b[0m\u001b[0;34m.\u001b[0m\u001b[0mkeras\u001b[0m \u001b[0;32mimport\u001b[0m \u001b[0mModel\u001b[0m\u001b[0;34m\u001b[0m\u001b[0;34m\u001b[0m\u001b[0m\n\u001b[0;32m----> 5\u001b[0;31m \u001b[0;32mfrom\u001b[0m \u001b[0mtensorflow\u001b[0m\u001b[0;34m.\u001b[0m\u001b[0mkeras\u001b[0m\u001b[0;34m.\u001b[0m\u001b[0mlayers\u001b[0m \u001b[0;32mimport\u001b[0m \u001b[0mInput\u001b[0m\u001b[0;34m,\u001b[0m \u001b[0mDense\u001b[0m\u001b[0;34m,\u001b[0m \u001b[0mDropout\u001b[0m\u001b[0;34m\u001b[0m\u001b[0;34m\u001b[0m\u001b[0m\n\u001b[0m\u001b[1;32m      6\u001b[0m \u001b[0;32mfrom\u001b[0m \u001b[0mkeras_nlp\u001b[0m\u001b[0;34m.\u001b[0m\u001b[0mlayers\u001b[0m \u001b[0;32mimport\u001b[0m \u001b[0mTokenAndPositionEmbedding\u001b[0m\u001b[0;34m,\u001b[0m \u001b[0mTransformerEncoder\u001b[0m\u001b[0;34m\u001b[0m\u001b[0;34m\u001b[0m\u001b[0m\n\u001b[1;32m      7\u001b[0m \u001b[0;32mfrom\u001b[0m \u001b[0mkeras_nlp\u001b[0m\u001b[0;34m.\u001b[0m\u001b[0mlayers\u001b[0m \u001b[0;32mimport\u001b[0m \u001b[0mTransformerDecoder\u001b[0m\u001b[0;34m\u001b[0m\u001b[0;34m\u001b[0m\u001b[0m\n",
            "\u001b[0;31mModuleNotFoundError\u001b[0m: No module named 'tensorflow.keras.layers'",
            "",
            "\u001b[0;31m---------------------------------------------------------------------------\u001b[0;32m\nNOTE: If your import is failing due to a missing package, you can\nmanually install dependencies using either !pip or !apt.\n\nTo view examples of installing some common dependencies, click the\n\"Open Examples\" button below.\n\u001b[0;31m---------------------------------------------------------------------------\u001b[0m\n"
          ],
          "errorDetails": {
            "actions": [
              {
                "action": "open_url",
                "actionText": "Open Examples",
                "url": "/notebooks/snippets/importing_libraries.ipynb"
              }
            ]
          }
        }
      ]
    },
    {
      "cell_type": "code",
      "source": [
        "model.summary()"
      ],
      "metadata": {
        "colab": {
          "base_uri": "https://localhost:8080/"
        },
        "id": "1kPdyh7bYtKU",
        "outputId": "a8ffc534-7466-4a6a-99f8-aaa02a9fdba6"
      },
      "execution_count": null,
      "outputs": [
        {
          "output_type": "stream",
          "name": "stdout",
          "text": [
            "Model: \"model_1\"\n",
            "__________________________________________________________________________________________________\n",
            " Layer (type)                Output Shape                 Param #   Connected to                  \n",
            "==================================================================================================\n",
            " encoder_input (InputLayer)  [(None, None)]               0         []                            \n",
            "                                                                                                  \n",
            " token_and_position_embeddi  (None, None, 256)            3368704   ['encoder_input[0][0]']       \n",
            " ng (TokenAndPositionEmbedd                                                                       \n",
            " ing)                                                                                             \n",
            "                                                                                                  \n",
            " decoder_input (InputLayer)  [(None, None)]               0         []                            \n",
            "                                                                                                  \n",
            " transformer_encoder (Trans  (None, None, 256)            395776    ['token_and_position_embedding\n",
            " formerEncoder)                                                     [0][0]']                      \n",
            "                                                                                                  \n",
            " model (Functional)          (None, None, 12666)          7176826   ['decoder_input[0][0]',       \n",
            "                                                                     'transformer_encoder[0][0]'] \n",
            "                                                                                                  \n",
            "==================================================================================================\n",
            "Total params: 10941306 (41.74 MB)\n",
            "Trainable params: 10941306 (41.74 MB)\n",
            "Non-trainable params: 0 (0.00 Byte)\n",
            "__________________________________________________________________________________________________\n"
          ]
        }
      ]
    },
    {
      "cell_type": "code",
      "source": [
        "from tensorflow.keras.callbacks import EarlyStopping\n",
        "\n",
        "callback = EarlyStopping(monitor='val_accuracy', patience=5, restore_best_weights=True)\n",
        "hist = model.fit(inputs, outputs, epochs=50, validation_split=0.2, callbacks=[callback])"
      ],
      "metadata": {
        "colab": {
          "base_uri": "https://localhost:8080/"
        },
        "id": "ZADrDrWMYtsZ",
        "outputId": "2174d5d1-2a61-44ee-a0da-9e1466151c61"
      },
      "execution_count": null,
      "outputs": [
        {
          "output_type": "stream",
          "name": "stdout",
          "text": [
            "Epoch 1/50\n",
            "696/696 [==============================] - 86s 106ms/step - loss: 4.3050 - accuracy: 0.4917 - val_loss: 1.4119 - val_accuracy: 0.8053\n",
            "Epoch 2/50\n",
            "696/696 [==============================] - 49s 70ms/step - loss: 0.7296 - accuracy: 0.8857 - val_loss: 0.4394 - val_accuracy: 0.9372\n",
            "Epoch 3/50\n",
            "696/696 [==============================] - 50s 72ms/step - loss: 0.2459 - accuracy: 0.9559 - val_loss: 0.2251 - val_accuracy: 0.9646\n",
            "Epoch 4/50\n",
            "696/696 [==============================] - 45s 64ms/step - loss: 0.1364 - accuracy: 0.9757 - val_loss: 0.1374 - val_accuracy: 0.9763\n",
            "Epoch 5/50\n",
            "696/696 [==============================] - 49s 71ms/step - loss: 0.0918 - accuracy: 0.9834 - val_loss: 0.0836 - val_accuracy: 0.9857\n",
            "Epoch 6/50\n",
            "696/696 [==============================] - 50s 72ms/step - loss: 0.0674 - accuracy: 0.9880 - val_loss: 0.0618 - val_accuracy: 0.9896\n",
            "Epoch 7/50\n",
            "696/696 [==============================] - 45s 64ms/step - loss: 0.0640 - accuracy: 0.9878 - val_loss: 0.0531 - val_accuracy: 0.9911\n",
            "Epoch 8/50\n",
            "696/696 [==============================] - 49s 71ms/step - loss: 0.0570 - accuracy: 0.9891 - val_loss: 0.0401 - val_accuracy: 0.9939\n",
            "Epoch 9/50\n",
            "696/696 [==============================] - 49s 71ms/step - loss: 0.0486 - accuracy: 0.9906 - val_loss: 0.0361 - val_accuracy: 0.9953\n",
            "Epoch 10/50\n",
            "696/696 [==============================] - 44s 63ms/step - loss: 0.0432 - accuracy: 0.9918 - val_loss: 0.0316 - val_accuracy: 0.9950\n",
            "Epoch 11/50\n",
            "696/696 [==============================] - 49s 70ms/step - loss: 0.0434 - accuracy: 0.9921 - val_loss: 0.0342 - val_accuracy: 0.9950\n",
            "Epoch 12/50\n",
            "696/696 [==============================] - 45s 65ms/step - loss: 0.0383 - accuracy: 0.9927 - val_loss: 0.0280 - val_accuracy: 0.9958\n",
            "Epoch 13/50\n",
            "696/696 [==============================] - 49s 71ms/step - loss: 0.0357 - accuracy: 0.9937 - val_loss: 0.0306 - val_accuracy: 0.9958\n",
            "Epoch 14/50\n",
            "696/696 [==============================] - 49s 71ms/step - loss: 0.0370 - accuracy: 0.9931 - val_loss: 0.0309 - val_accuracy: 0.9952\n",
            "Epoch 15/50\n",
            "696/696 [==============================] - 50s 72ms/step - loss: 0.0362 - accuracy: 0.9929 - val_loss: 0.0244 - val_accuracy: 0.9964\n",
            "Epoch 16/50\n",
            "696/696 [==============================] - 49s 71ms/step - loss: 0.0339 - accuracy: 0.9935 - val_loss: 0.0222 - val_accuracy: 0.9963\n",
            "Epoch 17/50\n",
            "696/696 [==============================] - 50s 71ms/step - loss: 0.0252 - accuracy: 0.9947 - val_loss: 0.0167 - val_accuracy: 0.9968\n",
            "Epoch 18/50\n",
            "696/696 [==============================] - 44s 64ms/step - loss: 0.0250 - accuracy: 0.9944 - val_loss: 0.0174 - val_accuracy: 0.9966\n",
            "Epoch 19/50\n",
            "696/696 [==============================] - 45s 64ms/step - loss: 0.0203 - accuracy: 0.9952 - val_loss: 0.0194 - val_accuracy: 0.9965\n",
            "Epoch 20/50\n",
            "696/696 [==============================] - 49s 71ms/step - loss: 0.0209 - accuracy: 0.9951 - val_loss: 0.0141 - val_accuracy: 0.9973\n",
            "Epoch 21/50\n",
            "696/696 [==============================] - 45s 65ms/step - loss: 0.0197 - accuracy: 0.9949 - val_loss: 0.0136 - val_accuracy: 0.9969\n",
            "Epoch 22/50\n",
            "696/696 [==============================] - 50s 71ms/step - loss: 0.0233 - accuracy: 0.9937 - val_loss: 0.0151 - val_accuracy: 0.9966\n",
            "Epoch 23/50\n",
            "696/696 [==============================] - 45s 64ms/step - loss: 0.0195 - accuracy: 0.9948 - val_loss: 0.0136 - val_accuracy: 0.9971\n"
          ]
        }
      ]
    },
    {
      "cell_type": "code",
      "source": [],
      "metadata": {
        "id": "zUic7Mxlco8x"
      },
      "execution_count": null,
      "outputs": []
    },
    {
      "cell_type": "code",
      "source": [
        "model.save('/content/drive/My Drive/Amharic-Awngi/Models/Amh-Awngi-Transformer_Model_translation_model_June22_3.h5')"
      ],
      "metadata": {
        "colab": {
          "base_uri": "https://localhost:8080/",
          "height": 408
        },
        "id": "Bh5QxaGTYt0u",
        "outputId": "c9504be5-b583-4fee-f71b-68f2ee6102df"
      },
      "execution_count": null,
      "outputs": [
        {
          "output_type": "error",
          "ename": "ValueError",
          "evalue": "Unable to create dataset (name already exists)",
          "traceback": [
            "\u001b[0;31m---------------------------------------------------------------------------\u001b[0m",
            "\u001b[0;31mValueError\u001b[0m                                Traceback (most recent call last)",
            "\u001b[0;32m<ipython-input-28-436e41b1fd0e>\u001b[0m in \u001b[0;36m<cell line: 1>\u001b[0;34m()\u001b[0m\n\u001b[0;32m----> 1\u001b[0;31m \u001b[0mmodel\u001b[0m\u001b[0;34m.\u001b[0m\u001b[0msave\u001b[0m\u001b[0;34m(\u001b[0m\u001b[0;34m'/content/drive/My Drive/Amharic-Awngi/Models/Transformer_Model_translation_model_June22_3.h5'\u001b[0m\u001b[0;34m)\u001b[0m\u001b[0;34m\u001b[0m\u001b[0;34m\u001b[0m\u001b[0m\n\u001b[0m",
            "\u001b[0;32m/usr/local/lib/python3.10/dist-packages/keras/src/utils/traceback_utils.py\u001b[0m in \u001b[0;36merror_handler\u001b[0;34m(*args, **kwargs)\u001b[0m\n\u001b[1;32m     68\u001b[0m     \u001b[0mraises\u001b[0m\u001b[0;34m,\u001b[0m \u001b[0mto\u001b[0m \u001b[0mkeep\u001b[0m \u001b[0mtraceback\u001b[0m \u001b[0mshort\u001b[0m\u001b[0;34m,\u001b[0m \u001b[0mreadable\u001b[0m\u001b[0;34m,\u001b[0m \u001b[0;32mand\u001b[0m \u001b[0mfocused\u001b[0m \u001b[0mon\u001b[0m \u001b[0mwhat\u001b[0m\u001b[0;31m'\u001b[0m\u001b[0ms\u001b[0m\u001b[0;34m\u001b[0m\u001b[0;34m\u001b[0m\u001b[0m\n\u001b[1;32m     69\u001b[0m     \u001b[0mactionable\u001b[0m \u001b[0;32mfor\u001b[0m \u001b[0myou\u001b[0m \u001b[0;34m(\u001b[0m\u001b[0myour\u001b[0m \u001b[0mown\u001b[0m \u001b[0mcode\u001b[0m\u001b[0;34m)\u001b[0m\u001b[0;34m.\u001b[0m\u001b[0;34m\u001b[0m\u001b[0;34m\u001b[0m\u001b[0m\n\u001b[0;32m---> 70\u001b[0;31m \u001b[0;34m\u001b[0m\u001b[0m\n\u001b[0m\u001b[1;32m     71\u001b[0m     \u001b[0mSee\u001b[0m \u001b[0malso\u001b[0m\u001b[0;31m \u001b[0m\u001b[0;31m`\u001b[0m\u001b[0mkeras\u001b[0m\u001b[0;34m.\u001b[0m\u001b[0mconfig\u001b[0m\u001b[0;34m.\u001b[0m\u001b[0menable_traceback_filtering\u001b[0m\u001b[0;34m(\u001b[0m\u001b[0;34m)\u001b[0m\u001b[0;31m`\u001b[0m \u001b[0;32mand\u001b[0m\u001b[0;34m\u001b[0m\u001b[0;34m\u001b[0m\u001b[0m\n\u001b[1;32m     72\u001b[0m     \u001b[0;31m`\u001b[0m\u001b[0mkeras\u001b[0m\u001b[0;34m.\u001b[0m\u001b[0mconfig\u001b[0m\u001b[0;34m.\u001b[0m\u001b[0mdisable_traceback_filtering\u001b[0m\u001b[0;34m(\u001b[0m\u001b[0;34m)\u001b[0m\u001b[0;31m`\u001b[0m\u001b[0;34m.\u001b[0m\u001b[0;34m\u001b[0m\u001b[0;34m\u001b[0m\u001b[0m\n",
            "\u001b[0;32m/usr/local/lib/python3.10/dist-packages/h5py/_hl/group.py\u001b[0m in \u001b[0;36mcreate_dataset\u001b[0;34m(self, name, shape, dtype, data, **kwds)\u001b[0m\n\u001b[1;32m    181\u001b[0m                     \u001b[0mgroup\u001b[0m \u001b[0;34m=\u001b[0m \u001b[0mself\u001b[0m\u001b[0;34m.\u001b[0m\u001b[0mrequire_group\u001b[0m\u001b[0;34m(\u001b[0m\u001b[0mparent_path\u001b[0m\u001b[0;34m)\u001b[0m\u001b[0;34m\u001b[0m\u001b[0;34m\u001b[0m\u001b[0m\n\u001b[1;32m    182\u001b[0m \u001b[0;34m\u001b[0m\u001b[0m\n\u001b[0;32m--> 183\u001b[0;31m             \u001b[0mdsid\u001b[0m \u001b[0;34m=\u001b[0m \u001b[0mdataset\u001b[0m\u001b[0;34m.\u001b[0m\u001b[0mmake_new_dset\u001b[0m\u001b[0;34m(\u001b[0m\u001b[0mgroup\u001b[0m\u001b[0;34m,\u001b[0m \u001b[0mshape\u001b[0m\u001b[0;34m,\u001b[0m \u001b[0mdtype\u001b[0m\u001b[0;34m,\u001b[0m \u001b[0mdata\u001b[0m\u001b[0;34m,\u001b[0m \u001b[0mname\u001b[0m\u001b[0;34m,\u001b[0m \u001b[0;34m**\u001b[0m\u001b[0mkwds\u001b[0m\u001b[0;34m)\u001b[0m\u001b[0;34m\u001b[0m\u001b[0;34m\u001b[0m\u001b[0m\n\u001b[0m\u001b[1;32m    184\u001b[0m             \u001b[0mdset\u001b[0m \u001b[0;34m=\u001b[0m \u001b[0mdataset\u001b[0m\u001b[0;34m.\u001b[0m\u001b[0mDataset\u001b[0m\u001b[0;34m(\u001b[0m\u001b[0mdsid\u001b[0m\u001b[0;34m)\u001b[0m\u001b[0;34m\u001b[0m\u001b[0;34m\u001b[0m\u001b[0m\n\u001b[1;32m    185\u001b[0m             \u001b[0;32mreturn\u001b[0m \u001b[0mdset\u001b[0m\u001b[0;34m\u001b[0m\u001b[0;34m\u001b[0m\u001b[0m\n",
            "\u001b[0;32m/usr/local/lib/python3.10/dist-packages/h5py/_hl/dataset.py\u001b[0m in \u001b[0;36mmake_new_dset\u001b[0;34m(parent, shape, dtype, data, name, chunks, compression, shuffle, fletcher32, maxshape, compression_opts, fillvalue, scaleoffset, track_times, external, track_order, dcpl, dapl, efile_prefix, virtual_prefix, allow_unknown_filter, rdcc_nslots, rdcc_nbytes, rdcc_w0)\u001b[0m\n\u001b[1;32m    161\u001b[0m         \u001b[0msid\u001b[0m \u001b[0;34m=\u001b[0m \u001b[0mh5s\u001b[0m\u001b[0;34m.\u001b[0m\u001b[0mcreate_simple\u001b[0m\u001b[0;34m(\u001b[0m\u001b[0mshape\u001b[0m\u001b[0;34m,\u001b[0m \u001b[0mmaxshape\u001b[0m\u001b[0;34m)\u001b[0m\u001b[0;34m\u001b[0m\u001b[0;34m\u001b[0m\u001b[0m\n\u001b[1;32m    162\u001b[0m \u001b[0;34m\u001b[0m\u001b[0m\n\u001b[0;32m--> 163\u001b[0;31m     \u001b[0mdset_id\u001b[0m \u001b[0;34m=\u001b[0m \u001b[0mh5d\u001b[0m\u001b[0;34m.\u001b[0m\u001b[0mcreate\u001b[0m\u001b[0;34m(\u001b[0m\u001b[0mparent\u001b[0m\u001b[0;34m.\u001b[0m\u001b[0mid\u001b[0m\u001b[0;34m,\u001b[0m \u001b[0mname\u001b[0m\u001b[0;34m,\u001b[0m \u001b[0mtid\u001b[0m\u001b[0;34m,\u001b[0m \u001b[0msid\u001b[0m\u001b[0;34m,\u001b[0m \u001b[0mdcpl\u001b[0m\u001b[0;34m=\u001b[0m\u001b[0mdcpl\u001b[0m\u001b[0;34m,\u001b[0m \u001b[0mdapl\u001b[0m\u001b[0;34m=\u001b[0m\u001b[0mdapl\u001b[0m\u001b[0;34m)\u001b[0m\u001b[0;34m\u001b[0m\u001b[0;34m\u001b[0m\u001b[0m\n\u001b[0m\u001b[1;32m    164\u001b[0m \u001b[0;34m\u001b[0m\u001b[0m\n\u001b[1;32m    165\u001b[0m     \u001b[0;32mif\u001b[0m \u001b[0;34m(\u001b[0m\u001b[0mdata\u001b[0m \u001b[0;32mis\u001b[0m \u001b[0;32mnot\u001b[0m \u001b[0;32mNone\u001b[0m\u001b[0;34m)\u001b[0m \u001b[0;32mand\u001b[0m \u001b[0;34m(\u001b[0m\u001b[0;32mnot\u001b[0m \u001b[0misinstance\u001b[0m\u001b[0;34m(\u001b[0m\u001b[0mdata\u001b[0m\u001b[0;34m,\u001b[0m \u001b[0mEmpty\u001b[0m\u001b[0;34m)\u001b[0m\u001b[0;34m)\u001b[0m\u001b[0;34m:\u001b[0m\u001b[0;34m\u001b[0m\u001b[0;34m\u001b[0m\u001b[0m\n",
            "\u001b[0;32mh5py/_objects.pyx\u001b[0m in \u001b[0;36mh5py._objects.with_phil.wrapper\u001b[0;34m()\u001b[0m\n",
            "\u001b[0;32mh5py/_objects.pyx\u001b[0m in \u001b[0;36mh5py._objects.with_phil.wrapper\u001b[0;34m()\u001b[0m\n",
            "\u001b[0;32mh5py/h5d.pyx\u001b[0m in \u001b[0;36mh5py.h5d.create\u001b[0;34m()\u001b[0m\n",
            "\u001b[0;31mValueError\u001b[0m: Unable to create dataset (name already exists)"
          ]
        }
      ]
    },
    {
      "cell_type": "code",
      "source": [],
      "metadata": {
        "id": "689gfYe9cpz-"
      },
      "execution_count": null,
      "outputs": []
    },
    {
      "cell_type": "code",
      "source": [
        "import seaborn as sns\n",
        "import matplotlib.pyplot as plt\n",
        "%matplotlib inline\n",
        "sns.set()\n",
        "\n",
        "acc = hist.history['accuracy']\n",
        "val = hist.history['val_accuracy']\n",
        "epochs = range(1, len(acc) + 1)\n",
        "\n",
        "plt.plot(epochs, acc, '-', label='Training accuracy')\n",
        "plt.plot(epochs, val, ':', label='Validation accuracy')\n",
        "plt.title('Training and Validation Accuracy')\n",
        "plt.xlabel('Epoch')\n",
        "plt.ylabel('Accuracy')\n",
        "plt.legend(loc='lower right')\n",
        "plt.plot()"
      ],
      "metadata": {
        "colab": {
          "base_uri": "https://localhost:8080/",
          "height": 497
        },
        "id": "9GyWAVhiYt3T",
        "outputId": "7c7c4183-550c-4a2f-83ce-bf6612bf6dd0"
      },
      "execution_count": null,
      "outputs": [
        {
          "output_type": "execute_result",
          "data": {
            "text/plain": [
              "[]"
            ]
          },
          "metadata": {},
          "execution_count": 29
        },
        {
          "output_type": "display_data",
          "data": {
            "text/plain": [
              "<Figure size 640x480 with 1 Axes>"
            ],
            "image/png": "[encoded data removed]"
          },
          "metadata": {}
        }
      ]
    },
    {
      "cell_type": "code",
      "source": [],
      "metadata": {
        "id": "XPZOwC3RYt5q"
      },
      "execution_count": null,
      "outputs": []
    },
    {
      "cell_type": "code",
      "source": [
        "def translate_text(text, model, am_tokenizer, aw_tokenizer, aw_index_lookup, sequence_len):\n",
        "    input_sequence = am_tokenizer.texts_to_sequences([text])\n",
        "    padded_input_sequence = pad_sequences(input_sequence, maxlen=sequence_len, padding='post')\n",
        "    decoded_text = '[start]'\n",
        "\n",
        "    for i in range(sequence_len):\n",
        "        target_sequence = aw_tokenizer.texts_to_sequences([decoded_text])\n",
        "        padded_target_sequence = pad_sequences(target_sequence, maxlen=sequence_len, padding='post')[:, :-1]\n",
        "\n",
        "        prediction = model([padded_input_sequence, padded_target_sequence])\n",
        "\n",
        "        idx = np.argmax(prediction[0, i, :]) - 1\n",
        "        token = aw_index_lookup[idx]\n",
        "        decoded_text += ' ' + token\n",
        "\n",
        "        if token == '[end]':\n",
        "            break\n",
        "\n",
        "    return decoded_text[8:-6] # Remove [start] and [end] tokens\n",
        "\n",
        "aw_vocab = aw_tokenizer.word_index\n",
        "aw_index_lookup = dict(zip(range(len(aw_vocab)), aw_vocab))\n",
        "texts = am[1:500].values\n",
        "\n",
        "for text in texts:\n",
        "    translated = translate_text(text, model, am_tokenizer, aw_tokenizer, aw_index_lookup, sequence_len)\n",
        "    print(f'{text} => {translated}')"
      ],
      "metadata": {
        "colab": {
          "base_uri": "https://localhost:8080/"
        },
        "id": "09X0GMRkYt8F",
        "outputId": "264aec9f-71f5-405e-9472-d9b0e6f2fb8f"
      },
      "execution_count": null,
      "outputs": [
        {
          "output_type": "stream",
          "name": "stdout",
          "text": [
            "የደንብ ልብሳቸውን ለበሱ፡፡ => ዴንቡሳ ስዮ ሴዩና\n",
            "እጃቸውንና ፊታቸውን ታጠቡ፡፡ => ታፎስታ እላፎ ቑሲና\n",
            "ደብተራቸውን፣ መፅሃፋቸውን፣ እርሳስና እስክርቢቷቸውን ወደ ቦርሳቸው ከተቱ፡፡ => ዴብቴሮ፡ ሜፃፎ፡እርሳሶስታ እስክርቢቶ ቦርሳሾ ኬቴቱና።\n",
            "ወደ ትምህርት ቤት ሄዱ፡፡ => ትምርት ጝናሾ ካሱና።\n",
            "ከእንቅልፋቸው ተነሱ፡፡ => ሳቄናዴስ ጁና።\n",
            "ቦርሳቸውን ያዙ፡፡ => ቦርሳዋ እሚና\n",
            "የፒያሳ ልጆች መልካሞች ስለሆኑ የተቸገረን ይረዳሉ፡፡ => ፒያሳኩ ጀርካ ክርፅካ ኣኽጝስ ቸጌርስትኹሳ እርዳታና።\n",
            "ኢትዮጵያ የጀግኖች ሀገር እንጂ የሌቦች አይደለችም፡፡ => ኢቶጵያ ጅግንካት ኣጌራ ጉ ዳዴኽካት ጋቲቲ።\n",
            "ሰአዳ መምህር እንጂ ሃኪም አይደለችም፡፡ => ሰኣዳ ክትፃንታ ጉ ሐኪማ ጋቲቲ።\n"
          ]
        }
      ]
    },
    {
      "cell_type": "code",
      "source": [],
      "metadata": {
        "id": "fIu0cxL8Yt-W"
      },
      "execution_count": null,
      "outputs": []
    },
    {
      "cell_type": "code",
      "source": [
        "translate_text('እጃቸውንና ፊታቸውን ታጠቡ፡፡', model, am_tokenizer, aw_tokenizer, aw_index_lookup, sequence_len)"
      ],
      "metadata": {
        "colab": {
          "base_uri": "https://localhost:8080/",
          "height": 35
        },
        "id": "XK9E6bT_YHWt",
        "outputId": "58581bb6-51dc-40f6-f0e3-7d94294ae1b6"
      },
      "execution_count": null,
      "outputs": [
        {
          "output_type": "execute_result",
          "data": {
            "text/plain": [
              "'ታፎስታ እላፎ ቑሲና'"
            ],
            "application/vnd.google.colaboratory.intrinsic+json": {
              "type": "string"
            }
          },
          "metadata": {},
          "execution_count": 31
        }
      ]
    },
    {
      "cell_type": "code",
      "source": [],
      "metadata": {
        "id": "j_zsy88fmcxe"
      },
      "execution_count": null,
      "outputs": []
    },
    {
      "cell_type": "code",
      "source": [],
      "metadata": {
        "id": "nA0DSGxHmczy"
      },
      "execution_count": null,
      "outputs": []
    },
    {
      "cell_type": "code",
      "source": [
        "!pip install sacrebleu\n",
        "import sacrebleu\n",
        "\n",
        "def translate_text(text, model, am_tokenizer, aw_tokenizer, aw_index_lookup, sequence_len):\n",
        "    input_sequence = am_tokenizer.texts_to_sequences([text])\n",
        "    padded_input_sequence = pad_sequences(input_sequence, maxlen=sequence_len, padding='post')\n",
        "    decoded_text = '[start]'\n",
        "\n",
        "    for i in range(sequence_len):\n",
        "        target_sequence = aw_tokenizer.texts_to_sequences([decoded_text])\n",
        "        padded_target_sequence = pad_sequences(target_sequence, maxlen=sequence_len, padding='post')[:, :-1]\n",
        "\n",
        "        prediction = model([padded_input_sequence, padded_target_sequence])\n",
        "\n",
        "        idx = np.argmax(prediction[0, i, :]) - 1\n",
        "        token = aw_index_lookup[idx]\n",
        "        decoded_text += ' ' + token\n",
        "\n",
        "        if token == '[end]':\n",
        "            break\n",
        "\n",
        "    return decoded_text[8:-6] # Remove [start] and [end] tokens\n",
        "\n",
        "def calculate_bleu_score(reference_texts, candidate_texts):\n",
        "    \"\"\"\n",
        "    Calculate the average BLEU score between the reference texts and the candidate texts.\n",
        "    \"\"\"\n",
        "    total_bleu_score = 0\n",
        "    for reference, candidate in zip(reference_texts, candidate_texts):\n",
        "        bleu = sacrebleu.corpus_bleu([candidate], [[reference]])\n",
        "        total_bleu_score += bleu.score\n",
        "\n",
        "    average_bleu_score = total_bleu_score / len(reference_texts)\n",
        "    return average_bleu_score\n",
        "\n",
        "# Store the reference French texts and the candidate translated texts\n",
        "reference_texts = aw[1:500].values\n",
        "candidate_texts = []\n",
        "\n",
        "for text in en[1:10].values:\n",
        "    translated = translate_text(text, model, am_tokenizer, aw_tokenizer, aw_index_lookup, sequence_len)\n",
        "    candidate_texts.append(translated)\n",
        "    print(f'{text} => {translated}')\n",
        "\n",
        "# Calculate the average BLEU score\n",
        "average_bleu_score = calculate_bleu_score(reference_texts, candidate_texts)\n",
        "print(f\"Average BLEU score: {average_bleu_score:.2f}\")"
      ],
      "metadata": {
        "colab": {
          "base_uri": "https://localhost:8080/"
        },
        "id": "NnOB5uUhmc2H",
        "outputId": "5e6ad40d-2649-4f3a-fef1-df945922f0a8"
      },
      "execution_count": null,
      "outputs": [
        {
          "output_type": "stream",
          "name": "stdout",
          "text": [
            "Collecting sacrebleu\n",
            "  Downloading sacrebleu-2.4.2-py3-none-any.whl (106 kB)\n",
            "\u001b[?25l     \u001b[90m━━━━━━━━━━━━━━━━━━━━━━━━━━━━━━━━━━━━━━━━\u001b[0m \u001b[32m0.0/106.7 kB\u001b[0m \u001b[31m?\u001b[0m eta \u001b[36m-:--:--\u001b[0m\r\u001b[2K     \u001b[90m━━━━━━━━━━━━━━━━━━━━━━━━━━━━━━━━━━━━━━━━\u001b[0m \u001b[32m106.7/106.7 kB\u001b[0m \u001b[31m3.8 MB/s\u001b[0m eta \u001b[36m0:00:00\u001b[0m\n",
            "\u001b[?25hCollecting portalocker (from sacrebleu)\n",
            "  Downloading portalocker-2.8.2-py3-none-any.whl (17 kB)\n",
            "Requirement already satisfied: regex in /usr/local/lib/python3.10/dist-packages (from sacrebleu) (2024.5.15)\n",
            "Requirement already satisfied: tabulate>=0.8.9 in /usr/local/lib/python3.10/dist-packages (from sacrebleu) (0.9.0)\n",
            "Requirement already satisfied: numpy>=1.17 in /usr/local/lib/python3.10/dist-packages (from sacrebleu) (1.25.2)\n",
            "Collecting colorama (from sacrebleu)\n",
            "  Downloading colorama-0.4.6-py2.py3-none-any.whl (25 kB)\n",
            "Requirement already satisfied: lxml in /usr/local/lib/python3.10/dist-packages (from sacrebleu) (4.9.4)\n",
            "Installing collected packages: portalocker, colorama, sacrebleu\n",
            "Successfully installed colorama-0.4.6 portalocker-2.8.2 sacrebleu-2.4.2\n",
            "የደንብ ልብሳቸውን ለበሱ፡፡ => ዴንቡሳ ስዮ ሴዩና\n",
            "እጃቸውንና ፊታቸውን ታጠቡ፡፡ => ታፎስታ እላፎ ቑሲና\n",
            "ደብተራቸውን፣ መፅሃፋቸውን፣ እርሳስና እስክርቢቷቸውን ወደ ቦርሳቸው ከተቱ፡፡ => ዴብቴሮ፡ ሜፃፎ፡እርሳሶስታ እስክርቢቶ ቦርሳሾ ኬቴቱና።\n",
            "ወደ ትምህርት ቤት ሄዱ፡፡ => ትምርት ጝናሾ ካሱና።\n",
            "ከእንቅልፋቸው ተነሱ፡፡ => ሳቄናዴስ ጁና።\n",
            "ቦርሳቸውን ያዙ፡፡ => ቦርሳዋ እሚና\n",
            "የፒያሳ ልጆች መልካሞች ስለሆኑ የተቸገረን ይረዳሉ፡፡ => ፒያሳኩ ጀርካ ክርፅካ ኣኽጝስ ቸጌርስትኹሳ እርዳታና።\n",
            "ኢትዮጵያ የጀግኖች ሀገር እንጂ የሌቦች አይደለችም፡፡ => ኢቶጵያ ጅግንካት ኣጌራ ጉ ዳዴኽካት ጋቲቲ።\n",
            "ሰአዳ መምህር እንጂ ሃኪም አይደለችም፡፡ => ሰኣዳ ክትፃንታ ጉ ሐኪማ ጋቲቲ።\n",
            "Average BLEU score: 14.87\n"
          ]
        }
      ]
    },
    {
      "cell_type": "code",
      "source": [],
      "metadata": {
        "id": "HvZdfwJSmc4j"
      },
      "execution_count": null,
      "outputs": []
    },
    {
      "cell_type": "code",
      "source": [],
      "metadata": {
        "id": "E3jin9pqmc6s"
      },
      "execution_count": null,
      "outputs": []
    },
    {
      "cell_type": "code",
      "source": [],
      "metadata": {
        "id": "Glmdopoxmc-R"
      },
      "execution_count": null,
      "outputs": []
    },
    {
      "cell_type": "code",
      "source": [],
      "metadata": {
        "id": "OoCZ88sQYHaD"
      },
      "execution_count": null,
      "outputs": []
    },
    {
      "cell_type": "markdown",
      "metadata": {
        "id": "llGcRk22T4va"
      },
      "source": []
    }
  ],
  "metadata": {
    "kernelspec": {
      "display_name": "Python 3",
      "name": "python3"
    },
    "language_info": {
      "codemirror_mode": {
        "name": "ipython",
        "version": 3
      },
      "file_extension": ".py",
      "mimetype": "text/x-python",
      "name": "python",
      "nbconvert_exporter": "python",
      "pygments_lexer": "ipython3",
      "version": "3.8.5"
    },
    "colab": {
      "provenance": [],
      "gpuType": "T4"
    },
    "accelerator": "GPU"
  },
  "nbformat": 4,
  "nbformat_minor": 0
}